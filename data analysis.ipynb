{
 "cells": [
  {
   "cell_type": "markdown",
   "id": "e25fc517",
   "metadata": {},
   "source": [
    "# ECOMMERCE STORE DATA ANALYSIS"
   ]
  },
  {
   "cell_type": "markdown",
   "id": "bb74f04c",
   "metadata": {},
   "source": [
    "In this data analysis project, various aspects of user behavior were analyzed to gain insights\n"
   ]
  },
  {
   "cell_type": "markdown",
   "id": "a679adab",
   "metadata": {},
   "source": [
    "---"
   ]
  },
  {
   "cell_type": "markdown",
   "id": "3c3df6d4",
   "metadata": {},
   "source": [
    "## Importing dependencies"
   ]
  },
  {
   "cell_type": "code",
   "execution_count": 173,
   "id": "d3f9f6ec",
   "metadata": {},
   "outputs": [],
   "source": [
    "import pandas as pd\n",
    "import matplotlib.pyplot as plt\n",
    "import plotly.graph_objs as go\n",
    "import plotly.express as px\n",
    "import seaborn as sns\n",
    "# include kpi"
   ]
  },
  {
   "cell_type": "markdown",
   "id": "e36e6fa3",
   "metadata": {},
   "source": [
    "---"
   ]
  },
  {
   "cell_type": "markdown",
   "id": "ce59ab31",
   "metadata": {},
   "source": [
    "## Loading the Datasets"
   ]
  },
  {
   "cell_type": "markdown",
   "id": "5d4cce1d",
   "metadata": {},
   "source": [
    "### •  Jan-Feb data"
   ]
  },
  {
   "cell_type": "code",
   "execution_count": 174,
   "id": "4ab3893d",
   "metadata": {},
   "outputs": [
    {
     "name": "stderr",
     "output_type": "stream",
     "text": [
      "c:\\users\\durgesh patil\\appdata\\local\\programs\\python\\python38\\lib\\site-packages\\IPython\\core\\interactiveshell.py:3444: DtypeWarning:\n",
      "\n",
      "Columns (37,42,47) have mixed types.Specify dtype option on import or set low_memory=False.\n",
      "\n"
     ]
    }
   ],
   "source": [
    "# load the data\n",
    "pd.set_option('display.max_columns', None)   # to see all the available columns in the dataframe\n",
    "jan_feb = pd.read_csv(\"jan-feb-Data.csv\")"
   ]
  },
  {
   "cell_type": "code",
   "execution_count": 175,
   "id": "da647eef",
   "metadata": {
    "scrolled": false
   },
   "outputs": [
    {
     "data": {
      "text/html": [
       "<div>\n",
       "<style scoped>\n",
       "    .dataframe tbody tr th:only-of-type {\n",
       "        vertical-align: middle;\n",
       "    }\n",
       "\n",
       "    .dataframe tbody tr th {\n",
       "        vertical-align: top;\n",
       "    }\n",
       "\n",
       "    .dataframe thead th {\n",
       "        text-align: right;\n",
       "    }\n",
       "</style>\n",
       "<table border=\"1\" class=\"dataframe\">\n",
       "  <thead>\n",
       "    <tr style=\"text-align: right;\">\n",
       "      <th></th>\n",
       "      <th>user_id</th>\n",
       "      <th>order_number</th>\n",
       "      <th>invoice_number</th>\n",
       "      <th>order_date</th>\n",
       "      <th>status</th>\n",
       "      <th>vinculum_status</th>\n",
       "      <th>transporter</th>\n",
       "      <th>tracking_number</th>\n",
       "      <th>transporterstatusremark</th>\n",
       "      <th>transporterstatus</th>\n",
       "      <th>quantity</th>\n",
       "      <th>sku</th>\n",
       "      <th>name</th>\n",
       "      <th>mrp</th>\n",
       "      <th>price</th>\n",
       "      <th>total_order_amount</th>\n",
       "      <th>payment_method</th>\n",
       "      <th>payment_gateway</th>\n",
       "      <th>payment_reference</th>\n",
       "      <th>first_name</th>\n",
       "      <th>last_name</th>\n",
       "      <th>mobile</th>\n",
       "      <th>email</th>\n",
       "      <th>pincode</th>\n",
       "      <th>address_line_1</th>\n",
       "      <th>address_line_2</th>\n",
       "      <th>city</th>\n",
       "      <th>state</th>\n",
       "      <th>promocode</th>\n",
       "      <th>total_discount</th>\n",
       "      <th>total_shipping_charges</th>\n",
       "      <th>total_store_credit</th>\n",
       "      <th>total_earn_points</th>\n",
       "      <th>total_wallet</th>\n",
       "      <th>first_utm_source</th>\n",
       "      <th>first_utm_medium</th>\n",
       "      <th>first_utm_campaign</th>\n",
       "      <th>first_utm_term</th>\n",
       "      <th>first_utm_content</th>\n",
       "      <th>last_utm_source</th>\n",
       "      <th>last_utm_medium</th>\n",
       "      <th>last_utm_campaign</th>\n",
       "      <th>last_utm_term</th>\n",
       "      <th>last_utm_content</th>\n",
       "      <th>utm_source</th>\n",
       "      <th>utm_medium</th>\n",
       "      <th>utm_campaign</th>\n",
       "      <th>utm_term</th>\n",
       "      <th>utm_content</th>\n",
       "      <th>referrer_url</th>\n",
       "      <th>referrer_domain</th>\n",
       "      <th>lat</th>\n",
       "      <th>lng</th>\n",
       "      <th>address</th>\n",
       "      <th>device_type</th>\n",
       "      <th>new_user</th>\n",
       "      <th>delivery_min</th>\n",
       "      <th>delivery_max</th>\n",
       "      <th>delivery_description</th>\n",
       "    </tr>\n",
       "  </thead>\n",
       "  <tbody>\n",
       "    <tr>\n",
       "      <th>0</th>\n",
       "      <td>43080</td>\n",
       "      <td>S2302280036258</td>\n",
       "      <td>I-S2302280036258</td>\n",
       "      <td>2023-02-28 23:58:10</td>\n",
       "      <td>Delivered</td>\n",
       "      <td>NaN</td>\n",
       "      <td>NaN</td>\n",
       "      <td>NaN</td>\n",
       "      <td>NaN</td>\n",
       "      <td>NaN</td>\n",
       "      <td>1</td>\n",
       "      <td>231611127AF</td>\n",
       "      <td>Banana Yelakki - 500 Gm</td>\n",
       "      <td>69</td>\n",
       "      <td>69</td>\n",
       "      <td>440</td>\n",
       "      <td>online</td>\n",
       "      <td>juspay</td>\n",
       "      <td>order_rcptid_151158</td>\n",
       "      <td>Milind</td>\n",
       "      <td>Toraskar</td>\n",
       "      <td>9.619998e+09</td>\n",
       "      <td>pri.toraskar@gmail.com</td>\n",
       "      <td>400081.0</td>\n",
       "      <td>C-702, Sainath Tower, Neelam Nagar Phase -2, M...</td>\n",
       "      <td>Opp Wamanrao Murunjan School</td>\n",
       "      <td>Mulund East</td>\n",
       "      <td>Maharashtra</td>\n",
       "      <td>FREEWTRMLN</td>\n",
       "      <td>46</td>\n",
       "      <td>0</td>\n",
       "      <td>162</td>\n",
       "      <td>66</td>\n",
       "      <td>0</td>\n",
       "      <td>Push</td>\n",
       "      <td>marketing</td>\n",
       "      <td>r_pn - frozen berries winter specials 0712</td>\n",
       "      <td>NaN</td>\n",
       "      <td>NaN</td>\n",
       "      <td>Whatsapp</td>\n",
       "      <td>marketing</td>\n",
       "      <td>WA - feb 1 order power user rem 2202</td>\n",
       "      <td>NaN</td>\n",
       "      <td>NaN</td>\n",
       "      <td>NaN</td>\n",
       "      <td>NaN</td>\n",
       "      <td>NaN</td>\n",
       "      <td>NaN</td>\n",
       "      <td>NaN</td>\n",
       "      <td>NaN</td>\n",
       "      <td>NaN</td>\n",
       "      <td>19.168467</td>\n",
       "      <td>72.962545</td>\n",
       "      <td>1, Navghar Rd, Deendayal Nagar, Mulund East, M...</td>\n",
       "      <td>android</td>\n",
       "      <td>0</td>\n",
       "      <td>2023-03-01 15:00:00</td>\n",
       "      <td>2023-03-01 21:00:00</td>\n",
       "      <td>Delivery on 1st Mar, 3PM - 9PM</td>\n",
       "    </tr>\n",
       "  </tbody>\n",
       "</table>\n",
       "</div>"
      ],
      "text/plain": [
       "   user_id    order_number    invoice_number           order_date     status  \\\n",
       "0    43080  S2302280036258  I-S2302280036258  2023-02-28 23:58:10  Delivered   \n",
       "\n",
       "   vinculum_status  transporter  tracking_number  transporterstatusremark  \\\n",
       "0              NaN          NaN              NaN                      NaN   \n",
       "\n",
       "   transporterstatus  quantity          sku                     name  mrp  \\\n",
       "0                NaN         1  231611127AF  Banana Yelakki - 500 Gm   69   \n",
       "\n",
       "   price  total_order_amount payment_method payment_gateway  \\\n",
       "0     69                 440         online          juspay   \n",
       "\n",
       "     payment_reference first_name last_name        mobile  \\\n",
       "0  order_rcptid_151158     Milind  Toraskar  9.619998e+09   \n",
       "\n",
       "                    email   pincode  \\\n",
       "0  pri.toraskar@gmail.com  400081.0   \n",
       "\n",
       "                                      address_line_1  \\\n",
       "0  C-702, Sainath Tower, Neelam Nagar Phase -2, M...   \n",
       "\n",
       "                 address_line_2         city        state   promocode  \\\n",
       "0  Opp Wamanrao Murunjan School  Mulund East  Maharashtra  FREEWTRMLN   \n",
       "\n",
       "   total_discount  total_shipping_charges  total_store_credit  \\\n",
       "0              46                       0                 162   \n",
       "\n",
       "   total_earn_points  total_wallet first_utm_source first_utm_medium  \\\n",
       "0                 66             0             Push        marketing   \n",
       "\n",
       "                           first_utm_campaign first_utm_term  \\\n",
       "0  r_pn - frozen berries winter specials 0712            NaN   \n",
       "\n",
       "  first_utm_content last_utm_source last_utm_medium  \\\n",
       "0               NaN        Whatsapp       marketing   \n",
       "\n",
       "                      last_utm_campaign last_utm_term last_utm_content  \\\n",
       "0  WA - feb 1 order power user rem 2202           NaN              NaN   \n",
       "\n",
       "  utm_source utm_medium utm_campaign utm_term utm_content referrer_url  \\\n",
       "0        NaN        NaN          NaN      NaN         NaN          NaN   \n",
       "\n",
       "  referrer_domain        lat        lng  \\\n",
       "0             NaN  19.168467  72.962545   \n",
       "\n",
       "                                             address device_type  new_user  \\\n",
       "0  1, Navghar Rd, Deendayal Nagar, Mulund East, M...     android         0   \n",
       "\n",
       "          delivery_min         delivery_max            delivery_description  \n",
       "0  2023-03-01 15:00:00  2023-03-01 21:00:00  Delivery on 1st Mar, 3PM - 9PM  "
      ]
     },
     "execution_count": 175,
     "metadata": {},
     "output_type": "execute_result"
    }
   ],
   "source": [
    "jan_feb.head(1)"
   ]
  },
  {
   "cell_type": "code",
   "execution_count": 176,
   "id": "696205c4",
   "metadata": {},
   "outputs": [
    {
     "data": {
      "text/plain": [
       "Delivered    197912\n",
       "Cancelled      2975\n",
       "Shipped         291\n",
       "placed            6\n",
       "Name: status, dtype: int64"
      ]
     },
     "execution_count": 176,
     "metadata": {},
     "output_type": "execute_result"
    }
   ],
   "source": [
    "jan_feb['status'].value_counts()"
   ]
  },
  {
   "cell_type": "markdown",
   "id": "8581088e",
   "metadata": {},
   "source": [
    "### • Nov-Dec data"
   ]
  },
  {
   "cell_type": "code",
   "execution_count": 177,
   "id": "8b5b2f42",
   "metadata": {},
   "outputs": [
    {
     "name": "stderr",
     "output_type": "stream",
     "text": [
      "c:\\users\\durgesh patil\\appdata\\local\\programs\\python\\python38\\lib\\site-packages\\IPython\\core\\interactiveshell.py:3444: DtypeWarning:\n",
      "\n",
      "Columns (5,6,7,8,9) have mixed types.Specify dtype option on import or set low_memory=False.\n",
      "\n"
     ]
    }
   ],
   "source": [
    "pd.set_option('display.max_columns', None)   # to see all the available columns in the dataframe\n",
    "nov_dec = pd.read_csv(\"nov-dec-Data.csv\")"
   ]
  },
  {
   "cell_type": "code",
   "execution_count": 178,
   "id": "53ad6409",
   "metadata": {},
   "outputs": [
    {
     "data": {
      "text/html": [
       "<div>\n",
       "<style scoped>\n",
       "    .dataframe tbody tr th:only-of-type {\n",
       "        vertical-align: middle;\n",
       "    }\n",
       "\n",
       "    .dataframe tbody tr th {\n",
       "        vertical-align: top;\n",
       "    }\n",
       "\n",
       "    .dataframe thead th {\n",
       "        text-align: right;\n",
       "    }\n",
       "</style>\n",
       "<table border=\"1\" class=\"dataframe\">\n",
       "  <thead>\n",
       "    <tr style=\"text-align: right;\">\n",
       "      <th></th>\n",
       "      <th>user_id</th>\n",
       "      <th>order_number</th>\n",
       "      <th>invoice_number</th>\n",
       "      <th>order_date</th>\n",
       "      <th>status</th>\n",
       "      <th>vinculum_status</th>\n",
       "      <th>transporter</th>\n",
       "      <th>tracking_number</th>\n",
       "      <th>transporterstatusremark</th>\n",
       "      <th>transporterstatus</th>\n",
       "      <th>quantity</th>\n",
       "      <th>sku</th>\n",
       "      <th>name</th>\n",
       "      <th>mrp</th>\n",
       "      <th>price</th>\n",
       "      <th>total_order_amount</th>\n",
       "      <th>payment_method</th>\n",
       "      <th>payment_gateway</th>\n",
       "      <th>payment_reference</th>\n",
       "      <th>first_name</th>\n",
       "      <th>last_name</th>\n",
       "      <th>mobile</th>\n",
       "      <th>email</th>\n",
       "      <th>pincode</th>\n",
       "      <th>address_line_1</th>\n",
       "      <th>address_line_2</th>\n",
       "      <th>city</th>\n",
       "      <th>state</th>\n",
       "      <th>promocode</th>\n",
       "      <th>total_discount</th>\n",
       "      <th>total_shipping_charges</th>\n",
       "      <th>total_store_credit</th>\n",
       "      <th>total_earn_points</th>\n",
       "      <th>total_wallet</th>\n",
       "      <th>first_utm_source</th>\n",
       "      <th>first_utm_medium</th>\n",
       "      <th>first_utm_campaign</th>\n",
       "      <th>first_utm_term</th>\n",
       "      <th>first_utm_content</th>\n",
       "      <th>last_utm_source</th>\n",
       "      <th>last_utm_medium</th>\n",
       "      <th>last_utm_campaign</th>\n",
       "      <th>last_utm_term</th>\n",
       "      <th>last_utm_content</th>\n",
       "      <th>utm_source</th>\n",
       "      <th>utm_medium</th>\n",
       "      <th>utm_campaign</th>\n",
       "      <th>utm_term</th>\n",
       "      <th>utm_content</th>\n",
       "      <th>referrer_url</th>\n",
       "      <th>referrer_domain</th>\n",
       "      <th>lat</th>\n",
       "      <th>lng</th>\n",
       "      <th>address</th>\n",
       "      <th>device_type</th>\n",
       "      <th>new_user</th>\n",
       "      <th>delivery_min</th>\n",
       "      <th>delivery_max</th>\n",
       "      <th>delivery_description</th>\n",
       "    </tr>\n",
       "  </thead>\n",
       "  <tbody>\n",
       "    <tr>\n",
       "      <th>0</th>\n",
       "      <td>33638</td>\n",
       "      <td>P2212310039537</td>\n",
       "      <td>I-P2212310039537</td>\n",
       "      <td>2022-12-31 23:58:55</td>\n",
       "      <td>Delivered</td>\n",
       "      <td>NaN</td>\n",
       "      <td>NaN</td>\n",
       "      <td>NaN</td>\n",
       "      <td>NaN</td>\n",
       "      <td>NaN</td>\n",
       "      <td>1</td>\n",
       "      <td>112511259BJ</td>\n",
       "      <td>Onion - 5 KG</td>\n",
       "      <td>189</td>\n",
       "      <td>174</td>\n",
       "      <td>1148</td>\n",
       "      <td>online</td>\n",
       "      <td>juspay</td>\n",
       "      <td>order_rcptid_110798</td>\n",
       "      <td>Eudes</td>\n",
       "      <td>A</td>\n",
       "      <td>8080232268</td>\n",
       "      <td>eudesmenezes39@gmail.com</td>\n",
       "      <td>400089</td>\n",
       "      <td>A/4 Saubhagya, Chheda Nagar, Chembur, Mumbai 4...</td>\n",
       "      <td>Near Modern English School</td>\n",
       "      <td>Mumbai Suburban</td>\n",
       "      <td>Maharashtra</td>\n",
       "      <td>PLUCKK125</td>\n",
       "      <td>125</td>\n",
       "      <td>0</td>\n",
       "      <td>0</td>\n",
       "      <td>172</td>\n",
       "      <td>0</td>\n",
       "      <td>NaN</td>\n",
       "      <td>NaN</td>\n",
       "      <td>NaN</td>\n",
       "      <td>NaN</td>\n",
       "      <td>NaN</td>\n",
       "      <td>NaN</td>\n",
       "      <td>NaN</td>\n",
       "      <td>NaN</td>\n",
       "      <td>NaN</td>\n",
       "      <td>NaN</td>\n",
       "      <td>NaN</td>\n",
       "      <td>NaN</td>\n",
       "      <td>NaN</td>\n",
       "      <td>NaN</td>\n",
       "      <td>NaN</td>\n",
       "      <td>NaN</td>\n",
       "      <td>NaN</td>\n",
       "      <td>19.072899</td>\n",
       "      <td>72.903091</td>\n",
       "      <td>NaN</td>\n",
       "      <td>android</td>\n",
       "      <td>0</td>\n",
       "      <td>2023-01-01 15:00:00</td>\n",
       "      <td>2023-01-01 21:00:00</td>\n",
       "      <td>Delivery on 1st Jan, 3PM - 9PM</td>\n",
       "    </tr>\n",
       "  </tbody>\n",
       "</table>\n",
       "</div>"
      ],
      "text/plain": [
       "   user_id    order_number    invoice_number           order_date     status  \\\n",
       "0    33638  P2212310039537  I-P2212310039537  2022-12-31 23:58:55  Delivered   \n",
       "\n",
       "  vinculum_status transporter tracking_number transporterstatusremark  \\\n",
       "0             NaN         NaN             NaN                     NaN   \n",
       "\n",
       "  transporterstatus  quantity          sku          name  mrp  price  \\\n",
       "0               NaN         1  112511259BJ  Onion - 5 KG  189    174   \n",
       "\n",
       "   total_order_amount payment_method payment_gateway    payment_reference  \\\n",
       "0                1148         online          juspay  order_rcptid_110798   \n",
       "\n",
       "  first_name last_name      mobile                     email  pincode  \\\n",
       "0      Eudes         A  8080232268  eudesmenezes39@gmail.com   400089   \n",
       "\n",
       "                                      address_line_1  \\\n",
       "0  A/4 Saubhagya, Chheda Nagar, Chembur, Mumbai 4...   \n",
       "\n",
       "               address_line_2             city        state  promocode  \\\n",
       "0  Near Modern English School  Mumbai Suburban  Maharashtra  PLUCKK125   \n",
       "\n",
       "   total_discount  total_shipping_charges  total_store_credit  \\\n",
       "0             125                       0                   0   \n",
       "\n",
       "   total_earn_points  total_wallet first_utm_source first_utm_medium  \\\n",
       "0                172             0              NaN              NaN   \n",
       "\n",
       "  first_utm_campaign  first_utm_term first_utm_content last_utm_source  \\\n",
       "0                NaN             NaN               NaN             NaN   \n",
       "\n",
       "  last_utm_medium last_utm_campaign  last_utm_term last_utm_content  \\\n",
       "0             NaN               NaN            NaN              NaN   \n",
       "\n",
       "  utm_source utm_medium utm_campaign  utm_term utm_content referrer_url  \\\n",
       "0        NaN        NaN          NaN       NaN         NaN          NaN   \n",
       "\n",
       "  referrer_domain        lat        lng address device_type  new_user  \\\n",
       "0             NaN  19.072899  72.903091     NaN     android         0   \n",
       "\n",
       "          delivery_min         delivery_max            delivery_description  \n",
       "0  2023-01-01 15:00:00  2023-01-01 21:00:00  Delivery on 1st Jan, 3PM - 9PM  "
      ]
     },
     "execution_count": 178,
     "metadata": {},
     "output_type": "execute_result"
    }
   ],
   "source": [
    "nov_dec.head(1)"
   ]
  },
  {
   "cell_type": "code",
   "execution_count": 179,
   "id": "02d0b47c",
   "metadata": {},
   "outputs": [
    {
     "data": {
      "text/plain": [
       "Delivered                      185941\n",
       "Shipped                          3322\n",
       "Open                             2482\n",
       "Cancelled                        1740\n",
       "placed                           1418\n",
       "cancelled                        1175\n",
       "Delivered, Open                   944\n",
       "Shipped, Delivered                788\n",
       "Delivered, Shipped                501\n",
       "Packed                            287\n",
       "Picked                            200\n",
       "Delivered, Delivered              144\n",
       "Shipped, Picked                    33\n",
       "Shipped, Shipped, Delivered        31\n",
       "Open, Delivered                    10\n",
       "Delivered, Packed                   8\n",
       "Confirmed                           4\n",
       "Delivered, Open, Open               4\n",
       "Name: status, dtype: int64"
      ]
     },
     "execution_count": 179,
     "metadata": {},
     "output_type": "execute_result"
    }
   ],
   "source": [
    "# checking all the values with respect to the columns\n",
    "nov_dec['status'].value_counts()"
   ]
  },
  {
   "cell_type": "code",
   "execution_count": 180,
   "id": "974bede3",
   "metadata": {},
   "outputs": [
    {
     "name": "stdout",
     "output_type": "stream",
     "text": [
      "(199032, 59)\n",
      "(201184, 59)\n"
     ]
    }
   ],
   "source": [
    "print(nov_dec.shape)\n",
    "print(jan_feb.shape)"
   ]
  },
  {
   "cell_type": "markdown",
   "id": "40581ecc",
   "metadata": {},
   "source": [
    "---"
   ]
  },
  {
   "cell_type": "markdown",
   "id": "7225c2f4",
   "metadata": {},
   "source": [
    "## Merging both the Dataframes"
   ]
  },
  {
   "cell_type": "code",
   "execution_count": 181,
   "id": "11e33fa8",
   "metadata": {},
   "outputs": [
    {
     "data": {
      "text/plain": [
       "(400216, 59)"
      ]
     },
     "execution_count": 181,
     "metadata": {},
     "output_type": "execute_result"
    }
   ],
   "source": [
    "# merge both the data frames - jan_feb & nov_dec\n",
    "ecomm_Data = pd.concat([jan_feb, nov_dec], axis=0, ignore_index=True)\n",
    "ecomm_Data.shape"
   ]
  },
  {
   "cell_type": "code",
   "execution_count": 182,
   "id": "19d70f2a",
   "metadata": {},
   "outputs": [
    {
     "data": {
      "text/html": [
       "<div>\n",
       "<style scoped>\n",
       "    .dataframe tbody tr th:only-of-type {\n",
       "        vertical-align: middle;\n",
       "    }\n",
       "\n",
       "    .dataframe tbody tr th {\n",
       "        vertical-align: top;\n",
       "    }\n",
       "\n",
       "    .dataframe thead th {\n",
       "        text-align: right;\n",
       "    }\n",
       "</style>\n",
       "<table border=\"1\" class=\"dataframe\">\n",
       "  <thead>\n",
       "    <tr style=\"text-align: right;\">\n",
       "      <th></th>\n",
       "      <th>user_id</th>\n",
       "      <th>order_number</th>\n",
       "      <th>invoice_number</th>\n",
       "      <th>order_date</th>\n",
       "      <th>status</th>\n",
       "      <th>vinculum_status</th>\n",
       "      <th>transporter</th>\n",
       "      <th>tracking_number</th>\n",
       "      <th>transporterstatusremark</th>\n",
       "      <th>transporterstatus</th>\n",
       "      <th>quantity</th>\n",
       "      <th>sku</th>\n",
       "      <th>name</th>\n",
       "      <th>mrp</th>\n",
       "      <th>price</th>\n",
       "      <th>total_order_amount</th>\n",
       "      <th>payment_method</th>\n",
       "      <th>payment_gateway</th>\n",
       "      <th>payment_reference</th>\n",
       "      <th>first_name</th>\n",
       "      <th>last_name</th>\n",
       "      <th>mobile</th>\n",
       "      <th>email</th>\n",
       "      <th>pincode</th>\n",
       "      <th>address_line_1</th>\n",
       "      <th>address_line_2</th>\n",
       "      <th>city</th>\n",
       "      <th>state</th>\n",
       "      <th>promocode</th>\n",
       "      <th>total_discount</th>\n",
       "      <th>total_shipping_charges</th>\n",
       "      <th>total_store_credit</th>\n",
       "      <th>total_earn_points</th>\n",
       "      <th>total_wallet</th>\n",
       "      <th>first_utm_source</th>\n",
       "      <th>first_utm_medium</th>\n",
       "      <th>first_utm_campaign</th>\n",
       "      <th>first_utm_term</th>\n",
       "      <th>first_utm_content</th>\n",
       "      <th>last_utm_source</th>\n",
       "      <th>last_utm_medium</th>\n",
       "      <th>last_utm_campaign</th>\n",
       "      <th>last_utm_term</th>\n",
       "      <th>last_utm_content</th>\n",
       "      <th>utm_source</th>\n",
       "      <th>utm_medium</th>\n",
       "      <th>utm_campaign</th>\n",
       "      <th>utm_term</th>\n",
       "      <th>utm_content</th>\n",
       "      <th>referrer_url</th>\n",
       "      <th>referrer_domain</th>\n",
       "      <th>lat</th>\n",
       "      <th>lng</th>\n",
       "      <th>address</th>\n",
       "      <th>device_type</th>\n",
       "      <th>new_user</th>\n",
       "      <th>delivery_min</th>\n",
       "      <th>delivery_max</th>\n",
       "      <th>delivery_description</th>\n",
       "    </tr>\n",
       "  </thead>\n",
       "  <tbody>\n",
       "    <tr>\n",
       "      <th>400211</th>\n",
       "      <td>53804</td>\n",
       "      <td>P2211010000203</td>\n",
       "      <td>I-P2211010000203</td>\n",
       "      <td>2022-11-01 00:02:44</td>\n",
       "      <td>Delivered</td>\n",
       "      <td>Delivered</td>\n",
       "      <td>Sumit Transport</td>\n",
       "      <td>MWH003791350</td>\n",
       "      <td>Update By POD</td>\n",
       "      <td>NaN</td>\n",
       "      <td>1</td>\n",
       "      <td>242621438BU</td>\n",
       "      <td>Pear Beauty  - 8 Pcs (1.2-1.3 Kg)</td>\n",
       "      <td>399</td>\n",
       "      <td>299</td>\n",
       "      <td>299</td>\n",
       "      <td>online</td>\n",
       "      <td>juspay</td>\n",
       "      <td>order_rcptid_71242</td>\n",
       "      <td>Camy</td>\n",
       "      <td>Shah</td>\n",
       "      <td>9.820634e+09</td>\n",
       "      <td>camydevshah@gmail.com</td>\n",
       "      <td>400075.0</td>\n",
       "      <td>203/5556, Amar Jyot, 4th Floor</td>\n",
       "      <td>Opp Odeon Swimming Pool</td>\n",
       "      <td>Ghatkopar East</td>\n",
       "      <td>Maharashtra</td>\n",
       "      <td>BLUEBERRY</td>\n",
       "      <td>349</td>\n",
       "      <td>0</td>\n",
       "      <td>0</td>\n",
       "      <td>150</td>\n",
       "      <td>0</td>\n",
       "      <td>NaN</td>\n",
       "      <td>NaN</td>\n",
       "      <td>NaN</td>\n",
       "      <td>NaN</td>\n",
       "      <td>NaN</td>\n",
       "      <td>NaN</td>\n",
       "      <td>NaN</td>\n",
       "      <td>NaN</td>\n",
       "      <td>NaN</td>\n",
       "      <td>NaN</td>\n",
       "      <td>NaN</td>\n",
       "      <td>NaN</td>\n",
       "      <td>NaN</td>\n",
       "      <td>NaN</td>\n",
       "      <td>NaN</td>\n",
       "      <td>NaN</td>\n",
       "      <td>NaN</td>\n",
       "      <td>19.079884</td>\n",
       "      <td>72.910467</td>\n",
       "      <td>Block-208, ANITA KUTIR HOUSING SOCIETY, 90 Fee...</td>\n",
       "      <td>android</td>\n",
       "      <td>1</td>\n",
       "      <td>2022-11-02 15:00:00</td>\n",
       "      <td>2022-11-02 21:00:00</td>\n",
       "      <td>Delivery on 2nd Nov, 3PM - 9PM</td>\n",
       "    </tr>\n",
       "    <tr>\n",
       "      <th>400212</th>\n",
       "      <td>53804</td>\n",
       "      <td>P2211010000203</td>\n",
       "      <td>I-P2211010000203</td>\n",
       "      <td>2022-11-01 00:02:44</td>\n",
       "      <td>Delivered</td>\n",
       "      <td>Delivered</td>\n",
       "      <td>Sumit Transport</td>\n",
       "      <td>MWH003791350</td>\n",
       "      <td>Update By POD</td>\n",
       "      <td>NaN</td>\n",
       "      <td>1</td>\n",
       "      <td>241221146BV</td>\n",
       "      <td>Blueberry - 125 Gm</td>\n",
       "      <td>349</td>\n",
       "      <td>349</td>\n",
       "      <td>299</td>\n",
       "      <td>online</td>\n",
       "      <td>juspay</td>\n",
       "      <td>order_rcptid_71242</td>\n",
       "      <td>Camy</td>\n",
       "      <td>Shah</td>\n",
       "      <td>9.820634e+09</td>\n",
       "      <td>camydevshah@gmail.com</td>\n",
       "      <td>400075.0</td>\n",
       "      <td>203/5556, Amar Jyot, 4th Floor</td>\n",
       "      <td>Opp Odeon Swimming Pool</td>\n",
       "      <td>Ghatkopar East</td>\n",
       "      <td>Maharashtra</td>\n",
       "      <td>BLUEBERRY</td>\n",
       "      <td>349</td>\n",
       "      <td>0</td>\n",
       "      <td>0</td>\n",
       "      <td>150</td>\n",
       "      <td>0</td>\n",
       "      <td>NaN</td>\n",
       "      <td>NaN</td>\n",
       "      <td>NaN</td>\n",
       "      <td>NaN</td>\n",
       "      <td>NaN</td>\n",
       "      <td>NaN</td>\n",
       "      <td>NaN</td>\n",
       "      <td>NaN</td>\n",
       "      <td>NaN</td>\n",
       "      <td>NaN</td>\n",
       "      <td>NaN</td>\n",
       "      <td>NaN</td>\n",
       "      <td>NaN</td>\n",
       "      <td>NaN</td>\n",
       "      <td>NaN</td>\n",
       "      <td>NaN</td>\n",
       "      <td>NaN</td>\n",
       "      <td>19.079884</td>\n",
       "      <td>72.910467</td>\n",
       "      <td>Block-208, ANITA KUTIR HOUSING SOCIETY, 90 Fee...</td>\n",
       "      <td>android</td>\n",
       "      <td>1</td>\n",
       "      <td>2022-11-02 15:00:00</td>\n",
       "      <td>2022-11-02 21:00:00</td>\n",
       "      <td>Delivery on 2nd Nov, 3PM - 9PM</td>\n",
       "    </tr>\n",
       "    <tr>\n",
       "      <th>400213</th>\n",
       "      <td>4556</td>\n",
       "      <td>P2211010000181</td>\n",
       "      <td>I-P2211010000181</td>\n",
       "      <td>2022-11-01 00:00:20</td>\n",
       "      <td>Delivered</td>\n",
       "      <td>Delivered</td>\n",
       "      <td>Sumit Transport</td>\n",
       "      <td>MWH003791349</td>\n",
       "      <td>Update By POD</td>\n",
       "      <td>NaN</td>\n",
       "      <td>1</td>\n",
       "      <td>1101111223AC</td>\n",
       "      <td>Lemon [Organic] - 200 Gms</td>\n",
       "      <td>155</td>\n",
       "      <td>155</td>\n",
       "      <td>233</td>\n",
       "      <td>online</td>\n",
       "      <td>juspay</td>\n",
       "      <td>order_rcptid_71241</td>\n",
       "      <td>Nisha</td>\n",
       "      <td>Merchant</td>\n",
       "      <td>9.819101e+09</td>\n",
       "      <td>merchantnisha@yahoo.com</td>\n",
       "      <td>400037.0</td>\n",
       "      <td>A 1204 Zeon, Ajmera I-Land, Bhakti Park</td>\n",
       "      <td>Next to Imax</td>\n",
       "      <td>Mumbai</td>\n",
       "      <td>Maharashtra</td>\n",
       "      <td>NaN</td>\n",
       "      <td>0</td>\n",
       "      <td>39</td>\n",
       "      <td>152</td>\n",
       "      <td>29</td>\n",
       "      <td>0</td>\n",
       "      <td>NaN</td>\n",
       "      <td>NaN</td>\n",
       "      <td>NaN</td>\n",
       "      <td>NaN</td>\n",
       "      <td>NaN</td>\n",
       "      <td>NaN</td>\n",
       "      <td>NaN</td>\n",
       "      <td>NaN</td>\n",
       "      <td>NaN</td>\n",
       "      <td>NaN</td>\n",
       "      <td>NaN</td>\n",
       "      <td>NaN</td>\n",
       "      <td>NaN</td>\n",
       "      <td>NaN</td>\n",
       "      <td>NaN</td>\n",
       "      <td>https://www.google.com/</td>\n",
       "      <td>www.google.com</td>\n",
       "      <td>19.025735</td>\n",
       "      <td>72.869705</td>\n",
       "      <td>NaN</td>\n",
       "      <td>web</td>\n",
       "      <td>0</td>\n",
       "      <td>2022-11-01 15:00:00</td>\n",
       "      <td>2022-11-01 21:00:00</td>\n",
       "      <td>Delivery on 1st Nov, 3PM - 9PM</td>\n",
       "    </tr>\n",
       "    <tr>\n",
       "      <th>400214</th>\n",
       "      <td>4556</td>\n",
       "      <td>P2211010000181</td>\n",
       "      <td>I-P2211010000181</td>\n",
       "      <td>2022-11-01 00:00:20</td>\n",
       "      <td>Delivered</td>\n",
       "      <td>Delivered</td>\n",
       "      <td>Sumit Transport</td>\n",
       "      <td>MWH003791349</td>\n",
       "      <td>Update By POD</td>\n",
       "      <td>NaN</td>\n",
       "      <td>1</td>\n",
       "      <td>1101111140AL</td>\n",
       "      <td>Beetroot [Organic, Chukandar] - 250 Gms</td>\n",
       "      <td>39</td>\n",
       "      <td>39</td>\n",
       "      <td>233</td>\n",
       "      <td>online</td>\n",
       "      <td>juspay</td>\n",
       "      <td>order_rcptid_71241</td>\n",
       "      <td>Nisha</td>\n",
       "      <td>Merchant</td>\n",
       "      <td>9.819101e+09</td>\n",
       "      <td>merchantnisha@yahoo.com</td>\n",
       "      <td>400037.0</td>\n",
       "      <td>A 1204 Zeon, Ajmera I-Land, Bhakti Park</td>\n",
       "      <td>Next to Imax</td>\n",
       "      <td>Mumbai</td>\n",
       "      <td>Maharashtra</td>\n",
       "      <td>NaN</td>\n",
       "      <td>0</td>\n",
       "      <td>39</td>\n",
       "      <td>152</td>\n",
       "      <td>29</td>\n",
       "      <td>0</td>\n",
       "      <td>NaN</td>\n",
       "      <td>NaN</td>\n",
       "      <td>NaN</td>\n",
       "      <td>NaN</td>\n",
       "      <td>NaN</td>\n",
       "      <td>NaN</td>\n",
       "      <td>NaN</td>\n",
       "      <td>NaN</td>\n",
       "      <td>NaN</td>\n",
       "      <td>NaN</td>\n",
       "      <td>NaN</td>\n",
       "      <td>NaN</td>\n",
       "      <td>NaN</td>\n",
       "      <td>NaN</td>\n",
       "      <td>NaN</td>\n",
       "      <td>https://www.google.com/</td>\n",
       "      <td>www.google.com</td>\n",
       "      <td>19.025735</td>\n",
       "      <td>72.869705</td>\n",
       "      <td>NaN</td>\n",
       "      <td>web</td>\n",
       "      <td>0</td>\n",
       "      <td>2022-11-01 15:00:00</td>\n",
       "      <td>2022-11-01 21:00:00</td>\n",
       "      <td>Delivery on 1st Nov, 3PM - 9PM</td>\n",
       "    </tr>\n",
       "    <tr>\n",
       "      <th>400215</th>\n",
       "      <td>4556</td>\n",
       "      <td>P2211010000181</td>\n",
       "      <td>I-P2211010000181</td>\n",
       "      <td>2022-11-01 00:00:20</td>\n",
       "      <td>Delivered</td>\n",
       "      <td>Delivered</td>\n",
       "      <td>Sumit Transport</td>\n",
       "      <td>MWH003791349</td>\n",
       "      <td>Update By POD</td>\n",
       "      <td>NaN</td>\n",
       "      <td>1</td>\n",
       "      <td>232112264BD</td>\n",
       "      <td>Orange Nagpur - 2 Kg</td>\n",
       "      <td>160</td>\n",
       "      <td>152</td>\n",
       "      <td>233</td>\n",
       "      <td>online</td>\n",
       "      <td>juspay</td>\n",
       "      <td>order_rcptid_71241</td>\n",
       "      <td>Nisha</td>\n",
       "      <td>Merchant</td>\n",
       "      <td>9.819101e+09</td>\n",
       "      <td>merchantnisha@yahoo.com</td>\n",
       "      <td>400037.0</td>\n",
       "      <td>A 1204 Zeon, Ajmera I-Land, Bhakti Park</td>\n",
       "      <td>Next to Imax</td>\n",
       "      <td>Mumbai</td>\n",
       "      <td>Maharashtra</td>\n",
       "      <td>NaN</td>\n",
       "      <td>0</td>\n",
       "      <td>39</td>\n",
       "      <td>152</td>\n",
       "      <td>29</td>\n",
       "      <td>0</td>\n",
       "      <td>NaN</td>\n",
       "      <td>NaN</td>\n",
       "      <td>NaN</td>\n",
       "      <td>NaN</td>\n",
       "      <td>NaN</td>\n",
       "      <td>NaN</td>\n",
       "      <td>NaN</td>\n",
       "      <td>NaN</td>\n",
       "      <td>NaN</td>\n",
       "      <td>NaN</td>\n",
       "      <td>NaN</td>\n",
       "      <td>NaN</td>\n",
       "      <td>NaN</td>\n",
       "      <td>NaN</td>\n",
       "      <td>NaN</td>\n",
       "      <td>https://www.google.com/</td>\n",
       "      <td>www.google.com</td>\n",
       "      <td>19.025735</td>\n",
       "      <td>72.869705</td>\n",
       "      <td>NaN</td>\n",
       "      <td>web</td>\n",
       "      <td>0</td>\n",
       "      <td>2022-11-01 15:00:00</td>\n",
       "      <td>2022-11-01 21:00:00</td>\n",
       "      <td>Delivery on 1st Nov, 3PM - 9PM</td>\n",
       "    </tr>\n",
       "  </tbody>\n",
       "</table>\n",
       "</div>"
      ],
      "text/plain": [
       "        user_id    order_number    invoice_number           order_date  \\\n",
       "400211    53804  P2211010000203  I-P2211010000203  2022-11-01 00:02:44   \n",
       "400212    53804  P2211010000203  I-P2211010000203  2022-11-01 00:02:44   \n",
       "400213     4556  P2211010000181  I-P2211010000181  2022-11-01 00:00:20   \n",
       "400214     4556  P2211010000181  I-P2211010000181  2022-11-01 00:00:20   \n",
       "400215     4556  P2211010000181  I-P2211010000181  2022-11-01 00:00:20   \n",
       "\n",
       "           status vinculum_status      transporter tracking_number  \\\n",
       "400211  Delivered       Delivered  Sumit Transport    MWH003791350   \n",
       "400212  Delivered       Delivered  Sumit Transport    MWH003791350   \n",
       "400213  Delivered       Delivered  Sumit Transport    MWH003791349   \n",
       "400214  Delivered       Delivered  Sumit Transport    MWH003791349   \n",
       "400215  Delivered       Delivered  Sumit Transport    MWH003791349   \n",
       "\n",
       "       transporterstatusremark transporterstatus  quantity           sku  \\\n",
       "400211           Update By POD               NaN         1   242621438BU   \n",
       "400212           Update By POD               NaN         1   241221146BV   \n",
       "400213           Update By POD               NaN         1  1101111223AC   \n",
       "400214           Update By POD               NaN         1  1101111140AL   \n",
       "400215           Update By POD               NaN         1   232112264BD   \n",
       "\n",
       "                                           name  mrp  price  \\\n",
       "400211        Pear Beauty  - 8 Pcs (1.2-1.3 Kg)  399    299   \n",
       "400212                       Blueberry - 125 Gm  349    349   \n",
       "400213                Lemon [Organic] - 200 Gms  155    155   \n",
       "400214  Beetroot [Organic, Chukandar] - 250 Gms   39     39   \n",
       "400215                     Orange Nagpur - 2 Kg  160    152   \n",
       "\n",
       "        total_order_amount payment_method payment_gateway   payment_reference  \\\n",
       "400211                 299         online          juspay  order_rcptid_71242   \n",
       "400212                 299         online          juspay  order_rcptid_71242   \n",
       "400213                 233         online          juspay  order_rcptid_71241   \n",
       "400214                 233         online          juspay  order_rcptid_71241   \n",
       "400215                 233         online          juspay  order_rcptid_71241   \n",
       "\n",
       "       first_name last_name        mobile                    email   pincode  \\\n",
       "400211       Camy      Shah  9.820634e+09    camydevshah@gmail.com  400075.0   \n",
       "400212       Camy      Shah  9.820634e+09    camydevshah@gmail.com  400075.0   \n",
       "400213      Nisha  Merchant  9.819101e+09  merchantnisha@yahoo.com  400037.0   \n",
       "400214      Nisha  Merchant  9.819101e+09  merchantnisha@yahoo.com  400037.0   \n",
       "400215      Nisha  Merchant  9.819101e+09  merchantnisha@yahoo.com  400037.0   \n",
       "\n",
       "                                 address_line_1           address_line_2  \\\n",
       "400211           203/5556, Amar Jyot, 4th Floor  Opp Odeon Swimming Pool   \n",
       "400212           203/5556, Amar Jyot, 4th Floor  Opp Odeon Swimming Pool   \n",
       "400213  A 1204 Zeon, Ajmera I-Land, Bhakti Park             Next to Imax   \n",
       "400214  A 1204 Zeon, Ajmera I-Land, Bhakti Park             Next to Imax   \n",
       "400215  A 1204 Zeon, Ajmera I-Land, Bhakti Park             Next to Imax   \n",
       "\n",
       "                  city        state  promocode  total_discount  \\\n",
       "400211  Ghatkopar East  Maharashtra  BLUEBERRY             349   \n",
       "400212  Ghatkopar East  Maharashtra  BLUEBERRY             349   \n",
       "400213          Mumbai  Maharashtra        NaN               0   \n",
       "400214          Mumbai  Maharashtra        NaN               0   \n",
       "400215          Mumbai  Maharashtra        NaN               0   \n",
       "\n",
       "        total_shipping_charges  total_store_credit  total_earn_points  \\\n",
       "400211                       0                   0                150   \n",
       "400212                       0                   0                150   \n",
       "400213                      39                 152                 29   \n",
       "400214                      39                 152                 29   \n",
       "400215                      39                 152                 29   \n",
       "\n",
       "        total_wallet first_utm_source first_utm_medium first_utm_campaign  \\\n",
       "400211             0              NaN              NaN                NaN   \n",
       "400212             0              NaN              NaN                NaN   \n",
       "400213             0              NaN              NaN                NaN   \n",
       "400214             0              NaN              NaN                NaN   \n",
       "400215             0              NaN              NaN                NaN   \n",
       "\n",
       "       first_utm_term first_utm_content last_utm_source last_utm_medium  \\\n",
       "400211            NaN               NaN             NaN             NaN   \n",
       "400212            NaN               NaN             NaN             NaN   \n",
       "400213            NaN               NaN             NaN             NaN   \n",
       "400214            NaN               NaN             NaN             NaN   \n",
       "400215            NaN               NaN             NaN             NaN   \n",
       "\n",
       "       last_utm_campaign last_utm_term last_utm_content utm_source utm_medium  \\\n",
       "400211               NaN           NaN              NaN        NaN        NaN   \n",
       "400212               NaN           NaN              NaN        NaN        NaN   \n",
       "400213               NaN           NaN              NaN        NaN        NaN   \n",
       "400214               NaN           NaN              NaN        NaN        NaN   \n",
       "400215               NaN           NaN              NaN        NaN        NaN   \n",
       "\n",
       "       utm_campaign utm_term utm_content             referrer_url  \\\n",
       "400211          NaN      NaN         NaN                      NaN   \n",
       "400212          NaN      NaN         NaN                      NaN   \n",
       "400213          NaN      NaN         NaN  https://www.google.com/   \n",
       "400214          NaN      NaN         NaN  https://www.google.com/   \n",
       "400215          NaN      NaN         NaN  https://www.google.com/   \n",
       "\n",
       "       referrer_domain        lat        lng  \\\n",
       "400211             NaN  19.079884  72.910467   \n",
       "400212             NaN  19.079884  72.910467   \n",
       "400213  www.google.com  19.025735  72.869705   \n",
       "400214  www.google.com  19.025735  72.869705   \n",
       "400215  www.google.com  19.025735  72.869705   \n",
       "\n",
       "                                                  address device_type  \\\n",
       "400211  Block-208, ANITA KUTIR HOUSING SOCIETY, 90 Fee...     android   \n",
       "400212  Block-208, ANITA KUTIR HOUSING SOCIETY, 90 Fee...     android   \n",
       "400213                                                NaN         web   \n",
       "400214                                                NaN         web   \n",
       "400215                                                NaN         web   \n",
       "\n",
       "        new_user         delivery_min         delivery_max  \\\n",
       "400211         1  2022-11-02 15:00:00  2022-11-02 21:00:00   \n",
       "400212         1  2022-11-02 15:00:00  2022-11-02 21:00:00   \n",
       "400213         0  2022-11-01 15:00:00  2022-11-01 21:00:00   \n",
       "400214         0  2022-11-01 15:00:00  2022-11-01 21:00:00   \n",
       "400215         0  2022-11-01 15:00:00  2022-11-01 21:00:00   \n",
       "\n",
       "                  delivery_description  \n",
       "400211  Delivery on 2nd Nov, 3PM - 9PM  \n",
       "400212  Delivery on 2nd Nov, 3PM - 9PM  \n",
       "400213  Delivery on 1st Nov, 3PM - 9PM  \n",
       "400214  Delivery on 1st Nov, 3PM - 9PM  \n",
       "400215  Delivery on 1st Nov, 3PM - 9PM  "
      ]
     },
     "execution_count": 182,
     "metadata": {},
     "output_type": "execute_result"
    }
   ],
   "source": [
    "ecomm_Data.tail(5)"
   ]
  },
  {
   "cell_type": "markdown",
   "id": "8b248061",
   "metadata": {},
   "source": [
    "### • Check and remove unwanted columns and rows"
   ]
  },
  {
   "cell_type": "code",
   "execution_count": 183,
   "id": "df49be9c",
   "metadata": {},
   "outputs": [
    {
     "data": {
      "text/plain": [
       "400216"
      ]
     },
     "execution_count": 183,
     "metadata": {},
     "output_type": "execute_result"
    }
   ],
   "source": [
    "# check the column for number of nan values \n",
    "ecomm_Data['tracking_number'].isna().count()\n"
   ]
  },
  {
   "cell_type": "code",
   "execution_count": 184,
   "id": "24e41764",
   "metadata": {},
   "outputs": [],
   "source": [
    "# drop the unnecessary columns containing nan values\n",
    "ecomm_Data.drop(['vinculum_status', 'transporter', 'tracking_number', \n",
    "              'transporterstatusremark', 'transporterstatus', \n",
    "              'first_utm_term', 'first_utm_content', 'last_utm_term', \n",
    "              'last_utm_content', 'utm_source', 'utm_medium', 'utm_campaign', \n",
    "              'utm_term', 'utm_content'], axis=1, inplace=True)"
   ]
  },
  {
   "cell_type": "code",
   "execution_count": 185,
   "id": "eea08286",
   "metadata": {},
   "outputs": [
    {
     "data": {
      "text/html": [
       "<div>\n",
       "<style scoped>\n",
       "    .dataframe tbody tr th:only-of-type {\n",
       "        vertical-align: middle;\n",
       "    }\n",
       "\n",
       "    .dataframe tbody tr th {\n",
       "        vertical-align: top;\n",
       "    }\n",
       "\n",
       "    .dataframe thead th {\n",
       "        text-align: right;\n",
       "    }\n",
       "</style>\n",
       "<table border=\"1\" class=\"dataframe\">\n",
       "  <thead>\n",
       "    <tr style=\"text-align: right;\">\n",
       "      <th></th>\n",
       "      <th>user_id</th>\n",
       "      <th>order_number</th>\n",
       "      <th>invoice_number</th>\n",
       "      <th>order_date</th>\n",
       "      <th>status</th>\n",
       "      <th>quantity</th>\n",
       "      <th>sku</th>\n",
       "      <th>name</th>\n",
       "      <th>mrp</th>\n",
       "      <th>price</th>\n",
       "      <th>total_order_amount</th>\n",
       "      <th>payment_method</th>\n",
       "      <th>payment_gateway</th>\n",
       "      <th>payment_reference</th>\n",
       "      <th>first_name</th>\n",
       "      <th>last_name</th>\n",
       "      <th>mobile</th>\n",
       "      <th>email</th>\n",
       "      <th>pincode</th>\n",
       "      <th>address_line_1</th>\n",
       "      <th>address_line_2</th>\n",
       "      <th>city</th>\n",
       "      <th>state</th>\n",
       "      <th>promocode</th>\n",
       "      <th>total_discount</th>\n",
       "      <th>total_shipping_charges</th>\n",
       "      <th>total_store_credit</th>\n",
       "      <th>total_earn_points</th>\n",
       "      <th>total_wallet</th>\n",
       "      <th>first_utm_source</th>\n",
       "      <th>first_utm_medium</th>\n",
       "      <th>first_utm_campaign</th>\n",
       "      <th>last_utm_source</th>\n",
       "      <th>last_utm_medium</th>\n",
       "      <th>last_utm_campaign</th>\n",
       "      <th>referrer_url</th>\n",
       "      <th>referrer_domain</th>\n",
       "      <th>lat</th>\n",
       "      <th>lng</th>\n",
       "      <th>address</th>\n",
       "      <th>device_type</th>\n",
       "      <th>new_user</th>\n",
       "      <th>delivery_min</th>\n",
       "      <th>delivery_max</th>\n",
       "      <th>delivery_description</th>\n",
       "    </tr>\n",
       "  </thead>\n",
       "  <tbody>\n",
       "    <tr>\n",
       "      <th>0</th>\n",
       "      <td>43080</td>\n",
       "      <td>S2302280036258</td>\n",
       "      <td>I-S2302280036258</td>\n",
       "      <td>2023-02-28 23:58:10</td>\n",
       "      <td>Delivered</td>\n",
       "      <td>1</td>\n",
       "      <td>231611127AF</td>\n",
       "      <td>Banana Yelakki - 500 Gm</td>\n",
       "      <td>69</td>\n",
       "      <td>69</td>\n",
       "      <td>440</td>\n",
       "      <td>online</td>\n",
       "      <td>juspay</td>\n",
       "      <td>order_rcptid_151158</td>\n",
       "      <td>Milind</td>\n",
       "      <td>Toraskar</td>\n",
       "      <td>9.619998e+09</td>\n",
       "      <td>pri.toraskar@gmail.com</td>\n",
       "      <td>400081.0</td>\n",
       "      <td>C-702, Sainath Tower, Neelam Nagar Phase -2, M...</td>\n",
       "      <td>Opp Wamanrao Murunjan School</td>\n",
       "      <td>Mulund East</td>\n",
       "      <td>Maharashtra</td>\n",
       "      <td>FREEWTRMLN</td>\n",
       "      <td>46</td>\n",
       "      <td>0</td>\n",
       "      <td>162</td>\n",
       "      <td>66</td>\n",
       "      <td>0</td>\n",
       "      <td>Push</td>\n",
       "      <td>marketing</td>\n",
       "      <td>r_pn - frozen berries winter specials 0712</td>\n",
       "      <td>Whatsapp</td>\n",
       "      <td>marketing</td>\n",
       "      <td>WA - feb 1 order power user rem 2202</td>\n",
       "      <td>NaN</td>\n",
       "      <td>NaN</td>\n",
       "      <td>19.168467</td>\n",
       "      <td>72.962545</td>\n",
       "      <td>1, Navghar Rd, Deendayal Nagar, Mulund East, M...</td>\n",
       "      <td>android</td>\n",
       "      <td>0</td>\n",
       "      <td>2023-03-01 15:00:00</td>\n",
       "      <td>2023-03-01 21:00:00</td>\n",
       "      <td>Delivery on 1st Mar, 3PM - 9PM</td>\n",
       "    </tr>\n",
       "  </tbody>\n",
       "</table>\n",
       "</div>"
      ],
      "text/plain": [
       "   user_id    order_number    invoice_number           order_date     status  \\\n",
       "0    43080  S2302280036258  I-S2302280036258  2023-02-28 23:58:10  Delivered   \n",
       "\n",
       "   quantity          sku                     name  mrp  price  \\\n",
       "0         1  231611127AF  Banana Yelakki - 500 Gm   69     69   \n",
       "\n",
       "   total_order_amount payment_method payment_gateway    payment_reference  \\\n",
       "0                 440         online          juspay  order_rcptid_151158   \n",
       "\n",
       "  first_name last_name        mobile                   email   pincode  \\\n",
       "0     Milind  Toraskar  9.619998e+09  pri.toraskar@gmail.com  400081.0   \n",
       "\n",
       "                                      address_line_1  \\\n",
       "0  C-702, Sainath Tower, Neelam Nagar Phase -2, M...   \n",
       "\n",
       "                 address_line_2         city        state   promocode  \\\n",
       "0  Opp Wamanrao Murunjan School  Mulund East  Maharashtra  FREEWTRMLN   \n",
       "\n",
       "   total_discount  total_shipping_charges  total_store_credit  \\\n",
       "0              46                       0                 162   \n",
       "\n",
       "   total_earn_points  total_wallet first_utm_source first_utm_medium  \\\n",
       "0                 66             0             Push        marketing   \n",
       "\n",
       "                           first_utm_campaign last_utm_source last_utm_medium  \\\n",
       "0  r_pn - frozen berries winter specials 0712        Whatsapp       marketing   \n",
       "\n",
       "                      last_utm_campaign referrer_url referrer_domain  \\\n",
       "0  WA - feb 1 order power user rem 2202          NaN             NaN   \n",
       "\n",
       "         lat        lng                                            address  \\\n",
       "0  19.168467  72.962545  1, Navghar Rd, Deendayal Nagar, Mulund East, M...   \n",
       "\n",
       "  device_type  new_user         delivery_min         delivery_max  \\\n",
       "0     android         0  2023-03-01 15:00:00  2023-03-01 21:00:00   \n",
       "\n",
       "             delivery_description  \n",
       "0  Delivery on 1st Mar, 3PM - 9PM  "
      ]
     },
     "execution_count": 185,
     "metadata": {},
     "output_type": "execute_result"
    }
   ],
   "source": [
    "ecomm_Data.head(1)"
   ]
  },
  {
   "cell_type": "code",
   "execution_count": 186,
   "id": "514194f1",
   "metadata": {},
   "outputs": [],
   "source": [
    "# drop orders that have been mentioned as 'Cancelled' & 'cancelled' in the [status] column\n",
    "ecomm_Data = ecomm_Data.drop(ecomm_Data[ecomm_Data.status == \"Cancelled\"].index)\n",
    "ecomm_Data = ecomm_Data.drop(ecomm_Data[ecomm_Data.status == \"cancelled\"].index)"
   ]
  },
  {
   "cell_type": "code",
   "execution_count": 187,
   "id": "d42fdd97",
   "metadata": {},
   "outputs": [
    {
     "data": {
      "text/plain": [
       "Delivered                      383853\n",
       "Shipped                          3613\n",
       "Open                             2482\n",
       "placed                           1424\n",
       "Delivered, Open                   944\n",
       "Shipped, Delivered                788\n",
       "Delivered, Shipped                501\n",
       "Packed                            287\n",
       "Picked                            200\n",
       "Delivered, Delivered              144\n",
       "Shipped, Picked                    33\n",
       "Shipped, Shipped, Delivered        31\n",
       "Open, Delivered                    10\n",
       "Delivered, Packed                   8\n",
       "Confirmed                           4\n",
       "Delivered, Open, Open               4\n",
       "Name: status, dtype: int64"
      ]
     },
     "execution_count": 187,
     "metadata": {},
     "output_type": "execute_result"
    }
   ],
   "source": [
    "# checking if there are any cancelled values\n",
    "ecomm_Data['status'].value_counts()"
   ]
  },
  {
   "cell_type": "code",
   "execution_count": 188,
   "id": "fd821e17",
   "metadata": {},
   "outputs": [
    {
     "data": {
      "text/plain": [
       "(394326, 45)"
      ]
     },
     "execution_count": 188,
     "metadata": {},
     "output_type": "execute_result"
    }
   ],
   "source": [
    "# ecomm_Data shape without cancelled orders\n",
    "ecomm_Data.shape"
   ]
  },
  {
   "cell_type": "code",
   "execution_count": 189,
   "id": "033c98c9",
   "metadata": {},
   "outputs": [
    {
     "data": {
      "text/plain": [
       "5890"
      ]
     },
     "execution_count": 189,
     "metadata": {},
     "output_type": "execute_result"
    }
   ],
   "source": [
    "# number of cancelled orders that were removed from the table = \n",
    "400216-394326"
   ]
  },
  {
   "cell_type": "code",
   "execution_count": 190,
   "id": "722bfb02",
   "metadata": {},
   "outputs": [
    {
     "data": {
      "text/html": [
       "<div>\n",
       "<style scoped>\n",
       "    .dataframe tbody tr th:only-of-type {\n",
       "        vertical-align: middle;\n",
       "    }\n",
       "\n",
       "    .dataframe tbody tr th {\n",
       "        vertical-align: top;\n",
       "    }\n",
       "\n",
       "    .dataframe thead th {\n",
       "        text-align: right;\n",
       "    }\n",
       "</style>\n",
       "<table border=\"1\" class=\"dataframe\">\n",
       "  <thead>\n",
       "    <tr style=\"text-align: right;\">\n",
       "      <th></th>\n",
       "      <th>user_id</th>\n",
       "      <th>order_number</th>\n",
       "      <th>invoice_number</th>\n",
       "      <th>order_date</th>\n",
       "      <th>status</th>\n",
       "      <th>quantity</th>\n",
       "      <th>sku</th>\n",
       "      <th>name</th>\n",
       "      <th>mrp</th>\n",
       "      <th>price</th>\n",
       "      <th>total_order_amount</th>\n",
       "      <th>payment_method</th>\n",
       "      <th>payment_gateway</th>\n",
       "      <th>payment_reference</th>\n",
       "      <th>first_name</th>\n",
       "      <th>last_name</th>\n",
       "      <th>mobile</th>\n",
       "      <th>email</th>\n",
       "      <th>pincode</th>\n",
       "      <th>address_line_1</th>\n",
       "      <th>address_line_2</th>\n",
       "      <th>city</th>\n",
       "      <th>state</th>\n",
       "      <th>promocode</th>\n",
       "      <th>total_discount</th>\n",
       "      <th>total_shipping_charges</th>\n",
       "      <th>total_store_credit</th>\n",
       "      <th>total_earn_points</th>\n",
       "      <th>total_wallet</th>\n",
       "      <th>first_utm_source</th>\n",
       "      <th>first_utm_medium</th>\n",
       "      <th>first_utm_campaign</th>\n",
       "      <th>last_utm_source</th>\n",
       "      <th>last_utm_medium</th>\n",
       "      <th>last_utm_campaign</th>\n",
       "      <th>referrer_url</th>\n",
       "      <th>referrer_domain</th>\n",
       "      <th>lat</th>\n",
       "      <th>lng</th>\n",
       "      <th>address</th>\n",
       "      <th>device_type</th>\n",
       "      <th>new_user</th>\n",
       "      <th>delivery_min</th>\n",
       "      <th>delivery_max</th>\n",
       "      <th>delivery_description</th>\n",
       "      <th>month</th>\n",
       "    </tr>\n",
       "  </thead>\n",
       "  <tbody>\n",
       "    <tr>\n",
       "      <th>400215</th>\n",
       "      <td>4556</td>\n",
       "      <td>P2211010000181</td>\n",
       "      <td>I-P2211010000181</td>\n",
       "      <td>2022-11-01 00:00:20</td>\n",
       "      <td>Delivered</td>\n",
       "      <td>1</td>\n",
       "      <td>232112264BD</td>\n",
       "      <td>Orange Nagpur - 2 Kg</td>\n",
       "      <td>160</td>\n",
       "      <td>152</td>\n",
       "      <td>233</td>\n",
       "      <td>online</td>\n",
       "      <td>juspay</td>\n",
       "      <td>order_rcptid_71241</td>\n",
       "      <td>Nisha</td>\n",
       "      <td>Merchant</td>\n",
       "      <td>9.819101e+09</td>\n",
       "      <td>merchantnisha@yahoo.com</td>\n",
       "      <td>400037.0</td>\n",
       "      <td>A 1204 Zeon, Ajmera I-Land, Bhakti Park</td>\n",
       "      <td>Next to Imax</td>\n",
       "      <td>Mumbai</td>\n",
       "      <td>Maharashtra</td>\n",
       "      <td>NaN</td>\n",
       "      <td>0</td>\n",
       "      <td>39</td>\n",
       "      <td>152</td>\n",
       "      <td>29</td>\n",
       "      <td>0</td>\n",
       "      <td>NaN</td>\n",
       "      <td>NaN</td>\n",
       "      <td>NaN</td>\n",
       "      <td>NaN</td>\n",
       "      <td>NaN</td>\n",
       "      <td>NaN</td>\n",
       "      <td>https://www.google.com/</td>\n",
       "      <td>www.google.com</td>\n",
       "      <td>19.025735</td>\n",
       "      <td>72.869705</td>\n",
       "      <td>NaN</td>\n",
       "      <td>web</td>\n",
       "      <td>0</td>\n",
       "      <td>2022-11-01 15:00:00</td>\n",
       "      <td>2022-11-01 21:00:00</td>\n",
       "      <td>Delivery on 1st Nov, 3PM - 9PM</td>\n",
       "      <td>11</td>\n",
       "    </tr>\n",
       "  </tbody>\n",
       "</table>\n",
       "</div>"
      ],
      "text/plain": [
       "        user_id    order_number    invoice_number           order_date  \\\n",
       "400215     4556  P2211010000181  I-P2211010000181  2022-11-01 00:00:20   \n",
       "\n",
       "           status  quantity          sku                  name  mrp  price  \\\n",
       "400215  Delivered         1  232112264BD  Orange Nagpur - 2 Kg  160    152   \n",
       "\n",
       "        total_order_amount payment_method payment_gateway   payment_reference  \\\n",
       "400215                 233         online          juspay  order_rcptid_71241   \n",
       "\n",
       "       first_name last_name        mobile                    email   pincode  \\\n",
       "400215      Nisha  Merchant  9.819101e+09  merchantnisha@yahoo.com  400037.0   \n",
       "\n",
       "                                 address_line_1 address_line_2    city  \\\n",
       "400215  A 1204 Zeon, Ajmera I-Land, Bhakti Park   Next to Imax  Mumbai   \n",
       "\n",
       "              state promocode  total_discount  total_shipping_charges  \\\n",
       "400215  Maharashtra       NaN               0                      39   \n",
       "\n",
       "        total_store_credit  total_earn_points  total_wallet first_utm_source  \\\n",
       "400215                 152                 29             0              NaN   \n",
       "\n",
       "       first_utm_medium first_utm_campaign last_utm_source last_utm_medium  \\\n",
       "400215              NaN                NaN             NaN             NaN   \n",
       "\n",
       "       last_utm_campaign             referrer_url referrer_domain        lat  \\\n",
       "400215               NaN  https://www.google.com/  www.google.com  19.025735   \n",
       "\n",
       "              lng address device_type  new_user         delivery_min  \\\n",
       "400215  72.869705     NaN         web         0  2022-11-01 15:00:00   \n",
       "\n",
       "               delivery_max            delivery_description  month  \n",
       "400215  2022-11-01 21:00:00  Delivery on 1st Nov, 3PM - 9PM     11  "
      ]
     },
     "execution_count": 190,
     "metadata": {},
     "output_type": "execute_result"
    }
   ],
   "source": [
    "# adding an additional column of months number in which the order was placed\n",
    "# indicating months as Nov = 11, Dec = 12, Jan = 1, Feb = 2\n",
    "\n",
    "\n",
    "ecomm_Data['month'] = pd.to_datetime(ecomm_Data['order_date']).dt.month\n",
    "ecomm_Data.tail(1)"
   ]
  },
  {
   "cell_type": "markdown",
   "id": "56c25f21",
   "metadata": {},
   "source": [
    "---"
   ]
  },
  {
   "cell_type": "markdown",
   "id": "e63935b2",
   "metadata": {},
   "source": [
    "## 👉 Finding no. 1 \n",
    "### Order frequency of total user ( on the basis of month ) "
   ]
  },
  {
   "cell_type": "markdown",
   "id": "fc7df64f",
   "metadata": {},
   "source": [
    "### ➡️ Seperating data month wise"
   ]
  },
  {
   "cell_type": "code",
   "execution_count": 191,
   "id": "5277274f",
   "metadata": {},
   "outputs": [
    {
     "data": {
      "text/plain": [
       "(105323, 46)"
      ]
     },
     "execution_count": 191,
     "metadata": {},
     "output_type": "execute_result"
    }
   ],
   "source": [
    "# filter out data on the specific month\n",
    "\n",
    "# checking the shape of the dataframe that is going to be filtered out\n",
    "ecomm_Data[ecomm_Data['month'] == 12].shape"
   ]
  },
  {
   "cell_type": "code",
   "execution_count": 192,
   "id": "6e3ba6e8",
   "metadata": {},
   "outputs": [
    {
     "data": {
      "text/plain": [
       "(90794, 46)"
      ]
     },
     "execution_count": 192,
     "metadata": {},
     "output_type": "execute_result"
    }
   ],
   "source": [
    "ecomm_Data[ecomm_Data['month'] == 11].shape"
   ]
  },
  {
   "cell_type": "code",
   "execution_count": 193,
   "id": "3c7722a8",
   "metadata": {},
   "outputs": [],
   "source": [
    "# create new dataframes according to the month - nov, dec, jan, feb\n",
    "nov = ecomm_Data[ecomm_Data['month'] == 11]     \n",
    "dec = ecomm_Data[ecomm_Data['month'] == 12]\n",
    "jan = ecomm_Data[ecomm_Data['month'] == 1]\n",
    "feb = ecomm_Data[ecomm_Data['month'] == 2]\n"
   ]
  },
  {
   "cell_type": "code",
   "execution_count": 194,
   "id": "ee745e28",
   "metadata": {},
   "outputs": [
    {
     "data": {
      "text/html": [
       "<div>\n",
       "<style scoped>\n",
       "    .dataframe tbody tr th:only-of-type {\n",
       "        vertical-align: middle;\n",
       "    }\n",
       "\n",
       "    .dataframe tbody tr th {\n",
       "        vertical-align: top;\n",
       "    }\n",
       "\n",
       "    .dataframe thead th {\n",
       "        text-align: right;\n",
       "    }\n",
       "</style>\n",
       "<table border=\"1\" class=\"dataframe\">\n",
       "  <thead>\n",
       "    <tr style=\"text-align: right;\">\n",
       "      <th></th>\n",
       "      <th>user_id</th>\n",
       "      <th>order_number</th>\n",
       "      <th>invoice_number</th>\n",
       "      <th>order_date</th>\n",
       "      <th>status</th>\n",
       "      <th>quantity</th>\n",
       "      <th>sku</th>\n",
       "      <th>name</th>\n",
       "      <th>mrp</th>\n",
       "      <th>price</th>\n",
       "      <th>total_order_amount</th>\n",
       "      <th>payment_method</th>\n",
       "      <th>payment_gateway</th>\n",
       "      <th>payment_reference</th>\n",
       "      <th>first_name</th>\n",
       "      <th>last_name</th>\n",
       "      <th>mobile</th>\n",
       "      <th>email</th>\n",
       "      <th>pincode</th>\n",
       "      <th>address_line_1</th>\n",
       "      <th>address_line_2</th>\n",
       "      <th>city</th>\n",
       "      <th>state</th>\n",
       "      <th>promocode</th>\n",
       "      <th>total_discount</th>\n",
       "      <th>total_shipping_charges</th>\n",
       "      <th>total_store_credit</th>\n",
       "      <th>total_earn_points</th>\n",
       "      <th>total_wallet</th>\n",
       "      <th>first_utm_source</th>\n",
       "      <th>first_utm_medium</th>\n",
       "      <th>first_utm_campaign</th>\n",
       "      <th>last_utm_source</th>\n",
       "      <th>last_utm_medium</th>\n",
       "      <th>last_utm_campaign</th>\n",
       "      <th>referrer_url</th>\n",
       "      <th>referrer_domain</th>\n",
       "      <th>lat</th>\n",
       "      <th>lng</th>\n",
       "      <th>address</th>\n",
       "      <th>device_type</th>\n",
       "      <th>new_user</th>\n",
       "      <th>delivery_min</th>\n",
       "      <th>delivery_max</th>\n",
       "      <th>delivery_description</th>\n",
       "      <th>month</th>\n",
       "    </tr>\n",
       "  </thead>\n",
       "  <tbody>\n",
       "    <tr>\n",
       "      <th>201184</th>\n",
       "      <td>33638</td>\n",
       "      <td>P2212310039537</td>\n",
       "      <td>I-P2212310039537</td>\n",
       "      <td>2022-12-31 23:58:55</td>\n",
       "      <td>Delivered</td>\n",
       "      <td>1</td>\n",
       "      <td>112511259BJ</td>\n",
       "      <td>Onion - 5 KG</td>\n",
       "      <td>189</td>\n",
       "      <td>174</td>\n",
       "      <td>1148</td>\n",
       "      <td>online</td>\n",
       "      <td>juspay</td>\n",
       "      <td>order_rcptid_110798</td>\n",
       "      <td>Eudes</td>\n",
       "      <td>A</td>\n",
       "      <td>8.080232e+09</td>\n",
       "      <td>eudesmenezes39@gmail.com</td>\n",
       "      <td>400089.0</td>\n",
       "      <td>A/4 Saubhagya, Chheda Nagar, Chembur, Mumbai 4...</td>\n",
       "      <td>Near Modern English School</td>\n",
       "      <td>Mumbai Suburban</td>\n",
       "      <td>Maharashtra</td>\n",
       "      <td>PLUCKK125</td>\n",
       "      <td>125</td>\n",
       "      <td>0</td>\n",
       "      <td>0</td>\n",
       "      <td>172</td>\n",
       "      <td>0</td>\n",
       "      <td>NaN</td>\n",
       "      <td>NaN</td>\n",
       "      <td>NaN</td>\n",
       "      <td>NaN</td>\n",
       "      <td>NaN</td>\n",
       "      <td>NaN</td>\n",
       "      <td>NaN</td>\n",
       "      <td>NaN</td>\n",
       "      <td>19.072899</td>\n",
       "      <td>72.903091</td>\n",
       "      <td>NaN</td>\n",
       "      <td>android</td>\n",
       "      <td>0</td>\n",
       "      <td>2023-01-01 15:00:00</td>\n",
       "      <td>2023-01-01 21:00:00</td>\n",
       "      <td>Delivery on 1st Jan, 3PM - 9PM</td>\n",
       "      <td>12</td>\n",
       "    </tr>\n",
       "    <tr>\n",
       "      <th>201185</th>\n",
       "      <td>33638</td>\n",
       "      <td>P2212310039537</td>\n",
       "      <td>I-P2212310039537</td>\n",
       "      <td>2022-12-31 23:58:55</td>\n",
       "      <td>Delivered</td>\n",
       "      <td>2</td>\n",
       "      <td>111111175AB</td>\n",
       "      <td>Chilli Light Green - 100 Gms</td>\n",
       "      <td>12</td>\n",
       "      <td>12</td>\n",
       "      <td>1148</td>\n",
       "      <td>online</td>\n",
       "      <td>juspay</td>\n",
       "      <td>order_rcptid_110798</td>\n",
       "      <td>Eudes</td>\n",
       "      <td>A</td>\n",
       "      <td>8.080232e+09</td>\n",
       "      <td>eudesmenezes39@gmail.com</td>\n",
       "      <td>400089.0</td>\n",
       "      <td>A/4 Saubhagya, Chheda Nagar, Chembur, Mumbai 4...</td>\n",
       "      <td>Near Modern English School</td>\n",
       "      <td>Mumbai Suburban</td>\n",
       "      <td>Maharashtra</td>\n",
       "      <td>PLUCKK125</td>\n",
       "      <td>125</td>\n",
       "      <td>0</td>\n",
       "      <td>0</td>\n",
       "      <td>172</td>\n",
       "      <td>0</td>\n",
       "      <td>NaN</td>\n",
       "      <td>NaN</td>\n",
       "      <td>NaN</td>\n",
       "      <td>NaN</td>\n",
       "      <td>NaN</td>\n",
       "      <td>NaN</td>\n",
       "      <td>NaN</td>\n",
       "      <td>NaN</td>\n",
       "      <td>19.072899</td>\n",
       "      <td>72.903091</td>\n",
       "      <td>NaN</td>\n",
       "      <td>android</td>\n",
       "      <td>0</td>\n",
       "      <td>2023-01-01 15:00:00</td>\n",
       "      <td>2023-01-01 21:00:00</td>\n",
       "      <td>Delivery on 1st Jan, 3PM - 9PM</td>\n",
       "      <td>12</td>\n",
       "    </tr>\n",
       "  </tbody>\n",
       "</table>\n",
       "</div>"
      ],
      "text/plain": [
       "        user_id    order_number    invoice_number           order_date  \\\n",
       "201184    33638  P2212310039537  I-P2212310039537  2022-12-31 23:58:55   \n",
       "201185    33638  P2212310039537  I-P2212310039537  2022-12-31 23:58:55   \n",
       "\n",
       "           status  quantity          sku                          name  mrp  \\\n",
       "201184  Delivered         1  112511259BJ                  Onion - 5 KG  189   \n",
       "201185  Delivered         2  111111175AB  Chilli Light Green - 100 Gms   12   \n",
       "\n",
       "        price  total_order_amount payment_method payment_gateway  \\\n",
       "201184    174                1148         online          juspay   \n",
       "201185     12                1148         online          juspay   \n",
       "\n",
       "          payment_reference first_name last_name        mobile  \\\n",
       "201184  order_rcptid_110798      Eudes         A  8.080232e+09   \n",
       "201185  order_rcptid_110798      Eudes         A  8.080232e+09   \n",
       "\n",
       "                           email   pincode  \\\n",
       "201184  eudesmenezes39@gmail.com  400089.0   \n",
       "201185  eudesmenezes39@gmail.com  400089.0   \n",
       "\n",
       "                                           address_line_1  \\\n",
       "201184  A/4 Saubhagya, Chheda Nagar, Chembur, Mumbai 4...   \n",
       "201185  A/4 Saubhagya, Chheda Nagar, Chembur, Mumbai 4...   \n",
       "\n",
       "                    address_line_2             city        state  promocode  \\\n",
       "201184  Near Modern English School  Mumbai Suburban  Maharashtra  PLUCKK125   \n",
       "201185  Near Modern English School  Mumbai Suburban  Maharashtra  PLUCKK125   \n",
       "\n",
       "        total_discount  total_shipping_charges  total_store_credit  \\\n",
       "201184             125                       0                   0   \n",
       "201185             125                       0                   0   \n",
       "\n",
       "        total_earn_points  total_wallet first_utm_source first_utm_medium  \\\n",
       "201184                172             0              NaN              NaN   \n",
       "201185                172             0              NaN              NaN   \n",
       "\n",
       "       first_utm_campaign last_utm_source last_utm_medium last_utm_campaign  \\\n",
       "201184                NaN             NaN             NaN               NaN   \n",
       "201185                NaN             NaN             NaN               NaN   \n",
       "\n",
       "       referrer_url referrer_domain        lat        lng address device_type  \\\n",
       "201184          NaN             NaN  19.072899  72.903091     NaN     android   \n",
       "201185          NaN             NaN  19.072899  72.903091     NaN     android   \n",
       "\n",
       "        new_user         delivery_min         delivery_max  \\\n",
       "201184         0  2023-01-01 15:00:00  2023-01-01 21:00:00   \n",
       "201185         0  2023-01-01 15:00:00  2023-01-01 21:00:00   \n",
       "\n",
       "                  delivery_description  month  \n",
       "201184  Delivery on 1st Jan, 3PM - 9PM     12  \n",
       "201185  Delivery on 1st Jan, 3PM - 9PM     12  "
      ]
     },
     "execution_count": 194,
     "metadata": {},
     "output_type": "execute_result"
    }
   ],
   "source": [
    "dec.head(2)"
   ]
  },
  {
   "cell_type": "markdown",
   "id": "ccfa8c5e",
   "metadata": {},
   "source": [
    "### ➡️ Calculating frequency of unique orders placed by total number of users on a monthly basis"
   ]
  },
  {
   "cell_type": "code",
   "execution_count": 195,
   "id": "9677df76",
   "metadata": {},
   "outputs": [
    {
     "name": "stdout",
     "output_type": "stream",
     "text": [
      "[10826, 12445, 13244, 8200]\n",
      "[7684, 9015, 9287, 5868]\n"
     ]
    }
   ],
   "source": [
    "\n",
    "l1 = [nov, dec, jan, feb]\n",
    "# creating empty \"on\" = order_number, list to store all the counts of unque \"order_number\"\n",
    "on=[]\n",
    "\n",
    "for i in l1:\n",
    "    temp = i['order_number'].nunique()\n",
    "    on.append(temp)\n",
    "print(on)\n",
    "\n",
    "\n",
    "unique_user_count=[]\n",
    "\n",
    "for i in l1:\n",
    "    temp = i['user_id'].nunique()\n",
    "    unique_user_count.append(temp)\n",
    "print(unique_user_count)\n",
    "    \n",
    "\n",
    "# ''' Alternative method to do the above '''   \n",
    "\n",
    "# dropping multiple order_numbers, as the order_numbers are repeated when user buys multiple things.\n",
    "# df_dec = dec.drop_duplicates(subset='order_number')\n",
    "# df_dec.head(5)\n",
    "\n",
    "\n",
    "# # for nov\n",
    "# nov_on = nov['order_number'].nunique()\n",
    "# nov_unq_user = nov['user_id'].nunique()\n",
    "\n",
    "\n",
    "# # for dec\n",
    "# dec_on = dec['order_number'].nunique()\n",
    "# dec_unq_user = dec['user_id'].nunique()\n",
    "\n",
    "# # for jan\n",
    "# jan_on = jan['order_number'].nunique()\n",
    "# jan_unq_user = jan['user_id'].nunique()\n",
    "\n",
    "# # for feb\n",
    "# feb_on = feb['order_number'].nunique()\n",
    "# feb_unq_user = feb['user_id'].nunique()\n",
    "\n",
    "\n",
    "# one user can place multiple orders in a month. \n",
    "# Hence, we are not dropping user_id duplicates. \n",
    "# As we are finding frequency so multiple orders from a user are necessary."
   ]
  },
  {
   "cell_type": "code",
   "execution_count": 196,
   "id": "e2a39611",
   "metadata": {},
   "outputs": [
    {
     "name": "stdout",
     "output_type": "stream",
     "text": [
      "[1.4089016137428423, 1.3804769828064338, 1.4260794659201033, 1.3974096796182687]\n"
     ]
    }
   ],
   "source": [
    "'''To calculate Purchase Frequency, divide your total\n",
    "number of unique orders placed by the number of unique customers for the same time frame.''' \n",
    "\n",
    "\n",
    "# calculating frequencies \n",
    "order_freq = []\n",
    "\n",
    "for i in range(len(on)):\n",
    "    temp_freq = on[i] / unique_user_count[i]\n",
    "    order_freq.append(temp_freq)\n",
    "print(order_freq)\n",
    "    \n"
   ]
  },
  {
   "cell_type": "code",
   "execution_count": 197,
   "id": "94a76e58",
   "metadata": {},
   "outputs": [
    {
     "data": {
      "application/vnd.plotly.v1+json": {
       "config": {
        "plotlyServerURL": "https://plot.ly"
       },
       "data": [
        {
         "alignmentgroup": "True",
         "hovertemplate": "x=%{x}<br>y=%{y}<extra></extra>",
         "legendgroup": "",
         "marker": {
          "color": "#636efa",
          "pattern": {
           "shape": ""
          }
         },
         "name": "",
         "offsetgroup": "",
         "orientation": "v",
         "showlegend": false,
         "textposition": "auto",
         "type": "bar",
         "x": [
          "nov",
          "dec",
          "jan",
          "feb"
         ],
         "xaxis": "x",
         "y": [
          1.4089016137428423,
          1.3804769828064338,
          1.4260794659201033,
          1.3974096796182687
         ],
         "yaxis": "y"
        }
       ],
       "layout": {
        "barmode": "relative",
        "legend": {
         "tracegroupgap": 0
        },
        "margin": {
         "t": 60
        },
        "template": {
         "data": {
          "bar": [
           {
            "error_x": {
             "color": "#2a3f5f"
            },
            "error_y": {
             "color": "#2a3f5f"
            },
            "marker": {
             "line": {
              "color": "#E5ECF6",
              "width": 0.5
             },
             "pattern": {
              "fillmode": "overlay",
              "size": 10,
              "solidity": 0.2
             }
            },
            "type": "bar"
           }
          ],
          "barpolar": [
           {
            "marker": {
             "line": {
              "color": "#E5ECF6",
              "width": 0.5
             },
             "pattern": {
              "fillmode": "overlay",
              "size": 10,
              "solidity": 0.2
             }
            },
            "type": "barpolar"
           }
          ],
          "carpet": [
           {
            "aaxis": {
             "endlinecolor": "#2a3f5f",
             "gridcolor": "white",
             "linecolor": "white",
             "minorgridcolor": "white",
             "startlinecolor": "#2a3f5f"
            },
            "baxis": {
             "endlinecolor": "#2a3f5f",
             "gridcolor": "white",
             "linecolor": "white",
             "minorgridcolor": "white",
             "startlinecolor": "#2a3f5f"
            },
            "type": "carpet"
           }
          ],
          "choropleth": [
           {
            "colorbar": {
             "outlinewidth": 0,
             "ticks": ""
            },
            "type": "choropleth"
           }
          ],
          "contour": [
           {
            "colorbar": {
             "outlinewidth": 0,
             "ticks": ""
            },
            "colorscale": [
             [
              0,
              "#0d0887"
             ],
             [
              0.1111111111111111,
              "#46039f"
             ],
             [
              0.2222222222222222,
              "#7201a8"
             ],
             [
              0.3333333333333333,
              "#9c179e"
             ],
             [
              0.4444444444444444,
              "#bd3786"
             ],
             [
              0.5555555555555556,
              "#d8576b"
             ],
             [
              0.6666666666666666,
              "#ed7953"
             ],
             [
              0.7777777777777778,
              "#fb9f3a"
             ],
             [
              0.8888888888888888,
              "#fdca26"
             ],
             [
              1,
              "#f0f921"
             ]
            ],
            "type": "contour"
           }
          ],
          "contourcarpet": [
           {
            "colorbar": {
             "outlinewidth": 0,
             "ticks": ""
            },
            "type": "contourcarpet"
           }
          ],
          "heatmap": [
           {
            "colorbar": {
             "outlinewidth": 0,
             "ticks": ""
            },
            "colorscale": [
             [
              0,
              "#0d0887"
             ],
             [
              0.1111111111111111,
              "#46039f"
             ],
             [
              0.2222222222222222,
              "#7201a8"
             ],
             [
              0.3333333333333333,
              "#9c179e"
             ],
             [
              0.4444444444444444,
              "#bd3786"
             ],
             [
              0.5555555555555556,
              "#d8576b"
             ],
             [
              0.6666666666666666,
              "#ed7953"
             ],
             [
              0.7777777777777778,
              "#fb9f3a"
             ],
             [
              0.8888888888888888,
              "#fdca26"
             ],
             [
              1,
              "#f0f921"
             ]
            ],
            "type": "heatmap"
           }
          ],
          "heatmapgl": [
           {
            "colorbar": {
             "outlinewidth": 0,
             "ticks": ""
            },
            "colorscale": [
             [
              0,
              "#0d0887"
             ],
             [
              0.1111111111111111,
              "#46039f"
             ],
             [
              0.2222222222222222,
              "#7201a8"
             ],
             [
              0.3333333333333333,
              "#9c179e"
             ],
             [
              0.4444444444444444,
              "#bd3786"
             ],
             [
              0.5555555555555556,
              "#d8576b"
             ],
             [
              0.6666666666666666,
              "#ed7953"
             ],
             [
              0.7777777777777778,
              "#fb9f3a"
             ],
             [
              0.8888888888888888,
              "#fdca26"
             ],
             [
              1,
              "#f0f921"
             ]
            ],
            "type": "heatmapgl"
           }
          ],
          "histogram": [
           {
            "marker": {
             "pattern": {
              "fillmode": "overlay",
              "size": 10,
              "solidity": 0.2
             }
            },
            "type": "histogram"
           }
          ],
          "histogram2d": [
           {
            "colorbar": {
             "outlinewidth": 0,
             "ticks": ""
            },
            "colorscale": [
             [
              0,
              "#0d0887"
             ],
             [
              0.1111111111111111,
              "#46039f"
             ],
             [
              0.2222222222222222,
              "#7201a8"
             ],
             [
              0.3333333333333333,
              "#9c179e"
             ],
             [
              0.4444444444444444,
              "#bd3786"
             ],
             [
              0.5555555555555556,
              "#d8576b"
             ],
             [
              0.6666666666666666,
              "#ed7953"
             ],
             [
              0.7777777777777778,
              "#fb9f3a"
             ],
             [
              0.8888888888888888,
              "#fdca26"
             ],
             [
              1,
              "#f0f921"
             ]
            ],
            "type": "histogram2d"
           }
          ],
          "histogram2dcontour": [
           {
            "colorbar": {
             "outlinewidth": 0,
             "ticks": ""
            },
            "colorscale": [
             [
              0,
              "#0d0887"
             ],
             [
              0.1111111111111111,
              "#46039f"
             ],
             [
              0.2222222222222222,
              "#7201a8"
             ],
             [
              0.3333333333333333,
              "#9c179e"
             ],
             [
              0.4444444444444444,
              "#bd3786"
             ],
             [
              0.5555555555555556,
              "#d8576b"
             ],
             [
              0.6666666666666666,
              "#ed7953"
             ],
             [
              0.7777777777777778,
              "#fb9f3a"
             ],
             [
              0.8888888888888888,
              "#fdca26"
             ],
             [
              1,
              "#f0f921"
             ]
            ],
            "type": "histogram2dcontour"
           }
          ],
          "mesh3d": [
           {
            "colorbar": {
             "outlinewidth": 0,
             "ticks": ""
            },
            "type": "mesh3d"
           }
          ],
          "parcoords": [
           {
            "line": {
             "colorbar": {
              "outlinewidth": 0,
              "ticks": ""
             }
            },
            "type": "parcoords"
           }
          ],
          "pie": [
           {
            "automargin": true,
            "type": "pie"
           }
          ],
          "scatter": [
           {
            "fillpattern": {
             "fillmode": "overlay",
             "size": 10,
             "solidity": 0.2
            },
            "type": "scatter"
           }
          ],
          "scatter3d": [
           {
            "line": {
             "colorbar": {
              "outlinewidth": 0,
              "ticks": ""
             }
            },
            "marker": {
             "colorbar": {
              "outlinewidth": 0,
              "ticks": ""
             }
            },
            "type": "scatter3d"
           }
          ],
          "scattercarpet": [
           {
            "marker": {
             "colorbar": {
              "outlinewidth": 0,
              "ticks": ""
             }
            },
            "type": "scattercarpet"
           }
          ],
          "scattergeo": [
           {
            "marker": {
             "colorbar": {
              "outlinewidth": 0,
              "ticks": ""
             }
            },
            "type": "scattergeo"
           }
          ],
          "scattergl": [
           {
            "marker": {
             "colorbar": {
              "outlinewidth": 0,
              "ticks": ""
             }
            },
            "type": "scattergl"
           }
          ],
          "scattermapbox": [
           {
            "marker": {
             "colorbar": {
              "outlinewidth": 0,
              "ticks": ""
             }
            },
            "type": "scattermapbox"
           }
          ],
          "scatterpolar": [
           {
            "marker": {
             "colorbar": {
              "outlinewidth": 0,
              "ticks": ""
             }
            },
            "type": "scatterpolar"
           }
          ],
          "scatterpolargl": [
           {
            "marker": {
             "colorbar": {
              "outlinewidth": 0,
              "ticks": ""
             }
            },
            "type": "scatterpolargl"
           }
          ],
          "scatterternary": [
           {
            "marker": {
             "colorbar": {
              "outlinewidth": 0,
              "ticks": ""
             }
            },
            "type": "scatterternary"
           }
          ],
          "surface": [
           {
            "colorbar": {
             "outlinewidth": 0,
             "ticks": ""
            },
            "colorscale": [
             [
              0,
              "#0d0887"
             ],
             [
              0.1111111111111111,
              "#46039f"
             ],
             [
              0.2222222222222222,
              "#7201a8"
             ],
             [
              0.3333333333333333,
              "#9c179e"
             ],
             [
              0.4444444444444444,
              "#bd3786"
             ],
             [
              0.5555555555555556,
              "#d8576b"
             ],
             [
              0.6666666666666666,
              "#ed7953"
             ],
             [
              0.7777777777777778,
              "#fb9f3a"
             ],
             [
              0.8888888888888888,
              "#fdca26"
             ],
             [
              1,
              "#f0f921"
             ]
            ],
            "type": "surface"
           }
          ],
          "table": [
           {
            "cells": {
             "fill": {
              "color": "#EBF0F8"
             },
             "line": {
              "color": "white"
             }
            },
            "header": {
             "fill": {
              "color": "#C8D4E3"
             },
             "line": {
              "color": "white"
             }
            },
            "type": "table"
           }
          ]
         },
         "layout": {
          "annotationdefaults": {
           "arrowcolor": "#2a3f5f",
           "arrowhead": 0,
           "arrowwidth": 1
          },
          "autotypenumbers": "strict",
          "coloraxis": {
           "colorbar": {
            "outlinewidth": 0,
            "ticks": ""
           }
          },
          "colorscale": {
           "diverging": [
            [
             0,
             "#8e0152"
            ],
            [
             0.1,
             "#c51b7d"
            ],
            [
             0.2,
             "#de77ae"
            ],
            [
             0.3,
             "#f1b6da"
            ],
            [
             0.4,
             "#fde0ef"
            ],
            [
             0.5,
             "#f7f7f7"
            ],
            [
             0.6,
             "#e6f5d0"
            ],
            [
             0.7,
             "#b8e186"
            ],
            [
             0.8,
             "#7fbc41"
            ],
            [
             0.9,
             "#4d9221"
            ],
            [
             1,
             "#276419"
            ]
           ],
           "sequential": [
            [
             0,
             "#0d0887"
            ],
            [
             0.1111111111111111,
             "#46039f"
            ],
            [
             0.2222222222222222,
             "#7201a8"
            ],
            [
             0.3333333333333333,
             "#9c179e"
            ],
            [
             0.4444444444444444,
             "#bd3786"
            ],
            [
             0.5555555555555556,
             "#d8576b"
            ],
            [
             0.6666666666666666,
             "#ed7953"
            ],
            [
             0.7777777777777778,
             "#fb9f3a"
            ],
            [
             0.8888888888888888,
             "#fdca26"
            ],
            [
             1,
             "#f0f921"
            ]
           ],
           "sequentialminus": [
            [
             0,
             "#0d0887"
            ],
            [
             0.1111111111111111,
             "#46039f"
            ],
            [
             0.2222222222222222,
             "#7201a8"
            ],
            [
             0.3333333333333333,
             "#9c179e"
            ],
            [
             0.4444444444444444,
             "#bd3786"
            ],
            [
             0.5555555555555556,
             "#d8576b"
            ],
            [
             0.6666666666666666,
             "#ed7953"
            ],
            [
             0.7777777777777778,
             "#fb9f3a"
            ],
            [
             0.8888888888888888,
             "#fdca26"
            ],
            [
             1,
             "#f0f921"
            ]
           ]
          },
          "colorway": [
           "#636efa",
           "#EF553B",
           "#00cc96",
           "#ab63fa",
           "#FFA15A",
           "#19d3f3",
           "#FF6692",
           "#B6E880",
           "#FF97FF",
           "#FECB52"
          ],
          "font": {
           "color": "#2a3f5f"
          },
          "geo": {
           "bgcolor": "white",
           "lakecolor": "white",
           "landcolor": "#E5ECF6",
           "showlakes": true,
           "showland": true,
           "subunitcolor": "white"
          },
          "hoverlabel": {
           "align": "left"
          },
          "hovermode": "closest",
          "mapbox": {
           "style": "light"
          },
          "paper_bgcolor": "white",
          "plot_bgcolor": "#E5ECF6",
          "polar": {
           "angularaxis": {
            "gridcolor": "white",
            "linecolor": "white",
            "ticks": ""
           },
           "bgcolor": "#E5ECF6",
           "radialaxis": {
            "gridcolor": "white",
            "linecolor": "white",
            "ticks": ""
           }
          },
          "scene": {
           "xaxis": {
            "backgroundcolor": "#E5ECF6",
            "gridcolor": "white",
            "gridwidth": 2,
            "linecolor": "white",
            "showbackground": true,
            "ticks": "",
            "zerolinecolor": "white"
           },
           "yaxis": {
            "backgroundcolor": "#E5ECF6",
            "gridcolor": "white",
            "gridwidth": 2,
            "linecolor": "white",
            "showbackground": true,
            "ticks": "",
            "zerolinecolor": "white"
           },
           "zaxis": {
            "backgroundcolor": "#E5ECF6",
            "gridcolor": "white",
            "gridwidth": 2,
            "linecolor": "white",
            "showbackground": true,
            "ticks": "",
            "zerolinecolor": "white"
           }
          },
          "shapedefaults": {
           "line": {
            "color": "#2a3f5f"
           }
          },
          "ternary": {
           "aaxis": {
            "gridcolor": "white",
            "linecolor": "white",
            "ticks": ""
           },
           "baxis": {
            "gridcolor": "white",
            "linecolor": "white",
            "ticks": ""
           },
           "bgcolor": "#E5ECF6",
           "caxis": {
            "gridcolor": "white",
            "linecolor": "white",
            "ticks": ""
           }
          },
          "title": {
           "x": 0.05
          },
          "xaxis": {
           "automargin": true,
           "gridcolor": "white",
           "linecolor": "white",
           "ticks": "",
           "title": {
            "standoff": 15
           },
           "zerolinecolor": "white",
           "zerolinewidth": 2
          },
          "yaxis": {
           "automargin": true,
           "gridcolor": "white",
           "linecolor": "white",
           "ticks": "",
           "title": {
            "standoff": 15
           },
           "zerolinecolor": "white",
           "zerolinewidth": 2
          }
         }
        },
        "xaxis": {
         "anchor": "y",
         "domain": [
          0,
          1
         ],
         "title": {
          "text": "x"
         }
        },
        "yaxis": {
         "anchor": "x",
         "domain": [
          0,
          1
         ],
         "title": {
          "text": "y"
         }
        }
       }
      },
      "text/html": [
       "<div>                            <div id=\"dc36ff71-ccee-4a8c-8c69-3a6822886995\" class=\"plotly-graph-div\" style=\"height:525px; width:100%;\"></div>            <script type=\"text/javascript\">                require([\"plotly\"], function(Plotly) {                    window.PLOTLYENV=window.PLOTLYENV || {};                                    if (document.getElementById(\"dc36ff71-ccee-4a8c-8c69-3a6822886995\")) {                    Plotly.newPlot(                        \"dc36ff71-ccee-4a8c-8c69-3a6822886995\",                        [{\"alignmentgroup\":\"True\",\"hovertemplate\":\"x=%{x}\\u003cbr\\u003ey=%{y}\\u003cextra\\u003e\\u003c\\u002fextra\\u003e\",\"legendgroup\":\"\",\"marker\":{\"color\":\"#636efa\",\"pattern\":{\"shape\":\"\"}},\"name\":\"\",\"offsetgroup\":\"\",\"orientation\":\"v\",\"showlegend\":false,\"textposition\":\"auto\",\"x\":[\"nov\",\"dec\",\"jan\",\"feb\"],\"xaxis\":\"x\",\"y\":[1.4089016137428423,1.3804769828064338,1.4260794659201033,1.3974096796182687],\"yaxis\":\"y\",\"type\":\"bar\"}],                        {\"template\":{\"data\":{\"histogram2dcontour\":[{\"type\":\"histogram2dcontour\",\"colorbar\":{\"outlinewidth\":0,\"ticks\":\"\"},\"colorscale\":[[0.0,\"#0d0887\"],[0.1111111111111111,\"#46039f\"],[0.2222222222222222,\"#7201a8\"],[0.3333333333333333,\"#9c179e\"],[0.4444444444444444,\"#bd3786\"],[0.5555555555555556,\"#d8576b\"],[0.6666666666666666,\"#ed7953\"],[0.7777777777777778,\"#fb9f3a\"],[0.8888888888888888,\"#fdca26\"],[1.0,\"#f0f921\"]]}],\"choropleth\":[{\"type\":\"choropleth\",\"colorbar\":{\"outlinewidth\":0,\"ticks\":\"\"}}],\"histogram2d\":[{\"type\":\"histogram2d\",\"colorbar\":{\"outlinewidth\":0,\"ticks\":\"\"},\"colorscale\":[[0.0,\"#0d0887\"],[0.1111111111111111,\"#46039f\"],[0.2222222222222222,\"#7201a8\"],[0.3333333333333333,\"#9c179e\"],[0.4444444444444444,\"#bd3786\"],[0.5555555555555556,\"#d8576b\"],[0.6666666666666666,\"#ed7953\"],[0.7777777777777778,\"#fb9f3a\"],[0.8888888888888888,\"#fdca26\"],[1.0,\"#f0f921\"]]}],\"heatmap\":[{\"type\":\"heatmap\",\"colorbar\":{\"outlinewidth\":0,\"ticks\":\"\"},\"colorscale\":[[0.0,\"#0d0887\"],[0.1111111111111111,\"#46039f\"],[0.2222222222222222,\"#7201a8\"],[0.3333333333333333,\"#9c179e\"],[0.4444444444444444,\"#bd3786\"],[0.5555555555555556,\"#d8576b\"],[0.6666666666666666,\"#ed7953\"],[0.7777777777777778,\"#fb9f3a\"],[0.8888888888888888,\"#fdca26\"],[1.0,\"#f0f921\"]]}],\"heatmapgl\":[{\"type\":\"heatmapgl\",\"colorbar\":{\"outlinewidth\":0,\"ticks\":\"\"},\"colorscale\":[[0.0,\"#0d0887\"],[0.1111111111111111,\"#46039f\"],[0.2222222222222222,\"#7201a8\"],[0.3333333333333333,\"#9c179e\"],[0.4444444444444444,\"#bd3786\"],[0.5555555555555556,\"#d8576b\"],[0.6666666666666666,\"#ed7953\"],[0.7777777777777778,\"#fb9f3a\"],[0.8888888888888888,\"#fdca26\"],[1.0,\"#f0f921\"]]}],\"contourcarpet\":[{\"type\":\"contourcarpet\",\"colorbar\":{\"outlinewidth\":0,\"ticks\":\"\"}}],\"contour\":[{\"type\":\"contour\",\"colorbar\":{\"outlinewidth\":0,\"ticks\":\"\"},\"colorscale\":[[0.0,\"#0d0887\"],[0.1111111111111111,\"#46039f\"],[0.2222222222222222,\"#7201a8\"],[0.3333333333333333,\"#9c179e\"],[0.4444444444444444,\"#bd3786\"],[0.5555555555555556,\"#d8576b\"],[0.6666666666666666,\"#ed7953\"],[0.7777777777777778,\"#fb9f3a\"],[0.8888888888888888,\"#fdca26\"],[1.0,\"#f0f921\"]]}],\"surface\":[{\"type\":\"surface\",\"colorbar\":{\"outlinewidth\":0,\"ticks\":\"\"},\"colorscale\":[[0.0,\"#0d0887\"],[0.1111111111111111,\"#46039f\"],[0.2222222222222222,\"#7201a8\"],[0.3333333333333333,\"#9c179e\"],[0.4444444444444444,\"#bd3786\"],[0.5555555555555556,\"#d8576b\"],[0.6666666666666666,\"#ed7953\"],[0.7777777777777778,\"#fb9f3a\"],[0.8888888888888888,\"#fdca26\"],[1.0,\"#f0f921\"]]}],\"mesh3d\":[{\"type\":\"mesh3d\",\"colorbar\":{\"outlinewidth\":0,\"ticks\":\"\"}}],\"scatter\":[{\"fillpattern\":{\"fillmode\":\"overlay\",\"size\":10,\"solidity\":0.2},\"type\":\"scatter\"}],\"parcoords\":[{\"type\":\"parcoords\",\"line\":{\"colorbar\":{\"outlinewidth\":0,\"ticks\":\"\"}}}],\"scatterpolargl\":[{\"type\":\"scatterpolargl\",\"marker\":{\"colorbar\":{\"outlinewidth\":0,\"ticks\":\"\"}}}],\"bar\":[{\"error_x\":{\"color\":\"#2a3f5f\"},\"error_y\":{\"color\":\"#2a3f5f\"},\"marker\":{\"line\":{\"color\":\"#E5ECF6\",\"width\":0.5},\"pattern\":{\"fillmode\":\"overlay\",\"size\":10,\"solidity\":0.2}},\"type\":\"bar\"}],\"scattergeo\":[{\"type\":\"scattergeo\",\"marker\":{\"colorbar\":{\"outlinewidth\":0,\"ticks\":\"\"}}}],\"scatterpolar\":[{\"type\":\"scatterpolar\",\"marker\":{\"colorbar\":{\"outlinewidth\":0,\"ticks\":\"\"}}}],\"histogram\":[{\"marker\":{\"pattern\":{\"fillmode\":\"overlay\",\"size\":10,\"solidity\":0.2}},\"type\":\"histogram\"}],\"scattergl\":[{\"type\":\"scattergl\",\"marker\":{\"colorbar\":{\"outlinewidth\":0,\"ticks\":\"\"}}}],\"scatter3d\":[{\"type\":\"scatter3d\",\"line\":{\"colorbar\":{\"outlinewidth\":0,\"ticks\":\"\"}},\"marker\":{\"colorbar\":{\"outlinewidth\":0,\"ticks\":\"\"}}}],\"scattermapbox\":[{\"type\":\"scattermapbox\",\"marker\":{\"colorbar\":{\"outlinewidth\":0,\"ticks\":\"\"}}}],\"scatterternary\":[{\"type\":\"scatterternary\",\"marker\":{\"colorbar\":{\"outlinewidth\":0,\"ticks\":\"\"}}}],\"scattercarpet\":[{\"type\":\"scattercarpet\",\"marker\":{\"colorbar\":{\"outlinewidth\":0,\"ticks\":\"\"}}}],\"carpet\":[{\"aaxis\":{\"endlinecolor\":\"#2a3f5f\",\"gridcolor\":\"white\",\"linecolor\":\"white\",\"minorgridcolor\":\"white\",\"startlinecolor\":\"#2a3f5f\"},\"baxis\":{\"endlinecolor\":\"#2a3f5f\",\"gridcolor\":\"white\",\"linecolor\":\"white\",\"minorgridcolor\":\"white\",\"startlinecolor\":\"#2a3f5f\"},\"type\":\"carpet\"}],\"table\":[{\"cells\":{\"fill\":{\"color\":\"#EBF0F8\"},\"line\":{\"color\":\"white\"}},\"header\":{\"fill\":{\"color\":\"#C8D4E3\"},\"line\":{\"color\":\"white\"}},\"type\":\"table\"}],\"barpolar\":[{\"marker\":{\"line\":{\"color\":\"#E5ECF6\",\"width\":0.5},\"pattern\":{\"fillmode\":\"overlay\",\"size\":10,\"solidity\":0.2}},\"type\":\"barpolar\"}],\"pie\":[{\"automargin\":true,\"type\":\"pie\"}]},\"layout\":{\"autotypenumbers\":\"strict\",\"colorway\":[\"#636efa\",\"#EF553B\",\"#00cc96\",\"#ab63fa\",\"#FFA15A\",\"#19d3f3\",\"#FF6692\",\"#B6E880\",\"#FF97FF\",\"#FECB52\"],\"font\":{\"color\":\"#2a3f5f\"},\"hovermode\":\"closest\",\"hoverlabel\":{\"align\":\"left\"},\"paper_bgcolor\":\"white\",\"plot_bgcolor\":\"#E5ECF6\",\"polar\":{\"bgcolor\":\"#E5ECF6\",\"angularaxis\":{\"gridcolor\":\"white\",\"linecolor\":\"white\",\"ticks\":\"\"},\"radialaxis\":{\"gridcolor\":\"white\",\"linecolor\":\"white\",\"ticks\":\"\"}},\"ternary\":{\"bgcolor\":\"#E5ECF6\",\"aaxis\":{\"gridcolor\":\"white\",\"linecolor\":\"white\",\"ticks\":\"\"},\"baxis\":{\"gridcolor\":\"white\",\"linecolor\":\"white\",\"ticks\":\"\"},\"caxis\":{\"gridcolor\":\"white\",\"linecolor\":\"white\",\"ticks\":\"\"}},\"coloraxis\":{\"colorbar\":{\"outlinewidth\":0,\"ticks\":\"\"}},\"colorscale\":{\"sequential\":[[0.0,\"#0d0887\"],[0.1111111111111111,\"#46039f\"],[0.2222222222222222,\"#7201a8\"],[0.3333333333333333,\"#9c179e\"],[0.4444444444444444,\"#bd3786\"],[0.5555555555555556,\"#d8576b\"],[0.6666666666666666,\"#ed7953\"],[0.7777777777777778,\"#fb9f3a\"],[0.8888888888888888,\"#fdca26\"],[1.0,\"#f0f921\"]],\"sequentialminus\":[[0.0,\"#0d0887\"],[0.1111111111111111,\"#46039f\"],[0.2222222222222222,\"#7201a8\"],[0.3333333333333333,\"#9c179e\"],[0.4444444444444444,\"#bd3786\"],[0.5555555555555556,\"#d8576b\"],[0.6666666666666666,\"#ed7953\"],[0.7777777777777778,\"#fb9f3a\"],[0.8888888888888888,\"#fdca26\"],[1.0,\"#f0f921\"]],\"diverging\":[[0,\"#8e0152\"],[0.1,\"#c51b7d\"],[0.2,\"#de77ae\"],[0.3,\"#f1b6da\"],[0.4,\"#fde0ef\"],[0.5,\"#f7f7f7\"],[0.6,\"#e6f5d0\"],[0.7,\"#b8e186\"],[0.8,\"#7fbc41\"],[0.9,\"#4d9221\"],[1,\"#276419\"]]},\"xaxis\":{\"gridcolor\":\"white\",\"linecolor\":\"white\",\"ticks\":\"\",\"title\":{\"standoff\":15},\"zerolinecolor\":\"white\",\"automargin\":true,\"zerolinewidth\":2},\"yaxis\":{\"gridcolor\":\"white\",\"linecolor\":\"white\",\"ticks\":\"\",\"title\":{\"standoff\":15},\"zerolinecolor\":\"white\",\"automargin\":true,\"zerolinewidth\":2},\"scene\":{\"xaxis\":{\"backgroundcolor\":\"#E5ECF6\",\"gridcolor\":\"white\",\"linecolor\":\"white\",\"showbackground\":true,\"ticks\":\"\",\"zerolinecolor\":\"white\",\"gridwidth\":2},\"yaxis\":{\"backgroundcolor\":\"#E5ECF6\",\"gridcolor\":\"white\",\"linecolor\":\"white\",\"showbackground\":true,\"ticks\":\"\",\"zerolinecolor\":\"white\",\"gridwidth\":2},\"zaxis\":{\"backgroundcolor\":\"#E5ECF6\",\"gridcolor\":\"white\",\"linecolor\":\"white\",\"showbackground\":true,\"ticks\":\"\",\"zerolinecolor\":\"white\",\"gridwidth\":2}},\"shapedefaults\":{\"line\":{\"color\":\"#2a3f5f\"}},\"annotationdefaults\":{\"arrowcolor\":\"#2a3f5f\",\"arrowhead\":0,\"arrowwidth\":1},\"geo\":{\"bgcolor\":\"white\",\"landcolor\":\"#E5ECF6\",\"subunitcolor\":\"white\",\"showland\":true,\"showlakes\":true,\"lakecolor\":\"white\"},\"title\":{\"x\":0.05},\"mapbox\":{\"style\":\"light\"}}},\"xaxis\":{\"anchor\":\"y\",\"domain\":[0.0,1.0],\"title\":{\"text\":\"x\"}},\"yaxis\":{\"anchor\":\"x\",\"domain\":[0.0,1.0],\"title\":{\"text\":\"y\"}},\"legend\":{\"tracegroupgap\":0},\"margin\":{\"t\":60},\"barmode\":\"relative\"},                        {\"responsive\": true}                    ).then(function(){\n",
       "                            \n",
       "var gd = document.getElementById('dc36ff71-ccee-4a8c-8c69-3a6822886995');\n",
       "var x = new MutationObserver(function (mutations, observer) {{\n",
       "        var display = window.getComputedStyle(gd).display;\n",
       "        if (!display || display === 'none') {{\n",
       "            console.log([gd, 'removed!']);\n",
       "            Plotly.purge(gd);\n",
       "            observer.disconnect();\n",
       "        }}\n",
       "}});\n",
       "\n",
       "// Listen for the removal of the full notebook cells\n",
       "var notebookContainer = gd.closest('#notebook-container');\n",
       "if (notebookContainer) {{\n",
       "    x.observe(notebookContainer, {childList: true});\n",
       "}}\n",
       "\n",
       "// Listen for the clearing of the current output cell\n",
       "var outputEl = gd.closest('.output');\n",
       "if (outputEl) {{\n",
       "    x.observe(outputEl, {childList: true});\n",
       "}}\n",
       "\n",
       "                        })                };                });            </script>        </div>"
      ]
     },
     "metadata": {},
     "output_type": "display_data"
    }
   ],
   "source": [
    "# plotting the above information as a bar graph using plotly express\n",
    "\n",
    "# specifying x axis\n",
    "x_axis_labels = ['nov', 'dec', 'jan', 'feb']\n",
    "\n",
    "fig = px.bar(x=x_axis_labels, y=order_freq)\n",
    "fig.show()\n",
    "\n",
    "# This is the frequency of orders placed by users on monthly basis"
   ]
  },
  {
   "cell_type": "markdown",
   "id": "ffc6f7a8",
   "metadata": {},
   "source": [
    "---"
   ]
  },
  {
   "cell_type": "markdown",
   "id": "34acb5fb",
   "metadata": {},
   "source": [
    "## 👉Finding no. 2 \n",
    "### ➡️ Number of total orders which were placed using promocode starting with 'PR', 'pr' & 'Pr'."
   ]
  },
  {
   "cell_type": "code",
   "execution_count": 198,
   "id": "d1d21c65",
   "metadata": {},
   "outputs": [
    {
     "data": {
      "text/plain": [
       "(394326, 46)"
      ]
     },
     "execution_count": 198,
     "metadata": {},
     "output_type": "execute_result"
    }
   ],
   "source": [
    "# checking the data shape\n",
    "ecomm_Data.shape"
   ]
  },
  {
   "cell_type": "code",
   "execution_count": 199,
   "id": "212988d8",
   "metadata": {
    "scrolled": true
   },
   "outputs": [
    {
     "data": {
      "text/html": [
       "<div>\n",
       "<style scoped>\n",
       "    .dataframe tbody tr th:only-of-type {\n",
       "        vertical-align: middle;\n",
       "    }\n",
       "\n",
       "    .dataframe tbody tr th {\n",
       "        vertical-align: top;\n",
       "    }\n",
       "\n",
       "    .dataframe thead th {\n",
       "        text-align: right;\n",
       "    }\n",
       "</style>\n",
       "<table border=\"1\" class=\"dataframe\">\n",
       "  <thead>\n",
       "    <tr style=\"text-align: right;\">\n",
       "      <th></th>\n",
       "      <th>user_id</th>\n",
       "      <th>order_number</th>\n",
       "      <th>invoice_number</th>\n",
       "      <th>order_date</th>\n",
       "      <th>status</th>\n",
       "      <th>quantity</th>\n",
       "      <th>sku</th>\n",
       "      <th>name</th>\n",
       "      <th>mrp</th>\n",
       "      <th>price</th>\n",
       "      <th>total_order_amount</th>\n",
       "      <th>payment_method</th>\n",
       "      <th>payment_gateway</th>\n",
       "      <th>payment_reference</th>\n",
       "      <th>first_name</th>\n",
       "      <th>last_name</th>\n",
       "      <th>mobile</th>\n",
       "      <th>email</th>\n",
       "      <th>pincode</th>\n",
       "      <th>address_line_1</th>\n",
       "      <th>address_line_2</th>\n",
       "      <th>city</th>\n",
       "      <th>state</th>\n",
       "      <th>promocode</th>\n",
       "      <th>total_discount</th>\n",
       "      <th>total_shipping_charges</th>\n",
       "      <th>total_store_credit</th>\n",
       "      <th>total_earn_points</th>\n",
       "      <th>total_wallet</th>\n",
       "      <th>first_utm_source</th>\n",
       "      <th>first_utm_medium</th>\n",
       "      <th>first_utm_campaign</th>\n",
       "      <th>last_utm_source</th>\n",
       "      <th>last_utm_medium</th>\n",
       "      <th>last_utm_campaign</th>\n",
       "      <th>referrer_url</th>\n",
       "      <th>referrer_domain</th>\n",
       "      <th>lat</th>\n",
       "      <th>lng</th>\n",
       "      <th>address</th>\n",
       "      <th>device_type</th>\n",
       "      <th>new_user</th>\n",
       "      <th>delivery_min</th>\n",
       "      <th>delivery_max</th>\n",
       "      <th>delivery_description</th>\n",
       "      <th>month</th>\n",
       "    </tr>\n",
       "  </thead>\n",
       "  <tbody>\n",
       "    <tr>\n",
       "      <th>0</th>\n",
       "      <td>43080</td>\n",
       "      <td>S2302280036258</td>\n",
       "      <td>I-S2302280036258</td>\n",
       "      <td>2023-02-28 23:58:10</td>\n",
       "      <td>Delivered</td>\n",
       "      <td>1</td>\n",
       "      <td>231611127AF</td>\n",
       "      <td>Banana Yelakki - 500 Gm</td>\n",
       "      <td>69</td>\n",
       "      <td>69</td>\n",
       "      <td>440</td>\n",
       "      <td>online</td>\n",
       "      <td>juspay</td>\n",
       "      <td>order_rcptid_151158</td>\n",
       "      <td>Milind</td>\n",
       "      <td>Toraskar</td>\n",
       "      <td>9.619998e+09</td>\n",
       "      <td>pri.toraskar@gmail.com</td>\n",
       "      <td>400081.0</td>\n",
       "      <td>C-702, Sainath Tower, Neelam Nagar Phase -2, M...</td>\n",
       "      <td>Opp Wamanrao Murunjan School</td>\n",
       "      <td>Mulund East</td>\n",
       "      <td>Maharashtra</td>\n",
       "      <td>FREEWTRMLN</td>\n",
       "      <td>46</td>\n",
       "      <td>0</td>\n",
       "      <td>162</td>\n",
       "      <td>66</td>\n",
       "      <td>0</td>\n",
       "      <td>Push</td>\n",
       "      <td>marketing</td>\n",
       "      <td>r_pn - frozen berries winter specials 0712</td>\n",
       "      <td>Whatsapp</td>\n",
       "      <td>marketing</td>\n",
       "      <td>WA - feb 1 order power user rem 2202</td>\n",
       "      <td>NaN</td>\n",
       "      <td>NaN</td>\n",
       "      <td>19.168467</td>\n",
       "      <td>72.962545</td>\n",
       "      <td>1, Navghar Rd, Deendayal Nagar, Mulund East, M...</td>\n",
       "      <td>android</td>\n",
       "      <td>0</td>\n",
       "      <td>2023-03-01 15:00:00</td>\n",
       "      <td>2023-03-01 21:00:00</td>\n",
       "      <td>Delivery on 1st Mar, 3PM - 9PM</td>\n",
       "      <td>2</td>\n",
       "    </tr>\n",
       "    <tr>\n",
       "      <th>1</th>\n",
       "      <td>43080</td>\n",
       "      <td>S2302280036258</td>\n",
       "      <td>I-S2302280036258</td>\n",
       "      <td>2023-02-28 23:58:10</td>\n",
       "      <td>Delivered</td>\n",
       "      <td>2</td>\n",
       "      <td>111011183AB</td>\n",
       "      <td>Coriander [Dhaniya Patta] - 100 Gms</td>\n",
       "      <td>11</td>\n",
       "      <td>11</td>\n",
       "      <td>440</td>\n",
       "      <td>online</td>\n",
       "      <td>juspay</td>\n",
       "      <td>order_rcptid_151158</td>\n",
       "      <td>Milind</td>\n",
       "      <td>Toraskar</td>\n",
       "      <td>9.619998e+09</td>\n",
       "      <td>pri.toraskar@gmail.com</td>\n",
       "      <td>400081.0</td>\n",
       "      <td>C-702, Sainath Tower, Neelam Nagar Phase -2, M...</td>\n",
       "      <td>Opp Wamanrao Murunjan School</td>\n",
       "      <td>Mulund East</td>\n",
       "      <td>Maharashtra</td>\n",
       "      <td>FREEWTRMLN</td>\n",
       "      <td>46</td>\n",
       "      <td>0</td>\n",
       "      <td>162</td>\n",
       "      <td>66</td>\n",
       "      <td>0</td>\n",
       "      <td>Push</td>\n",
       "      <td>marketing</td>\n",
       "      <td>r_pn - frozen berries winter specials 0712</td>\n",
       "      <td>Whatsapp</td>\n",
       "      <td>marketing</td>\n",
       "      <td>WA - feb 1 order power user rem 2202</td>\n",
       "      <td>NaN</td>\n",
       "      <td>NaN</td>\n",
       "      <td>19.168467</td>\n",
       "      <td>72.962545</td>\n",
       "      <td>1, Navghar Rd, Deendayal Nagar, Mulund East, M...</td>\n",
       "      <td>android</td>\n",
       "      <td>0</td>\n",
       "      <td>2023-03-01 15:00:00</td>\n",
       "      <td>2023-03-01 21:00:00</td>\n",
       "      <td>Delivery on 1st Mar, 3PM - 9PM</td>\n",
       "      <td>2</td>\n",
       "    </tr>\n",
       "  </tbody>\n",
       "</table>\n",
       "</div>"
      ],
      "text/plain": [
       "   user_id    order_number    invoice_number           order_date     status  \\\n",
       "0    43080  S2302280036258  I-S2302280036258  2023-02-28 23:58:10  Delivered   \n",
       "1    43080  S2302280036258  I-S2302280036258  2023-02-28 23:58:10  Delivered   \n",
       "\n",
       "   quantity          sku                                 name  mrp  price  \\\n",
       "0         1  231611127AF              Banana Yelakki - 500 Gm   69     69   \n",
       "1         2  111011183AB  Coriander [Dhaniya Patta] - 100 Gms   11     11   \n",
       "\n",
       "   total_order_amount payment_method payment_gateway    payment_reference  \\\n",
       "0                 440         online          juspay  order_rcptid_151158   \n",
       "1                 440         online          juspay  order_rcptid_151158   \n",
       "\n",
       "  first_name last_name        mobile                   email   pincode  \\\n",
       "0     Milind  Toraskar  9.619998e+09  pri.toraskar@gmail.com  400081.0   \n",
       "1     Milind  Toraskar  9.619998e+09  pri.toraskar@gmail.com  400081.0   \n",
       "\n",
       "                                      address_line_1  \\\n",
       "0  C-702, Sainath Tower, Neelam Nagar Phase -2, M...   \n",
       "1  C-702, Sainath Tower, Neelam Nagar Phase -2, M...   \n",
       "\n",
       "                 address_line_2         city        state   promocode  \\\n",
       "0  Opp Wamanrao Murunjan School  Mulund East  Maharashtra  FREEWTRMLN   \n",
       "1  Opp Wamanrao Murunjan School  Mulund East  Maharashtra  FREEWTRMLN   \n",
       "\n",
       "   total_discount  total_shipping_charges  total_store_credit  \\\n",
       "0              46                       0                 162   \n",
       "1              46                       0                 162   \n",
       "\n",
       "   total_earn_points  total_wallet first_utm_source first_utm_medium  \\\n",
       "0                 66             0             Push        marketing   \n",
       "1                 66             0             Push        marketing   \n",
       "\n",
       "                           first_utm_campaign last_utm_source last_utm_medium  \\\n",
       "0  r_pn - frozen berries winter specials 0712        Whatsapp       marketing   \n",
       "1  r_pn - frozen berries winter specials 0712        Whatsapp       marketing   \n",
       "\n",
       "                      last_utm_campaign referrer_url referrer_domain  \\\n",
       "0  WA - feb 1 order power user rem 2202          NaN             NaN   \n",
       "1  WA - feb 1 order power user rem 2202          NaN             NaN   \n",
       "\n",
       "         lat        lng                                            address  \\\n",
       "0  19.168467  72.962545  1, Navghar Rd, Deendayal Nagar, Mulund East, M...   \n",
       "1  19.168467  72.962545  1, Navghar Rd, Deendayal Nagar, Mulund East, M...   \n",
       "\n",
       "  device_type  new_user         delivery_min         delivery_max  \\\n",
       "0     android         0  2023-03-01 15:00:00  2023-03-01 21:00:00   \n",
       "1     android         0  2023-03-01 15:00:00  2023-03-01 21:00:00   \n",
       "\n",
       "             delivery_description  month  \n",
       "0  Delivery on 1st Mar, 3PM - 9PM      2  \n",
       "1  Delivery on 1st Mar, 3PM - 9PM      2  "
      ]
     },
     "execution_count": 199,
     "metadata": {},
     "output_type": "execute_result"
    }
   ],
   "source": [
    "ecomm_Data.head(2)"
   ]
  },
  {
   "cell_type": "code",
   "execution_count": 200,
   "id": "73b57dee",
   "metadata": {},
   "outputs": [
    {
     "name": "stdout",
     "output_type": "stream",
     "text": [
      "<class 'pandas.core.frame.DataFrame'>\n",
      "Int64Index: 394326 entries, 0 to 400215\n",
      "Data columns (total 46 columns):\n",
      " #   Column                  Non-Null Count   Dtype  \n",
      "---  ------                  --------------   -----  \n",
      " 0   user_id                 394326 non-null  int64  \n",
      " 1   order_number            394326 non-null  object \n",
      " 2   invoice_number          394326 non-null  object \n",
      " 3   order_date              394326 non-null  object \n",
      " 4   status                  394326 non-null  object \n",
      " 5   quantity                394326 non-null  int64  \n",
      " 6   sku                     394326 non-null  object \n",
      " 7   name                    394326 non-null  object \n",
      " 8   mrp                     394326 non-null  int64  \n",
      " 9   price                   394326 non-null  int64  \n",
      " 10  total_order_amount      394326 non-null  int64  \n",
      " 11  payment_method          394326 non-null  object \n",
      " 12  payment_gateway         394326 non-null  object \n",
      " 13  payment_reference       394326 non-null  object \n",
      " 14  first_name              394210 non-null  object \n",
      " 15  last_name               394189 non-null  object \n",
      " 16  mobile                  394312 non-null  float64\n",
      " 17  email                   394210 non-null  object \n",
      " 18  pincode                 394125 non-null  float64\n",
      " 19  address_line_1          394121 non-null  object \n",
      " 20  address_line_2          393613 non-null  object \n",
      " 21  city                    394125 non-null  object \n",
      " 22  state                   394125 non-null  object \n",
      " 23  promocode               295230 non-null  object \n",
      " 24  total_discount          394326 non-null  int64  \n",
      " 25  total_shipping_charges  394326 non-null  int64  \n",
      " 26  total_store_credit      394326 non-null  int64  \n",
      " 27  total_earn_points       394326 non-null  int64  \n",
      " 28  total_wallet            394326 non-null  int64  \n",
      " 29  first_utm_source        231625 non-null  object \n",
      " 30  first_utm_medium        231625 non-null  object \n",
      " 31  first_utm_campaign      226601 non-null  object \n",
      " 32  last_utm_source         231625 non-null  object \n",
      " 33  last_utm_medium         231625 non-null  object \n",
      " 34  last_utm_campaign       226536 non-null  object \n",
      " 35  referrer_url            32674 non-null   object \n",
      " 36  referrer_domain         17792 non-null   object \n",
      " 37  lat                     393744 non-null  float64\n",
      " 38  lng                     393744 non-null  float64\n",
      " 39  address                 334815 non-null  object \n",
      " 40  device_type             394280 non-null  object \n",
      " 41  new_user                394326 non-null  int64  \n",
      " 42  delivery_min            394326 non-null  object \n",
      " 43  delivery_max            394326 non-null  object \n",
      " 44  delivery_description    394255 non-null  object \n",
      " 45  month                   394326 non-null  int64  \n",
      "dtypes: float64(4), int64(12), object(30)\n",
      "memory usage: 141.4+ MB\n"
     ]
    }
   ],
   "source": [
    "# to know the type and non-null values in a column use this function \n",
    "# from this info we can clearly see that \"promocode\" and \"order_number\" has null values too\n",
    "ecomm_Data.info()"
   ]
  },
  {
   "cell_type": "code",
   "execution_count": 201,
   "id": "96e49db5",
   "metadata": {},
   "outputs": [
    {
     "data": {
      "text/html": [
       "<div>\n",
       "<style scoped>\n",
       "    .dataframe tbody tr th:only-of-type {\n",
       "        vertical-align: middle;\n",
       "    }\n",
       "\n",
       "    .dataframe tbody tr th {\n",
       "        vertical-align: top;\n",
       "    }\n",
       "\n",
       "    .dataframe thead th {\n",
       "        text-align: right;\n",
       "    }\n",
       "</style>\n",
       "<table border=\"1\" class=\"dataframe\">\n",
       "  <thead>\n",
       "    <tr style=\"text-align: right;\">\n",
       "      <th></th>\n",
       "      <th>order_number</th>\n",
       "      <th>promocode</th>\n",
       "    </tr>\n",
       "  </thead>\n",
       "  <tbody>\n",
       "    <tr>\n",
       "      <th>0</th>\n",
       "      <td>S2302280036258</td>\n",
       "      <td>FREEWTRMLN</td>\n",
       "    </tr>\n",
       "    <tr>\n",
       "      <th>1</th>\n",
       "      <td>S2302280036258</td>\n",
       "      <td>FREEWTRMLN</td>\n",
       "    </tr>\n",
       "    <tr>\n",
       "      <th>2</th>\n",
       "      <td>S2302280036258</td>\n",
       "      <td>FREEWTRMLN</td>\n",
       "    </tr>\n",
       "    <tr>\n",
       "      <th>3</th>\n",
       "      <td>S2302280036258</td>\n",
       "      <td>FREEWTRMLN</td>\n",
       "    </tr>\n",
       "    <tr>\n",
       "      <th>4</th>\n",
       "      <td>S2302280036258</td>\n",
       "      <td>FREEWTRMLN</td>\n",
       "    </tr>\n",
       "  </tbody>\n",
       "</table>\n",
       "</div>"
      ],
      "text/plain": [
       "     order_number   promocode\n",
       "0  S2302280036258  FREEWTRMLN\n",
       "1  S2302280036258  FREEWTRMLN\n",
       "2  S2302280036258  FREEWTRMLN\n",
       "3  S2302280036258  FREEWTRMLN\n",
       "4  S2302280036258  FREEWTRMLN"
      ]
     },
     "execution_count": 201,
     "metadata": {},
     "output_type": "execute_result"
    }
   ],
   "source": [
    "# Dropping the null values \n",
    "ref_oders = ecomm_Data[['order_number', 'promocode']].dropna()\n",
    "ref_oders.head(5)"
   ]
  },
  {
   "cell_type": "code",
   "execution_count": 202,
   "id": "f93802e0",
   "metadata": {},
   "outputs": [],
   "source": [
    "# Now, extracting promocode that starts with 'PR', 'pr' & 'Pr'\n",
    "# providing the input in a list inside \"startswith\" function as this function, \n",
    "# accepts only the two arguments in the form of tuples\n",
    "\n",
    "ref_oders = ref_oders[ref_oders['promocode'].str.startswith(('pr', 'PR', 'Pr'))]"
   ]
  },
  {
   "cell_type": "code",
   "execution_count": 203,
   "id": "85104b3a",
   "metadata": {},
   "outputs": [
    {
     "data": {
      "text/html": [
       "<div>\n",
       "<style scoped>\n",
       "    .dataframe tbody tr th:only-of-type {\n",
       "        vertical-align: middle;\n",
       "    }\n",
       "\n",
       "    .dataframe tbody tr th {\n",
       "        vertical-align: top;\n",
       "    }\n",
       "\n",
       "    .dataframe thead th {\n",
       "        text-align: right;\n",
       "    }\n",
       "</style>\n",
       "<table border=\"1\" class=\"dataframe\">\n",
       "  <thead>\n",
       "    <tr style=\"text-align: right;\">\n",
       "      <th></th>\n",
       "      <th>order_number</th>\n",
       "      <th>promocode</th>\n",
       "    </tr>\n",
       "  </thead>\n",
       "  <tbody>\n",
       "    <tr>\n",
       "      <th>58</th>\n",
       "      <td>S2302280035502</td>\n",
       "      <td>Prcavapl</td>\n",
       "    </tr>\n",
       "    <tr>\n",
       "      <th>59</th>\n",
       "      <td>S2302280035502</td>\n",
       "      <td>Prcavapl</td>\n",
       "    </tr>\n",
       "    <tr>\n",
       "      <th>60</th>\n",
       "      <td>S2302280035502</td>\n",
       "      <td>Prcavapl</td>\n",
       "    </tr>\n",
       "  </tbody>\n",
       "</table>\n",
       "</div>"
      ],
      "text/plain": [
       "      order_number promocode\n",
       "58  S2302280035502  Prcavapl\n",
       "59  S2302280035502  Prcavapl\n",
       "60  S2302280035502  Prcavapl"
      ]
     },
     "execution_count": 203,
     "metadata": {},
     "output_type": "execute_result"
    }
   ],
   "source": [
    "ref_oders.head(3)"
   ]
  },
  {
   "cell_type": "code",
   "execution_count": 204,
   "id": "6bc8c685",
   "metadata": {},
   "outputs": [
    {
     "data": {
      "text/html": [
       "<div>\n",
       "<style scoped>\n",
       "    .dataframe tbody tr th:only-of-type {\n",
       "        vertical-align: middle;\n",
       "    }\n",
       "\n",
       "    .dataframe tbody tr th {\n",
       "        vertical-align: top;\n",
       "    }\n",
       "\n",
       "    .dataframe thead th {\n",
       "        text-align: right;\n",
       "    }\n",
       "</style>\n",
       "<table border=\"1\" class=\"dataframe\">\n",
       "  <thead>\n",
       "    <tr style=\"text-align: right;\">\n",
       "      <th></th>\n",
       "      <th>order_number</th>\n",
       "      <th>promocode</th>\n",
       "    </tr>\n",
       "  </thead>\n",
       "  <tbody>\n",
       "    <tr>\n",
       "      <th>400164</th>\n",
       "      <td>P2211010000763</td>\n",
       "      <td>PRTDWRRU</td>\n",
       "    </tr>\n",
       "    <tr>\n",
       "      <th>400165</th>\n",
       "      <td>P2211010000763</td>\n",
       "      <td>PRTDWRRU</td>\n",
       "    </tr>\n",
       "    <tr>\n",
       "      <th>400166</th>\n",
       "      <td>P2211010000763</td>\n",
       "      <td>PRTDWRRU</td>\n",
       "    </tr>\n",
       "  </tbody>\n",
       "</table>\n",
       "</div>"
      ],
      "text/plain": [
       "          order_number promocode\n",
       "400164  P2211010000763  PRTDWRRU\n",
       "400165  P2211010000763  PRTDWRRU\n",
       "400166  P2211010000763  PRTDWRRU"
      ]
     },
     "execution_count": 204,
     "metadata": {},
     "output_type": "execute_result"
    }
   ],
   "source": [
    "ref_oders.tail(3)"
   ]
  },
  {
   "cell_type": "markdown",
   "id": "2088c2dd",
   "metadata": {},
   "source": [
    "#### Now we saw from .head and .tail function that all the rows are having the promocode we desired"
   ]
  },
  {
   "cell_type": "code",
   "execution_count": 205,
   "id": "b79d0a47",
   "metadata": {},
   "outputs": [
    {
     "data": {
      "text/plain": [
       "5606"
      ]
     },
     "execution_count": 205,
     "metadata": {},
     "output_type": "execute_result"
    }
   ],
   "source": [
    "# taking unique order_number counts which shows total referral orders \n",
    "ref_oders['order_number'].nunique()\n"
   ]
  },
  {
   "cell_type": "markdown",
   "id": "5c050a5a",
   "metadata": {},
   "source": [
    "### ➡️Therefore, 5606 were the total orders which were placed using promocode starting with 'Pr', 'pr' & 'Pr'"
   ]
  },
  {
   "cell_type": "markdown",
   "id": "91c9db47",
   "metadata": {},
   "source": [
    "---"
   ]
  },
  {
   "cell_type": "markdown",
   "id": "68e1126d",
   "metadata": {},
   "source": [
    "## 👉Finding no 3 \n",
    "### ➡️ Retention Analysis"
   ]
  },
  {
   "cell_type": "code",
   "execution_count": 206,
   "id": "937dae85",
   "metadata": {},
   "outputs": [
    {
     "data": {
      "text/html": [
       "<div>\n",
       "<style scoped>\n",
       "    .dataframe tbody tr th:only-of-type {\n",
       "        vertical-align: middle;\n",
       "    }\n",
       "\n",
       "    .dataframe tbody tr th {\n",
       "        vertical-align: top;\n",
       "    }\n",
       "\n",
       "    .dataframe thead th {\n",
       "        text-align: right;\n",
       "    }\n",
       "</style>\n",
       "<table border=\"1\" class=\"dataframe\">\n",
       "  <thead>\n",
       "    <tr style=\"text-align: right;\">\n",
       "      <th></th>\n",
       "      <th>user_id</th>\n",
       "      <th>order_number</th>\n",
       "      <th>invoice_number</th>\n",
       "      <th>order_date</th>\n",
       "      <th>status</th>\n",
       "      <th>quantity</th>\n",
       "      <th>sku</th>\n",
       "      <th>name</th>\n",
       "      <th>mrp</th>\n",
       "      <th>price</th>\n",
       "      <th>total_order_amount</th>\n",
       "      <th>payment_method</th>\n",
       "      <th>payment_gateway</th>\n",
       "      <th>payment_reference</th>\n",
       "      <th>first_name</th>\n",
       "      <th>last_name</th>\n",
       "      <th>mobile</th>\n",
       "      <th>email</th>\n",
       "      <th>pincode</th>\n",
       "      <th>address_line_1</th>\n",
       "      <th>address_line_2</th>\n",
       "      <th>city</th>\n",
       "      <th>state</th>\n",
       "      <th>promocode</th>\n",
       "      <th>total_discount</th>\n",
       "      <th>total_shipping_charges</th>\n",
       "      <th>total_store_credit</th>\n",
       "      <th>total_earn_points</th>\n",
       "      <th>total_wallet</th>\n",
       "      <th>first_utm_source</th>\n",
       "      <th>first_utm_medium</th>\n",
       "      <th>first_utm_campaign</th>\n",
       "      <th>last_utm_source</th>\n",
       "      <th>last_utm_medium</th>\n",
       "      <th>last_utm_campaign</th>\n",
       "      <th>referrer_url</th>\n",
       "      <th>referrer_domain</th>\n",
       "      <th>lat</th>\n",
       "      <th>lng</th>\n",
       "      <th>address</th>\n",
       "      <th>device_type</th>\n",
       "      <th>new_user</th>\n",
       "      <th>delivery_min</th>\n",
       "      <th>delivery_max</th>\n",
       "      <th>delivery_description</th>\n",
       "      <th>month</th>\n",
       "    </tr>\n",
       "  </thead>\n",
       "  <tbody>\n",
       "    <tr>\n",
       "      <th>308209</th>\n",
       "      <td>55270</td>\n",
       "      <td>P2211300043571</td>\n",
       "      <td>I-P2211300043571</td>\n",
       "      <td>2022-11-30 23:59:58</td>\n",
       "      <td>Delivered</td>\n",
       "      <td>1</td>\n",
       "      <td>231611125AF</td>\n",
       "      <td>Banana Robusta - 3 Pcs (500 Gms)</td>\n",
       "      <td>17</td>\n",
       "      <td>17</td>\n",
       "      <td>330</td>\n",
       "      <td>online</td>\n",
       "      <td>juspay</td>\n",
       "      <td>order_rcptid_89839</td>\n",
       "      <td>Tina</td>\n",
       "      <td>Reddy</td>\n",
       "      <td>9.014398e+09</td>\n",
       "      <td>tinareddycool@gmail.com</td>\n",
       "      <td>560103.0</td>\n",
       "      <td>C602, C Block, Purva Whitehall</td>\n",
       "      <td>Beside Total Mall</td>\n",
       "      <td>Ambalipura</td>\n",
       "      <td>Karnataka</td>\n",
       "      <td>NaN</td>\n",
       "      <td>0</td>\n",
       "      <td>39</td>\n",
       "      <td>23</td>\n",
       "      <td>44</td>\n",
       "      <td>0</td>\n",
       "      <td>Whatsapp</td>\n",
       "      <td>marketing</td>\n",
       "      <td>appinstall_instagram_2504</td>\n",
       "      <td>Whatsapp</td>\n",
       "      <td>marketing</td>\n",
       "      <td>appinstall_instagram_2504</td>\n",
       "      <td>NaN</td>\n",
       "      <td>NaN</td>\n",
       "      <td>12.916555</td>\n",
       "      <td>77.671911</td>\n",
       "      <td>BLOCK-B, PURVA WHITEHALL, Ambalipura, Haralur,...</td>\n",
       "      <td>android</td>\n",
       "      <td>0</td>\n",
       "      <td>2022-12-01 15:00:00</td>\n",
       "      <td>2022-12-01 21:00:00</td>\n",
       "      <td>Delivery on 1st Dec, 3PM - 9PM</td>\n",
       "      <td>11</td>\n",
       "    </tr>\n",
       "    <tr>\n",
       "      <th>308218</th>\n",
       "      <td>8003</td>\n",
       "      <td>P2211300043410</td>\n",
       "      <td>I-P2211300043410</td>\n",
       "      <td>2022-11-30 23:59:54</td>\n",
       "      <td>Delivered</td>\n",
       "      <td>1</td>\n",
       "      <td>241211117AF</td>\n",
       "      <td>Avocado Indian - 2 Pcs (400-500 Gms)</td>\n",
       "      <td>190</td>\n",
       "      <td>190</td>\n",
       "      <td>540</td>\n",
       "      <td>online</td>\n",
       "      <td>juspay</td>\n",
       "      <td>order_rcptid_89841</td>\n",
       "      <td>Simeon</td>\n",
       "      <td>Roshan</td>\n",
       "      <td>7.411638e+09</td>\n",
       "      <td>simeonroshan@gmail.com</td>\n",
       "      <td>560036.0</td>\n",
       "      <td>26 Naipunya Layout Anandpura Circle</td>\n",
       "      <td>Vagdevi Vilas School</td>\n",
       "      <td>Varanasi</td>\n",
       "      <td>Karnataka</td>\n",
       "      <td>PLUCKK75</td>\n",
       "      <td>75</td>\n",
       "      <td>0</td>\n",
       "      <td>176</td>\n",
       "      <td>86</td>\n",
       "      <td>31</td>\n",
       "      <td>NaN</td>\n",
       "      <td>NaN</td>\n",
       "      <td>NaN</td>\n",
       "      <td>NaN</td>\n",
       "      <td>NaN</td>\n",
       "      <td>NaN</td>\n",
       "      <td>NaN</td>\n",
       "      <td>NaN</td>\n",
       "      <td>13.024524</td>\n",
       "      <td>77.686289</td>\n",
       "      <td>55, Naipunya Layout Main Rd, Naipunya Layout, ...</td>\n",
       "      <td>android</td>\n",
       "      <td>0</td>\n",
       "      <td>2022-12-01 15:00:00</td>\n",
       "      <td>2022-12-01 21:00:00</td>\n",
       "      <td>Delivery on 1st Dec, 3PM - 9PM</td>\n",
       "      <td>11</td>\n",
       "    </tr>\n",
       "    <tr>\n",
       "      <th>308228</th>\n",
       "      <td>66272</td>\n",
       "      <td>P2211300043363</td>\n",
       "      <td>I-P2211300043363</td>\n",
       "      <td>2022-11-30 23:58:59</td>\n",
       "      <td>Delivered</td>\n",
       "      <td>1</td>\n",
       "      <td>231611125AA</td>\n",
       "      <td>Banana Robusta - 6 Pcs (1 Kg)</td>\n",
       "      <td>35</td>\n",
       "      <td>33</td>\n",
       "      <td>223</td>\n",
       "      <td>online</td>\n",
       "      <td>juspay</td>\n",
       "      <td>order_rcptid_89840</td>\n",
       "      <td>Ruchi</td>\n",
       "      <td>Narula</td>\n",
       "      <td>9.654860e+09</td>\n",
       "      <td>ruchi.narula@gmail.com</td>\n",
       "      <td>560066.0</td>\n",
       "      <td>C-1510 Brigade Cosmopolis, Whitefield Main Roa...</td>\n",
       "      <td>Near Nexus Forum Whitefield Mall</td>\n",
       "      <td>Whitefield</td>\n",
       "      <td>Karnataka</td>\n",
       "      <td>NaN</td>\n",
       "      <td>0</td>\n",
       "      <td>0</td>\n",
       "      <td>200</td>\n",
       "      <td>33</td>\n",
       "      <td>0</td>\n",
       "      <td>Whatsapp</td>\n",
       "      <td>marketing</td>\n",
       "      <td>WA- active inactive blr strawberry new arrival...</td>\n",
       "      <td>Whatsapp</td>\n",
       "      <td>marketing</td>\n",
       "      <td>WA- active inactive blr strawberry new arrival...</td>\n",
       "      <td>NaN</td>\n",
       "      <td>NaN</td>\n",
       "      <td>12.962146</td>\n",
       "      <td>77.746773</td>\n",
       "      <td>BLOCK-L, BRIGADE COSMOPOLIS, Palm Meadows, Whi...</td>\n",
       "      <td>android</td>\n",
       "      <td>0</td>\n",
       "      <td>2022-12-01 15:00:00</td>\n",
       "      <td>2022-12-01 21:00:00</td>\n",
       "      <td>Delivery on 1st Dec, 3PM - 9PM</td>\n",
       "      <td>11</td>\n",
       "    </tr>\n",
       "    <tr>\n",
       "      <th>308234</th>\n",
       "      <td>13546</td>\n",
       "      <td>P2211300043208</td>\n",
       "      <td>I-P2211300043208</td>\n",
       "      <td>2022-11-30 23:58:04</td>\n",
       "      <td>Delivered</td>\n",
       "      <td>2</td>\n",
       "      <td>231611125AA</td>\n",
       "      <td>Banana Robusta - 6 Pcs (1 Kg)</td>\n",
       "      <td>35</td>\n",
       "      <td>33</td>\n",
       "      <td>265</td>\n",
       "      <td>online</td>\n",
       "      <td>juspay</td>\n",
       "      <td>order_rcptid_89837</td>\n",
       "      <td>Balaji Gupta</td>\n",
       "      <td>Kommuri</td>\n",
       "      <td>9.986881e+09</td>\n",
       "      <td>k.balajigupta@gmail.com</td>\n",
       "      <td>560036.0</td>\n",
       "      <td>327, 1st Floor, Vishnu Krupa</td>\n",
       "      <td>Near Ganesh Temple, Vinayaka Nagar</td>\n",
       "      <td>Krishnarajapura</td>\n",
       "      <td>Karnataka</td>\n",
       "      <td>SPECIAL50</td>\n",
       "      <td>290</td>\n",
       "      <td>0</td>\n",
       "      <td>24</td>\n",
       "      <td>133</td>\n",
       "      <td>0</td>\n",
       "      <td>Whatsapp</td>\n",
       "      <td>marketing</td>\n",
       "      <td>WA- Lapsers SPECIAL50 FOMO expiry 1 day 3011 mum</td>\n",
       "      <td>Whatsapp</td>\n",
       "      <td>marketing</td>\n",
       "      <td>WA- Lapsers SPECIAL50 FOMO expiry 1 day 3011 mum</td>\n",
       "      <td>NaN</td>\n",
       "      <td>NaN</td>\n",
       "      <td>13.008781</td>\n",
       "      <td>77.700925</td>\n",
       "      <td>309, 3rd Cross Rd, Devasandra Extension, Krish...</td>\n",
       "      <td>android</td>\n",
       "      <td>0</td>\n",
       "      <td>2022-12-01 15:00:00</td>\n",
       "      <td>2022-12-01 21:00:00</td>\n",
       "      <td>Delivery on 1st Dec, 3PM - 9PM</td>\n",
       "      <td>11</td>\n",
       "    </tr>\n",
       "    <tr>\n",
       "      <th>308243</th>\n",
       "      <td>64352</td>\n",
       "      <td>P2211300043146</td>\n",
       "      <td>I-P2211300043146</td>\n",
       "      <td>2022-11-30 23:56:29</td>\n",
       "      <td>Delivered</td>\n",
       "      <td>1</td>\n",
       "      <td>231611127AF</td>\n",
       "      <td>Banana Yelakki - 500 Gm</td>\n",
       "      <td>66</td>\n",
       "      <td>66</td>\n",
       "      <td>1231</td>\n",
       "      <td>online</td>\n",
       "      <td>juspay</td>\n",
       "      <td>order_rcptid_89828</td>\n",
       "      <td>Pinky</td>\n",
       "      <td>Danani</td>\n",
       "      <td>7.896158e+09</td>\n",
       "      <td>pinkydanani@gmail.com</td>\n",
       "      <td>400047.0</td>\n",
       "      <td>507 Ashiyana 7 Bungalows. Jp Road Andheri West</td>\n",
       "      <td>Near versova Metro station</td>\n",
       "      <td>Andheri West</td>\n",
       "      <td>Maharashtra</td>\n",
       "      <td>CHEFSPECIAL</td>\n",
       "      <td>49</td>\n",
       "      <td>0</td>\n",
       "      <td>37</td>\n",
       "      <td>185</td>\n",
       "      <td>0</td>\n",
       "      <td>Facebook</td>\n",
       "      <td>paid advertising</td>\n",
       "      <td>fb_tof_mum_veggiebasket_14.11</td>\n",
       "      <td>Facebook</td>\n",
       "      <td>paid advertising</td>\n",
       "      <td>fb_tof_mum_veggiebasket_14.11</td>\n",
       "      <td>NaN</td>\n",
       "      <td>NaN</td>\n",
       "      <td>19.128569</td>\n",
       "      <td>72.822305</td>\n",
       "      <td>Menka Bldg, Bon Bon Lane, Mumbai, Gharkul Soci...</td>\n",
       "      <td>android</td>\n",
       "      <td>0</td>\n",
       "      <td>2022-12-01 15:00:00</td>\n",
       "      <td>2022-12-01 21:00:00</td>\n",
       "      <td>Delivery on 1st Dec, 3PM - 9PM</td>\n",
       "      <td>11</td>\n",
       "    </tr>\n",
       "  </tbody>\n",
       "</table>\n",
       "</div>"
      ],
      "text/plain": [
       "        user_id    order_number    invoice_number           order_date  \\\n",
       "308209    55270  P2211300043571  I-P2211300043571  2022-11-30 23:59:58   \n",
       "308218     8003  P2211300043410  I-P2211300043410  2022-11-30 23:59:54   \n",
       "308228    66272  P2211300043363  I-P2211300043363  2022-11-30 23:58:59   \n",
       "308234    13546  P2211300043208  I-P2211300043208  2022-11-30 23:58:04   \n",
       "308243    64352  P2211300043146  I-P2211300043146  2022-11-30 23:56:29   \n",
       "\n",
       "           status  quantity          sku  \\\n",
       "308209  Delivered         1  231611125AF   \n",
       "308218  Delivered         1  241211117AF   \n",
       "308228  Delivered         1  231611125AA   \n",
       "308234  Delivered         2  231611125AA   \n",
       "308243  Delivered         1  231611127AF   \n",
       "\n",
       "                                        name  mrp  price  total_order_amount  \\\n",
       "308209      Banana Robusta - 3 Pcs (500 Gms)   17     17                 330   \n",
       "308218  Avocado Indian - 2 Pcs (400-500 Gms)  190    190                 540   \n",
       "308228         Banana Robusta - 6 Pcs (1 Kg)   35     33                 223   \n",
       "308234         Banana Robusta - 6 Pcs (1 Kg)   35     33                 265   \n",
       "308243               Banana Yelakki - 500 Gm   66     66                1231   \n",
       "\n",
       "       payment_method payment_gateway   payment_reference    first_name  \\\n",
       "308209         online          juspay  order_rcptid_89839          Tina   \n",
       "308218         online          juspay  order_rcptid_89841        Simeon   \n",
       "308228         online          juspay  order_rcptid_89840         Ruchi   \n",
       "308234         online          juspay  order_rcptid_89837  Balaji Gupta   \n",
       "308243         online          juspay  order_rcptid_89828         Pinky   \n",
       "\n",
       "       last_name        mobile                    email   pincode  \\\n",
       "308209     Reddy  9.014398e+09  tinareddycool@gmail.com  560103.0   \n",
       "308218    Roshan  7.411638e+09   simeonroshan@gmail.com  560036.0   \n",
       "308228    Narula  9.654860e+09   ruchi.narula@gmail.com  560066.0   \n",
       "308234   Kommuri  9.986881e+09  k.balajigupta@gmail.com  560036.0   \n",
       "308243    Danani  7.896158e+09    pinkydanani@gmail.com  400047.0   \n",
       "\n",
       "                                           address_line_1  \\\n",
       "308209                     C602, C Block, Purva Whitehall   \n",
       "308218                26 Naipunya Layout Anandpura Circle   \n",
       "308228  C-1510 Brigade Cosmopolis, Whitefield Main Roa...   \n",
       "308234                       327, 1st Floor, Vishnu Krupa   \n",
       "308243     507 Ashiyana 7 Bungalows. Jp Road Andheri West   \n",
       "\n",
       "                            address_line_2             city        state  \\\n",
       "308209                   Beside Total Mall       Ambalipura    Karnataka   \n",
       "308218                Vagdevi Vilas School         Varanasi    Karnataka   \n",
       "308228    Near Nexus Forum Whitefield Mall       Whitefield    Karnataka   \n",
       "308234  Near Ganesh Temple, Vinayaka Nagar  Krishnarajapura    Karnataka   \n",
       "308243          Near versova Metro station     Andheri West  Maharashtra   \n",
       "\n",
       "          promocode  total_discount  total_shipping_charges  \\\n",
       "308209          NaN               0                      39   \n",
       "308218     PLUCKK75              75                       0   \n",
       "308228          NaN               0                       0   \n",
       "308234    SPECIAL50             290                       0   \n",
       "308243  CHEFSPECIAL              49                       0   \n",
       "\n",
       "        total_store_credit  total_earn_points  total_wallet first_utm_source  \\\n",
       "308209                  23                 44             0         Whatsapp   \n",
       "308218                 176                 86            31              NaN   \n",
       "308228                 200                 33             0         Whatsapp   \n",
       "308234                  24                133             0         Whatsapp   \n",
       "308243                  37                185             0         Facebook   \n",
       "\n",
       "        first_utm_medium                                 first_utm_campaign  \\\n",
       "308209         marketing                          appinstall_instagram_2504   \n",
       "308218               NaN                                                NaN   \n",
       "308228         marketing  WA- active inactive blr strawberry new arrival...   \n",
       "308234         marketing   WA- Lapsers SPECIAL50 FOMO expiry 1 day 3011 mum   \n",
       "308243  paid advertising                      fb_tof_mum_veggiebasket_14.11   \n",
       "\n",
       "       last_utm_source   last_utm_medium  \\\n",
       "308209        Whatsapp         marketing   \n",
       "308218             NaN               NaN   \n",
       "308228        Whatsapp         marketing   \n",
       "308234        Whatsapp         marketing   \n",
       "308243        Facebook  paid advertising   \n",
       "\n",
       "                                        last_utm_campaign referrer_url  \\\n",
       "308209                          appinstall_instagram_2504          NaN   \n",
       "308218                                                NaN          NaN   \n",
       "308228  WA- active inactive blr strawberry new arrival...          NaN   \n",
       "308234   WA- Lapsers SPECIAL50 FOMO expiry 1 day 3011 mum          NaN   \n",
       "308243                      fb_tof_mum_veggiebasket_14.11          NaN   \n",
       "\n",
       "       referrer_domain        lat        lng  \\\n",
       "308209             NaN  12.916555  77.671911   \n",
       "308218             NaN  13.024524  77.686289   \n",
       "308228             NaN  12.962146  77.746773   \n",
       "308234             NaN  13.008781  77.700925   \n",
       "308243             NaN  19.128569  72.822305   \n",
       "\n",
       "                                                  address device_type  \\\n",
       "308209  BLOCK-B, PURVA WHITEHALL, Ambalipura, Haralur,...     android   \n",
       "308218  55, Naipunya Layout Main Rd, Naipunya Layout, ...     android   \n",
       "308228  BLOCK-L, BRIGADE COSMOPOLIS, Palm Meadows, Whi...     android   \n",
       "308234  309, 3rd Cross Rd, Devasandra Extension, Krish...     android   \n",
       "308243  Menka Bldg, Bon Bon Lane, Mumbai, Gharkul Soci...     android   \n",
       "\n",
       "        new_user         delivery_min         delivery_max  \\\n",
       "308209         0  2022-12-01 15:00:00  2022-12-01 21:00:00   \n",
       "308218         0  2022-12-01 15:00:00  2022-12-01 21:00:00   \n",
       "308228         0  2022-12-01 15:00:00  2022-12-01 21:00:00   \n",
       "308234         0  2022-12-01 15:00:00  2022-12-01 21:00:00   \n",
       "308243         0  2022-12-01 15:00:00  2022-12-01 21:00:00   \n",
       "\n",
       "                  delivery_description  month  \n",
       "308209  Delivery on 1st Dec, 3PM - 9PM     11  \n",
       "308218  Delivery on 1st Dec, 3PM - 9PM     11  \n",
       "308228  Delivery on 1st Dec, 3PM - 9PM     11  \n",
       "308234  Delivery on 1st Dec, 3PM - 9PM     11  \n",
       "308243  Delivery on 1st Dec, 3PM - 9PM     11  "
      ]
     },
     "execution_count": 206,
     "metadata": {},
     "output_type": "execute_result"
    }
   ],
   "source": [
    "# creating new dataframe with 'df' as preffix to address duplicate dataframe. \n",
    "# removing the duplicate users and assigning new users column as 1\n",
    "#  1 = new user\n",
    "#  0 = old user\n",
    "\n",
    "# for the month of november\n",
    "df_nov = nov.drop_duplicates(subset=['user_id'])\n",
    "df_nov.head()"
   ]
  },
  {
   "cell_type": "code",
   "execution_count": 207,
   "id": "afac98d3",
   "metadata": {},
   "outputs": [
    {
     "data": {
      "text/plain": [
       "0    4033\n",
       "1    3651\n",
       "Name: new_user, dtype: int64"
      ]
     },
     "execution_count": 207,
     "metadata": {},
     "output_type": "execute_result"
    }
   ],
   "source": [
    "# Now view the \"new_user\" column.\n",
    "# This column mentions if the user is new or if it is old.\n",
    "# If the user is new then if will be = 1, if it is old then it will be = 0\n",
    "\n",
    "# taking value counts for nov month to know how many were new users and old users\n",
    "df_nov['new_user'].value_counts()"
   ]
  },
  {
   "cell_type": "code",
   "execution_count": 208,
   "id": "906d1117",
   "metadata": {},
   "outputs": [],
   "source": [
    "# similarly executing the above concept in dec, jan, feb dataframe\n",
    "\n",
    "df_dec = dec.drop_duplicates(subset=['user_id'])\n",
    "df_jan = jan.drop_duplicates(subset=['user_id'])\n",
    "df_feb = feb.drop_duplicates(subset=['user_id'])"
   ]
  },
  {
   "cell_type": "code",
   "execution_count": 209,
   "id": "73255bf3",
   "metadata": {},
   "outputs": [
    {
     "name": "stdout",
     "output_type": "stream",
     "text": [
      "0    5594\n",
      "1    3421\n",
      "Name: new_user, dtype: int64\n",
      "0    5028\n",
      "1    4259\n",
      "Name: new_user, dtype: int64\n",
      "0    3376\n",
      "1    2492\n",
      "Name: new_user, dtype: int64\n"
     ]
    }
   ],
   "source": [
    "print(df_dec['new_user'].value_counts())\n",
    "print(df_jan['new_user'].value_counts())\n",
    "print(df_feb['new_user'].value_counts())"
   ]
  },
  {
   "cell_type": "markdown",
   "id": "5eb85cf2",
   "metadata": {},
   "source": [
    "### ➡️ Calculating retention for November month - Nov- feb"
   ]
  },
  {
   "cell_type": "code",
   "execution_count": 210,
   "id": "37b4ffd5",
   "metadata": {},
   "outputs": [
    {
     "data": {
      "text/html": [
       "<div>\n",
       "<style scoped>\n",
       "    .dataframe tbody tr th:only-of-type {\n",
       "        vertical-align: middle;\n",
       "    }\n",
       "\n",
       "    .dataframe tbody tr th {\n",
       "        vertical-align: top;\n",
       "    }\n",
       "\n",
       "    .dataframe thead th {\n",
       "        text-align: right;\n",
       "    }\n",
       "</style>\n",
       "<table border=\"1\" class=\"dataframe\">\n",
       "  <thead>\n",
       "    <tr style=\"text-align: right;\">\n",
       "      <th></th>\n",
       "      <th>user_id</th>\n",
       "      <th>order_number</th>\n",
       "      <th>invoice_number</th>\n",
       "      <th>order_date</th>\n",
       "      <th>status</th>\n",
       "      <th>quantity</th>\n",
       "      <th>sku</th>\n",
       "      <th>name</th>\n",
       "      <th>mrp</th>\n",
       "      <th>price</th>\n",
       "      <th>total_order_amount</th>\n",
       "      <th>payment_method</th>\n",
       "      <th>payment_gateway</th>\n",
       "      <th>payment_reference</th>\n",
       "      <th>first_name</th>\n",
       "      <th>last_name</th>\n",
       "      <th>mobile</th>\n",
       "      <th>email</th>\n",
       "      <th>pincode</th>\n",
       "      <th>address_line_1</th>\n",
       "      <th>address_line_2</th>\n",
       "      <th>city</th>\n",
       "      <th>state</th>\n",
       "      <th>promocode</th>\n",
       "      <th>total_discount</th>\n",
       "      <th>total_shipping_charges</th>\n",
       "      <th>total_store_credit</th>\n",
       "      <th>total_earn_points</th>\n",
       "      <th>total_wallet</th>\n",
       "      <th>first_utm_source</th>\n",
       "      <th>first_utm_medium</th>\n",
       "      <th>first_utm_campaign</th>\n",
       "      <th>last_utm_source</th>\n",
       "      <th>last_utm_medium</th>\n",
       "      <th>last_utm_campaign</th>\n",
       "      <th>referrer_url</th>\n",
       "      <th>referrer_domain</th>\n",
       "      <th>lat</th>\n",
       "      <th>lng</th>\n",
       "      <th>address</th>\n",
       "      <th>device_type</th>\n",
       "      <th>new_user</th>\n",
       "      <th>delivery_min</th>\n",
       "      <th>delivery_max</th>\n",
       "      <th>delivery_description</th>\n",
       "      <th>month</th>\n",
       "    </tr>\n",
       "  </thead>\n",
       "  <tbody>\n",
       "    <tr>\n",
       "      <th>308262</th>\n",
       "      <td>67566</td>\n",
       "      <td>P2211300043067</td>\n",
       "      <td>I-P2211300043067</td>\n",
       "      <td>2022-11-30 23:56:20</td>\n",
       "      <td>Delivered</td>\n",
       "      <td>1</td>\n",
       "      <td>232112264AA</td>\n",
       "      <td>Orange Nagpur - 1 Kg</td>\n",
       "      <td>87</td>\n",
       "      <td>82</td>\n",
       "      <td>275</td>\n",
       "      <td>online</td>\n",
       "      <td>juspay</td>\n",
       "      <td>order_rcptid_89835</td>\n",
       "      <td>D</td>\n",
       "      <td>Eshwaran</td>\n",
       "      <td>9.901147e+09</td>\n",
       "      <td>d_eshwar@yahoo.com</td>\n",
       "      <td>560043.0</td>\n",
       "      <td>29/G-1</td>\n",
       "      <td>Pavan Medicals</td>\n",
       "      <td>Horamavu</td>\n",
       "      <td>Karnataka</td>\n",
       "      <td>FIRST50</td>\n",
       "      <td>276</td>\n",
       "      <td>0</td>\n",
       "      <td>0</td>\n",
       "      <td>138</td>\n",
       "      <td>0</td>\n",
       "      <td>NaN</td>\n",
       "      <td>NaN</td>\n",
       "      <td>NaN</td>\n",
       "      <td>NaN</td>\n",
       "      <td>NaN</td>\n",
       "      <td>NaN</td>\n",
       "      <td>NaN</td>\n",
       "      <td>NaN</td>\n",
       "      <td>13.023623</td>\n",
       "      <td>77.660054</td>\n",
       "      <td>No. 63, 4th Cross Rd, Amar Regency Layout, Nan...</td>\n",
       "      <td>android</td>\n",
       "      <td>1</td>\n",
       "      <td>2022-12-01 15:00:00</td>\n",
       "      <td>2022-12-01 21:00:00</td>\n",
       "      <td>Delivery on 1st Dec, 3PM - 9PM</td>\n",
       "      <td>11</td>\n",
       "    </tr>\n",
       "    <tr>\n",
       "      <th>308270</th>\n",
       "      <td>54300</td>\n",
       "      <td>P2211300042881</td>\n",
       "      <td>I-P2211300042881</td>\n",
       "      <td>2022-11-30 23:55:00</td>\n",
       "      <td>Delivered</td>\n",
       "      <td>1</td>\n",
       "      <td>231611125AF</td>\n",
       "      <td>Banana Robusta - 3 Pcs (500 Gms)</td>\n",
       "      <td>17</td>\n",
       "      <td>17</td>\n",
       "      <td>501</td>\n",
       "      <td>online</td>\n",
       "      <td>juspay</td>\n",
       "      <td>order_rcptid_89831</td>\n",
       "      <td>Prerana</td>\n",
       "      <td>Golechha</td>\n",
       "      <td>8.767812e+09</td>\n",
       "      <td>prerana11@gmail.com</td>\n",
       "      <td>560016.0</td>\n",
       "      <td>Flat 409, Block 2, Oracle Gardens</td>\n",
       "      <td>Kalkere</td>\n",
       "      <td>Kalkere</td>\n",
       "      <td>Karnataka</td>\n",
       "      <td>FIRST50</td>\n",
       "      <td>500</td>\n",
       "      <td>0</td>\n",
       "      <td>0</td>\n",
       "      <td>251</td>\n",
       "      <td>0</td>\n",
       "      <td>Website</td>\n",
       "      <td>marketing</td>\n",
       "      <td>app _launch_blrwebsite</td>\n",
       "      <td>Website</td>\n",
       "      <td>marketing</td>\n",
       "      <td>app _launch_blrwebsite</td>\n",
       "      <td>NaN</td>\n",
       "      <td>NaN</td>\n",
       "      <td>13.025633</td>\n",
       "      <td>77.672090</td>\n",
       "      <td>BLOCK-A, ORACLE GARDENS, Manjunatha Nagar, Ext...</td>\n",
       "      <td>android</td>\n",
       "      <td>1</td>\n",
       "      <td>2022-12-01 15:00:00</td>\n",
       "      <td>2022-12-01 21:00:00</td>\n",
       "      <td>Delivery on 1st Dec, 3PM - 9PM</td>\n",
       "      <td>11</td>\n",
       "    </tr>\n",
       "    <tr>\n",
       "      <th>308295</th>\n",
       "      <td>72593</td>\n",
       "      <td>P2211300042641</td>\n",
       "      <td>I-P2211300042641</td>\n",
       "      <td>2022-11-30 23:53:39</td>\n",
       "      <td>Delivered</td>\n",
       "      <td>1</td>\n",
       "      <td>241221192AE</td>\n",
       "      <td>Dragon Fruit - 1 Pc (300 - 350 Gms)</td>\n",
       "      <td>139</td>\n",
       "      <td>95</td>\n",
       "      <td>207</td>\n",
       "      <td>online</td>\n",
       "      <td>juspay</td>\n",
       "      <td>order_rcptid_89826</td>\n",
       "      <td>Prashansa</td>\n",
       "      <td>Bramhecha</td>\n",
       "      <td>8.788615e+09</td>\n",
       "      <td>bramhechaprashansa@gmail.com</td>\n",
       "      <td>400097.0</td>\n",
       "      <td>A-1903, Rizvi Oak</td>\n",
       "      <td>Times Of India,  Malad East</td>\n",
       "      <td>Malad East</td>\n",
       "      <td>Maharashtra</td>\n",
       "      <td>FIRST50</td>\n",
       "      <td>208</td>\n",
       "      <td>0</td>\n",
       "      <td>0</td>\n",
       "      <td>104</td>\n",
       "      <td>0</td>\n",
       "      <td>NaN</td>\n",
       "      <td>NaN</td>\n",
       "      <td>NaN</td>\n",
       "      <td>NaN</td>\n",
       "      <td>NaN</td>\n",
       "      <td>NaN</td>\n",
       "      <td>NaN</td>\n",
       "      <td>NaN</td>\n",
       "      <td>19.190545</td>\n",
       "      <td>72.862135</td>\n",
       "      <td>Rizvi Oak Residential Tower, Castle Service 2,...</td>\n",
       "      <td>android</td>\n",
       "      <td>1</td>\n",
       "      <td>2022-12-01 15:00:00</td>\n",
       "      <td>2022-12-01 21:00:00</td>\n",
       "      <td>Delivery on 1st Dec, 3PM - 9PM</td>\n",
       "      <td>11</td>\n",
       "    </tr>\n",
       "    <tr>\n",
       "      <th>308346</th>\n",
       "      <td>72601</td>\n",
       "      <td>P2211300042125</td>\n",
       "      <td>I-P2211300042125</td>\n",
       "      <td>2022-11-30 23:46:17</td>\n",
       "      <td>Delivered</td>\n",
       "      <td>1</td>\n",
       "      <td>242621438AH</td>\n",
       "      <td>Pear Beauty  - 4 Pcs</td>\n",
       "      <td>215</td>\n",
       "      <td>199</td>\n",
       "      <td>378</td>\n",
       "      <td>online</td>\n",
       "      <td>juspay</td>\n",
       "      <td>order_rcptid_89816</td>\n",
       "      <td>Jaymin</td>\n",
       "      <td>Shah</td>\n",
       "      <td>9.833879e+09</td>\n",
       "      <td>jaymin.shah@gmail.com</td>\n",
       "      <td>400081.0</td>\n",
       "      <td>14/212 Kamdhenu Hari Om Nagar Mulund East</td>\n",
       "      <td>Off Eastern Express Highway</td>\n",
       "      <td>Mumbai</td>\n",
       "      <td>Maharashtra</td>\n",
       "      <td>first50</td>\n",
       "      <td>378</td>\n",
       "      <td>0</td>\n",
       "      <td>0</td>\n",
       "      <td>189</td>\n",
       "      <td>0</td>\n",
       "      <td>FB</td>\n",
       "      <td>FB_tof_mum_strawberry_17.11</td>\n",
       "      <td>FB_tof_mum_freestrawberry_17.11</td>\n",
       "      <td>FB</td>\n",
       "      <td>FB_tof_mum_strawberry_17.11</td>\n",
       "      <td>FB_tof_mum_freestrawberry_17.11</td>\n",
       "      <td>https://pluckk.in/?utm_source=FB&amp;utm_medium=FB...</td>\n",
       "      <td>NaN</td>\n",
       "      <td>19.166074</td>\n",
       "      <td>72.964563</td>\n",
       "      <td>NaN</td>\n",
       "      <td>web</td>\n",
       "      <td>1</td>\n",
       "      <td>2022-12-01 15:00:00</td>\n",
       "      <td>2022-12-01 21:00:00</td>\n",
       "      <td>Delivery on 1st Dec, 3PM - 9PM</td>\n",
       "      <td>11</td>\n",
       "    </tr>\n",
       "    <tr>\n",
       "      <th>308363</th>\n",
       "      <td>72595</td>\n",
       "      <td>P2211300041986</td>\n",
       "      <td>I-P2211300041986</td>\n",
       "      <td>2022-11-30 23:40:53</td>\n",
       "      <td>Delivered</td>\n",
       "      <td>1</td>\n",
       "      <td>242621275AH</td>\n",
       "      <td>Pear Green [Imported] - (600-700 Gms)</td>\n",
       "      <td>137</td>\n",
       "      <td>137</td>\n",
       "      <td>341</td>\n",
       "      <td>online</td>\n",
       "      <td>juspay</td>\n",
       "      <td>order_rcptid_89812</td>\n",
       "      <td>Dhyanesh</td>\n",
       "      <td>Bhatt</td>\n",
       "      <td>9.819798e+09</td>\n",
       "      <td>dhyanesh.bhatt@gmail.com</td>\n",
       "      <td>400050.0</td>\n",
       "      <td>A-504, Kanti Apartments</td>\n",
       "      <td>Mt Mary Road,</td>\n",
       "      <td>Bandra West</td>\n",
       "      <td>Maharashtra</td>\n",
       "      <td>FIRSTONUS</td>\n",
       "      <td>399</td>\n",
       "      <td>0</td>\n",
       "      <td>0</td>\n",
       "      <td>171</td>\n",
       "      <td>0</td>\n",
       "      <td>NaN</td>\n",
       "      <td>NaN</td>\n",
       "      <td>NaN</td>\n",
       "      <td>NaN</td>\n",
       "      <td>NaN</td>\n",
       "      <td>NaN</td>\n",
       "      <td>NaN</td>\n",
       "      <td>NaN</td>\n",
       "      <td>19.048499</td>\n",
       "      <td>72.824754</td>\n",
       "      <td>mount mary ground, 2RXF+9WR, Mount Mary, Bandr...</td>\n",
       "      <td>android</td>\n",
       "      <td>1</td>\n",
       "      <td>2022-12-01 15:00:00</td>\n",
       "      <td>2022-12-01 21:00:00</td>\n",
       "      <td>Delivery on 1st Dec, 3PM - 9PM</td>\n",
       "      <td>11</td>\n",
       "    </tr>\n",
       "  </tbody>\n",
       "</table>\n",
       "</div>"
      ],
      "text/plain": [
       "        user_id    order_number    invoice_number           order_date  \\\n",
       "308262    67566  P2211300043067  I-P2211300043067  2022-11-30 23:56:20   \n",
       "308270    54300  P2211300042881  I-P2211300042881  2022-11-30 23:55:00   \n",
       "308295    72593  P2211300042641  I-P2211300042641  2022-11-30 23:53:39   \n",
       "308346    72601  P2211300042125  I-P2211300042125  2022-11-30 23:46:17   \n",
       "308363    72595  P2211300041986  I-P2211300041986  2022-11-30 23:40:53   \n",
       "\n",
       "           status  quantity          sku  \\\n",
       "308262  Delivered         1  232112264AA   \n",
       "308270  Delivered         1  231611125AF   \n",
       "308295  Delivered         1  241221192AE   \n",
       "308346  Delivered         1  242621438AH   \n",
       "308363  Delivered         1  242621275AH   \n",
       "\n",
       "                                         name  mrp  price  total_order_amount  \\\n",
       "308262                   Orange Nagpur - 1 Kg   87     82                 275   \n",
       "308270       Banana Robusta - 3 Pcs (500 Gms)   17     17                 501   \n",
       "308295    Dragon Fruit - 1 Pc (300 - 350 Gms)  139     95                 207   \n",
       "308346                   Pear Beauty  - 4 Pcs  215    199                 378   \n",
       "308363  Pear Green [Imported] - (600-700 Gms)  137    137                 341   \n",
       "\n",
       "       payment_method payment_gateway   payment_reference first_name  \\\n",
       "308262         online          juspay  order_rcptid_89835          D   \n",
       "308270         online          juspay  order_rcptid_89831    Prerana   \n",
       "308295         online          juspay  order_rcptid_89826  Prashansa   \n",
       "308346         online          juspay  order_rcptid_89816    Jaymin    \n",
       "308363         online          juspay  order_rcptid_89812   Dhyanesh   \n",
       "\n",
       "        last_name        mobile                         email   pincode  \\\n",
       "308262   Eshwaran  9.901147e+09            d_eshwar@yahoo.com  560043.0   \n",
       "308270   Golechha  8.767812e+09           prerana11@gmail.com  560016.0   \n",
       "308295  Bramhecha  8.788615e+09  bramhechaprashansa@gmail.com  400097.0   \n",
       "308346       Shah  9.833879e+09         jaymin.shah@gmail.com  400081.0   \n",
       "308363      Bhatt  9.819798e+09      dhyanesh.bhatt@gmail.com  400050.0   \n",
       "\n",
       "                                    address_line_1  \\\n",
       "308262                                      29/G-1   \n",
       "308270           Flat 409, Block 2, Oracle Gardens   \n",
       "308295                           A-1903, Rizvi Oak   \n",
       "308346  14/212 Kamdhenu Hari Om Nagar Mulund East    \n",
       "308363                     A-504, Kanti Apartments   \n",
       "\n",
       "                      address_line_2         city        state  promocode  \\\n",
       "308262                Pavan Medicals     Horamavu    Karnataka    FIRST50   \n",
       "308270                       Kalkere      Kalkere    Karnataka    FIRST50   \n",
       "308295   Times Of India,  Malad East   Malad East  Maharashtra    FIRST50   \n",
       "308346  Off Eastern Express Highway        Mumbai  Maharashtra    first50   \n",
       "308363                 Mt Mary Road,  Bandra West  Maharashtra  FIRSTONUS   \n",
       "\n",
       "        total_discount  total_shipping_charges  total_store_credit  \\\n",
       "308262             276                       0                   0   \n",
       "308270             500                       0                   0   \n",
       "308295             208                       0                   0   \n",
       "308346             378                       0                   0   \n",
       "308363             399                       0                   0   \n",
       "\n",
       "        total_earn_points  total_wallet first_utm_source  \\\n",
       "308262                138             0              NaN   \n",
       "308270                251             0          Website   \n",
       "308295                104             0              NaN   \n",
       "308346                189             0               FB   \n",
       "308363                171             0              NaN   \n",
       "\n",
       "                   first_utm_medium               first_utm_campaign  \\\n",
       "308262                          NaN                              NaN   \n",
       "308270                    marketing           app _launch_blrwebsite   \n",
       "308295                          NaN                              NaN   \n",
       "308346  FB_tof_mum_strawberry_17.11  FB_tof_mum_freestrawberry_17.11   \n",
       "308363                          NaN                              NaN   \n",
       "\n",
       "       last_utm_source              last_utm_medium  \\\n",
       "308262             NaN                          NaN   \n",
       "308270         Website                    marketing   \n",
       "308295             NaN                          NaN   \n",
       "308346              FB  FB_tof_mum_strawberry_17.11   \n",
       "308363             NaN                          NaN   \n",
       "\n",
       "                      last_utm_campaign  \\\n",
       "308262                              NaN   \n",
       "308270           app _launch_blrwebsite   \n",
       "308295                              NaN   \n",
       "308346  FB_tof_mum_freestrawberry_17.11   \n",
       "308363                              NaN   \n",
       "\n",
       "                                             referrer_url referrer_domain  \\\n",
       "308262                                                NaN             NaN   \n",
       "308270                                                NaN             NaN   \n",
       "308295                                                NaN             NaN   \n",
       "308346  https://pluckk.in/?utm_source=FB&utm_medium=FB...             NaN   \n",
       "308363                                                NaN             NaN   \n",
       "\n",
       "              lat        lng  \\\n",
       "308262  13.023623  77.660054   \n",
       "308270  13.025633  77.672090   \n",
       "308295  19.190545  72.862135   \n",
       "308346  19.166074  72.964563   \n",
       "308363  19.048499  72.824754   \n",
       "\n",
       "                                                  address device_type  \\\n",
       "308262  No. 63, 4th Cross Rd, Amar Regency Layout, Nan...     android   \n",
       "308270  BLOCK-A, ORACLE GARDENS, Manjunatha Nagar, Ext...     android   \n",
       "308295  Rizvi Oak Residential Tower, Castle Service 2,...     android   \n",
       "308346                                                NaN         web   \n",
       "308363  mount mary ground, 2RXF+9WR, Mount Mary, Bandr...     android   \n",
       "\n",
       "        new_user         delivery_min         delivery_max  \\\n",
       "308262         1  2022-12-01 15:00:00  2022-12-01 21:00:00   \n",
       "308270         1  2022-12-01 15:00:00  2022-12-01 21:00:00   \n",
       "308295         1  2022-12-01 15:00:00  2022-12-01 21:00:00   \n",
       "308346         1  2022-12-01 15:00:00  2022-12-01 21:00:00   \n",
       "308363         1  2022-12-01 15:00:00  2022-12-01 21:00:00   \n",
       "\n",
       "                  delivery_description  month  \n",
       "308262  Delivery on 1st Dec, 3PM - 9PM     11  \n",
       "308270  Delivery on 1st Dec, 3PM - 9PM     11  \n",
       "308295  Delivery on 1st Dec, 3PM - 9PM     11  \n",
       "308346  Delivery on 1st Dec, 3PM - 9PM     11  \n",
       "308363  Delivery on 1st Dec, 3PM - 9PM     11  "
      ]
     },
     "execution_count": 210,
     "metadata": {},
     "output_type": "execute_result"
    }
   ],
   "source": [
    "# our retention is starting from the month of november since we do not have previous months data\n",
    "# Therefore, taking only new users from the month of november\n",
    "\n",
    "df_nov_new_users = df_nov[df_nov['new_user'] == 1]\n",
    "df_nov_new_users.head()"
   ]
  },
  {
   "cell_type": "code",
   "execution_count": 211,
   "id": "2faa9942",
   "metadata": {},
   "outputs": [],
   "source": [
    "# Similarly,\n",
    "df_dec_new_users = df_dec[df_dec['new_user'] == 1]\n",
    "df_jan_new_users = df_jan[df_jan['new_user'] == 1]\n",
    "df_feb_new_users = df_feb[df_feb['new_user'] == 1]"
   ]
  },
  {
   "cell_type": "markdown",
   "id": "bd586a97",
   "metadata": {},
   "source": [
    "#### • Below is the rough work just for understanding purpose 👇"
   ]
  },
  {
   "cell_type": "code",
   "execution_count": 212,
   "id": "28891bde",
   "metadata": {},
   "outputs": [
    {
     "data": {
      "text/plain": [
       "3651"
      ]
     },
     "execution_count": 212,
     "metadata": {},
     "output_type": "execute_result"
    }
   ],
   "source": [
    "df_nov_new_users['user_id'].count()"
   ]
  },
  {
   "cell_type": "code",
   "execution_count": 213,
   "id": "fb6e1e18",
   "metadata": {},
   "outputs": [
    {
     "data": {
      "text/plain": [
       "3421"
      ]
     },
     "execution_count": 213,
     "metadata": {},
     "output_type": "execute_result"
    }
   ],
   "source": [
    "df_dec_new_users['user_id'].count()"
   ]
  },
  {
   "cell_type": "code",
   "execution_count": 214,
   "id": "9f1c9ba9",
   "metadata": {},
   "outputs": [
    {
     "data": {
      "text/plain": [
       "1220"
      ]
     },
     "execution_count": 214,
     "metadata": {},
     "output_type": "execute_result"
    }
   ],
   "source": [
    "df_nov_new_users['user_id'].isin(df_dec['user_id']).sum()"
   ]
  },
  {
   "cell_type": "code",
   "execution_count": 215,
   "id": "ae0fef6f",
   "metadata": {},
   "outputs": [
    {
     "data": {
      "text/plain": [
       "0.3341550260202684"
      ]
     },
     "execution_count": 215,
     "metadata": {},
     "output_type": "execute_result"
    }
   ],
   "source": [
    "1220/3651"
   ]
  },
  {
   "cell_type": "code",
   "execution_count": 216,
   "id": "5966f292",
   "metadata": {},
   "outputs": [
    {
     "data": {
      "text/plain": [
       "517"
      ]
     },
     "execution_count": 216,
     "metadata": {},
     "output_type": "execute_result"
    }
   ],
   "source": [
    "df_nov_new_users['user_id'].isin(df_jan['user_id']).sum()"
   ]
  },
  {
   "cell_type": "code",
   "execution_count": 217,
   "id": "15e0e0b3",
   "metadata": {},
   "outputs": [
    {
     "data": {
      "text/plain": [
       "0.14160503971514654"
      ]
     },
     "execution_count": 217,
     "metadata": {},
     "output_type": "execute_result"
    }
   ],
   "source": [
    "517 / 3651"
   ]
  },
  {
   "cell_type": "code",
   "execution_count": 218,
   "id": "d4c7e91e",
   "metadata": {},
   "outputs": [
    {
     "data": {
      "text/plain": [
       "246"
      ]
     },
     "execution_count": 218,
     "metadata": {},
     "output_type": "execute_result"
    }
   ],
   "source": [
    "df_nov_new_users['user_id'].isin(df_feb['user_id']).sum()"
   ]
  },
  {
   "cell_type": "code",
   "execution_count": 219,
   "id": "16efe9c3",
   "metadata": {},
   "outputs": [
    {
     "data": {
      "text/plain": [
       "0.06737880032867707"
      ]
     },
     "execution_count": 219,
     "metadata": {},
     "output_type": "execute_result"
    }
   ],
   "source": [
    "246 / 3651"
   ]
  },
  {
   "cell_type": "markdown",
   "id": "392ff590",
   "metadata": {},
   "source": [
    "#### Rough work ends 👆"
   ]
  },
  {
   "cell_type": "code",
   "execution_count": 220,
   "id": "9f25fe90",
   "metadata": {},
   "outputs": [
    {
     "data": {
      "text/plain": [
       "4"
      ]
     },
     "execution_count": 220,
     "metadata": {},
     "output_type": "execute_result"
    }
   ],
   "source": [
    "# creating list of all the month dataframe created above. This will help me to \n",
    "# write a code in python to compress long code in a small code using for loop. \n",
    "# As generating same insights from different month could be lengthy.\n",
    "# df_nov_new_users, df_dec_new_users, df_jan_new_users, df_feb_new_users = contains new users only, \n",
    "# df_dec, df_jan, df_feb = contains old and new \n",
    "\n",
    "lm = [df_nov_new_users, df_dec, df_jan, df_feb]\n",
    "lm_new = [df_nov_new_users, df_dec_new_users, df_jan_new_users, df_feb_new_users]\n",
    "len(lm)"
   ]
  },
  {
   "cell_type": "code",
   "execution_count": 221,
   "id": "0348424d",
   "metadata": {},
   "outputs": [],
   "source": [
    "# using this python code to generate retention numbers for specific months\n",
    "retention_number = []\n",
    "\n",
    "for i in range(0,len(lm_new)):\n",
    "    j = i + 1\n",
    "    l1=[]\n",
    "    l1.append(lm_new[i]['user_id'].count())\n",
    "    \n",
    "    while j<len(lm):\n",
    "        sum = lm_new[i]['user_id'].isin(lm[j]['user_id']).sum()\n",
    "        l1.append(sum)\n",
    "        j += 1\n",
    "        \n",
    "    retention_number.append(l1)\n",
    "    \n",
    "    \n"
   ]
  },
  {
   "cell_type": "code",
   "execution_count": 222,
   "id": "65e33f19",
   "metadata": {},
   "outputs": [
    {
     "name": "stdout",
     "output_type": "stream",
     "text": [
      "[[3651, 1220, 517, 246], [3421, 667, 293], [4259, 460], [2492]]\n"
     ]
    }
   ],
   "source": [
    "print(retention_number)"
   ]
  },
  {
   "cell_type": "code",
   "execution_count": 223,
   "id": "406d5720",
   "metadata": {},
   "outputs": [],
   "source": [
    "# best way to showcase retention would be through a heatmap.\n",
    "df_heat_map = pd.DataFrame(retention_number)\n"
   ]
  },
  {
   "cell_type": "code",
   "execution_count": 224,
   "id": "ce763e96",
   "metadata": {},
   "outputs": [
    {
     "data": {
      "image/png": "[encoded data removed]",
      "text/plain": [
       "<Figure size 576x432 with 1 Axes>"
      ]
     },
     "metadata": {
      "needs_background": "light"
     },
     "output_type": "display_data"
    }
   ],
   "source": [
    "# using seaborn to showcase a visually explantory heatmap of retention\n",
    "plt.figure(figsize=(8, 6))\n",
    "x_tick_labels = ['Nov', 'Dec', 'Jan', 'Feb']\n",
    "y_tick_labels = ['Nov', 'Dec', 'Jan', 'Feb']\n",
    "sns.heatmap(df_heat_map, annot=True, cmap='Reds', \n",
    "            fmt='g', cbar=False, xticklabels=x_tick_labels, \n",
    "            yticklabels=y_tick_labels)\n",
    "plt.show()"
   ]
  },
  {
   "cell_type": "markdown",
   "id": "3fe2b967",
   "metadata": {},
   "source": [
    "- Here, you can clearly see that november contained all the new users i.e. 3651. But, out of which could only retain 1220 users in the month of december. The retention kept falling in the successive months to 517 and 246 for january and february month respectively. \n",
    "\n",
    "- So, the retention percentage for the span of november to december were - \n",
    "for november to december = 30.67%, december to january = 14.16%, january to february = 6.73%\n",
    "\n",
    "- Similarly, can be done for the following months with different time span. "
   ]
  },
  {
   "cell_type": "markdown",
   "id": "7c22f4f5",
   "metadata": {},
   "source": [
    "---"
   ]
  },
  {
   "cell_type": "markdown",
   "id": "a30fd62d",
   "metadata": {},
   "source": [
    "## 👉 Finding no. 4 \n",
    "### Count orders ordered by new users"
   ]
  },
  {
   "cell_type": "markdown",
   "id": "145b516c",
   "metadata": {},
   "source": [
    "### ➡️To get the orders ordered by new users you need to exclude the old users i.e. 0 in the new_user column."
   ]
  },
  {
   "cell_type": "code",
   "execution_count": 225,
   "id": "7328c603",
   "metadata": {},
   "outputs": [],
   "source": [
    "# create a new dataframe wherin you will only store values of new user\n",
    "# and remove the duplicates on the basis of order number\n",
    "\n",
    "# create an empyt list to store the values of orders ordered by new users\n",
    "orders_by_new_user = []\n",
    "\n",
    "# for November month\n",
    "df_orders_by_newUser_nov = nov[nov['new_user'] == 1 ]\n",
    "orders_by_new_user.append(df_orders_by_newUser_nov['order_number'].nunique())\n",
    "\n",
    "# for December month\n",
    "df_orders_by_newUser_dec = dec[dec['new_user'] == 1 ]\n",
    "orders_by_new_user.append(df_orders_by_newUser_dec['order_number'].nunique())\n",
    "\n",
    "# for January month\n",
    "df_orders_by_newUser_jan = jan[jan['new_user'] == 1 ]\n",
    "orders_by_new_user.append(df_orders_by_newUser_jan['order_number'].nunique())\n",
    "\n",
    "# for February month\n",
    "df_orders_by_newUser_feb = feb[feb['new_user'] == 1 ]\n",
    "orders_by_new_user.append(df_orders_by_newUser_feb['order_number'].nunique())\n"
   ]
  },
  {
   "cell_type": "code",
   "execution_count": 226,
   "id": "106b7db1",
   "metadata": {},
   "outputs": [
    {
     "name": "stdout",
     "output_type": "stream",
     "text": [
      "[4578, 4126, 5170, 2750]\n"
     ]
    }
   ],
   "source": [
    "print(orders_by_new_user)\n"
   ]
  },
  {
   "cell_type": "code",
   "execution_count": 227,
   "id": "d51055cf",
   "metadata": {},
   "outputs": [
    {
     "data": {
      "image/png": "[encoded data removed]",
      "text/plain": [
       "<Figure size 432x288 with 1 Axes>"
      ]
     },
     "metadata": {
      "needs_background": "light"
     },
     "output_type": "display_data"
    }
   ],
   "source": [
    "# visualizing the above findings\n",
    "y = orders_by_new_user\n",
    "x = ['Nov', 'Dec', 'Jan', 'Feb']\n",
    "ax = sns.barplot(x=x, y=y)\n",
    "\n",
    "for i, v in enumerate(y):\n",
    "    plt.text(i, v + 100, str(v), ha='center')\n",
    "\n",
    "# Show the plot\n",
    "plt.show()"
   ]
  },
  {
   "cell_type": "markdown",
   "id": "6913fb52",
   "metadata": {},
   "source": [
    "➡️ Here, new users from the month of january placed orders significantly in great numbers as compared to the second highest ordered month i.e. November. \n",
    "\n",
    "➡️ Whereas, february was the month with the lowest amount of orders placed by new users with just 2750 orders. \n",
    "\n",
    "➡️ In the above plot, we can figure out that November, December and January generated steady profit in terms of orders placed by new users. But, we could see a sudden dip towards the month of february.\n",
    "\n",
    "➡️ We can also speculate that februray might have low number of new users and thus, less orders. "
   ]
  },
  {
   "cell_type": "markdown",
   "id": "f7d02af0",
   "metadata": {},
   "source": [
    "---"
   ]
  },
  {
   "cell_type": "markdown",
   "id": "91f95890",
   "metadata": {},
   "source": [
    "## 👉Finding no. 6 \n",
    "### New user order frequency vs old user order frequency.\n"
   ]
  },
  {
   "cell_type": "markdown",
   "id": "aceb29dd",
   "metadata": {},
   "source": [
    "### ➡️Here, we need to find the order frequency month by month for new users as well as for old users too."
   ]
  },
  {
   "cell_type": "code",
   "execution_count": 228,
   "id": "48c1fd9b",
   "metadata": {},
   "outputs": [],
   "source": [
    "# using some of the above variables where new users are taken\n",
    "\n",
    "# interchange order number and take nunqiue for them \n",
    "\n",
    "new_users = []\n",
    "old_users = []\n",
    "uniq_order_number = []\n",
    "uniq_user_id_count = []\n",
    "freq_new = []\n",
    "freq_old = []\n",
    "\n",
    "# freq for nov with new users\n",
    "new_users_nov = nov[nov['new_user'] == 1]   # extracting new users into a new dataframe\n",
    "# new_users_nov = new_users_nov.drop_duplicates(subset='order_number')\n",
    "uniq_order_number.append(new_users_nov['order_number'].nunique())   #appending unique order_number = orders placed by new users only\n",
    "uniq_user_id_count.append(new_users_nov['user_id'].nunique())  # appending user count of that specific month\n",
    "\n",
    "# user id can be repeatetive as one user can order different orders which will generate different order_numbers. \n",
    "\n",
    "# freq for nov with new users\n",
    "new_users_dec = dec[dec['new_user'] == 1]\n",
    "# new_users_dec = new_users_dec.drop_duplicates(subset='order_number')\n",
    "uniq_order_number.append(new_users_dec['order_number'].nunique())\n",
    "uniq_user_id_count.append(new_users_dec['user_id'].nunique())\n",
    "\n",
    "# freq for nov with new users\n",
    "new_users_jan = jan[jan['new_user'] == 1]\n",
    "# new_users_jan = new_users_jan.drop_duplicates(subset='order_number')\n",
    "uniq_order_number.append(new_users_jan['order_number'].nunique())\n",
    "uniq_user_id_count.append(new_users_jan['user_id'].nunique())\n",
    "\n",
    "# freq for nov with new users\n",
    "new_users_feb = feb[feb['new_user'] == 1]\n",
    "# new_users_feb = new_users_feb.drop_duplicates(subset='order_number')\n",
    "uniq_order_number.append(new_users_feb['order_number'].nunique())\n",
    "uniq_user_id_count.append(new_users_feb['user_id'].nunique())"
   ]
  },
  {
   "cell_type": "code",
   "execution_count": 229,
   "id": "60d649b4",
   "metadata": {},
   "outputs": [
    {
     "name": "stdout",
     "output_type": "stream",
     "text": [
      "[4578, 4126, 5170, 2750]\n",
      "[4576, 4126, 5170, 2750]\n"
     ]
    }
   ],
   "source": [
    "print(uniq_order_number)\n",
    "print(uniq_user_id_count)"
   ]
  },
  {
   "cell_type": "code",
   "execution_count": 230,
   "id": "2e1c0dd0",
   "metadata": {},
   "outputs": [
    {
     "data": {
      "application/vnd.plotly.v1+json": {
       "config": {
        "plotlyServerURL": "https://plot.ly"
       },
       "data": [
        {
         "name": "Unique orders placed",
         "type": "bar",
         "x": [
          "Nov",
          "Dec",
          "Jan",
          "Feb"
         ],
         "y": [
          4578,
          4126,
          5170,
          2750
         ]
        },
        {
         "name": "Users",
         "type": "bar",
         "x": [
          "Nov",
          "Dec",
          "Jan",
          "Feb"
         ],
         "y": [
          4576,
          4126,
          5170,
          2750
         ]
        }
       ],
       "layout": {
        "barmode": "group",
        "template": {
         "data": {
          "bar": [
           {
            "error_x": {
             "color": "#2a3f5f"
            },
            "error_y": {
             "color": "#2a3f5f"
            },
            "marker": {
             "line": {
              "color": "#E5ECF6",
              "width": 0.5
             },
             "pattern": {
              "fillmode": "overlay",
              "size": 10,
              "solidity": 0.2
             }
            },
            "type": "bar"
           }
          ],
          "barpolar": [
           {
            "marker": {
             "line": {
              "color": "#E5ECF6",
              "width": 0.5
             },
             "pattern": {
              "fillmode": "overlay",
              "size": 10,
              "solidity": 0.2
             }
            },
            "type": "barpolar"
           }
          ],
          "carpet": [
           {
            "aaxis": {
             "endlinecolor": "#2a3f5f",
             "gridcolor": "white",
             "linecolor": "white",
             "minorgridcolor": "white",
             "startlinecolor": "#2a3f5f"
            },
            "baxis": {
             "endlinecolor": "#2a3f5f",
             "gridcolor": "white",
             "linecolor": "white",
             "minorgridcolor": "white",
             "startlinecolor": "#2a3f5f"
            },
            "type": "carpet"
           }
          ],
          "choropleth": [
           {
            "colorbar": {
             "outlinewidth": 0,
             "ticks": ""
            },
            "type": "choropleth"
           }
          ],
          "contour": [
           {
            "colorbar": {
             "outlinewidth": 0,
             "ticks": ""
            },
            "colorscale": [
             [
              0,
              "#0d0887"
             ],
             [
              0.1111111111111111,
              "#46039f"
             ],
             [
              0.2222222222222222,
              "#7201a8"
             ],
             [
              0.3333333333333333,
              "#9c179e"
             ],
             [
              0.4444444444444444,
              "#bd3786"
             ],
             [
              0.5555555555555556,
              "#d8576b"
             ],
             [
              0.6666666666666666,
              "#ed7953"
             ],
             [
              0.7777777777777778,
              "#fb9f3a"
             ],
             [
              0.8888888888888888,
              "#fdca26"
             ],
             [
              1,
              "#f0f921"
             ]
            ],
            "type": "contour"
           }
          ],
          "contourcarpet": [
           {
            "colorbar": {
             "outlinewidth": 0,
             "ticks": ""
            },
            "type": "contourcarpet"
           }
          ],
          "heatmap": [
           {
            "colorbar": {
             "outlinewidth": 0,
             "ticks": ""
            },
            "colorscale": [
             [
              0,
              "#0d0887"
             ],
             [
              0.1111111111111111,
              "#46039f"
             ],
             [
              0.2222222222222222,
              "#7201a8"
             ],
             [
              0.3333333333333333,
              "#9c179e"
             ],
             [
              0.4444444444444444,
              "#bd3786"
             ],
             [
              0.5555555555555556,
              "#d8576b"
             ],
             [
              0.6666666666666666,
              "#ed7953"
             ],
             [
              0.7777777777777778,
              "#fb9f3a"
             ],
             [
              0.8888888888888888,
              "#fdca26"
             ],
             [
              1,
              "#f0f921"
             ]
            ],
            "type": "heatmap"
           }
          ],
          "heatmapgl": [
           {
            "colorbar": {
             "outlinewidth": 0,
             "ticks": ""
            },
            "colorscale": [
             [
              0,
              "#0d0887"
             ],
             [
              0.1111111111111111,
              "#46039f"
             ],
             [
              0.2222222222222222,
              "#7201a8"
             ],
             [
              0.3333333333333333,
              "#9c179e"
             ],
             [
              0.4444444444444444,
              "#bd3786"
             ],
             [
              0.5555555555555556,
              "#d8576b"
             ],
             [
              0.6666666666666666,
              "#ed7953"
             ],
             [
              0.7777777777777778,
              "#fb9f3a"
             ],
             [
              0.8888888888888888,
              "#fdca26"
             ],
             [
              1,
              "#f0f921"
             ]
            ],
            "type": "heatmapgl"
           }
          ],
          "histogram": [
           {
            "marker": {
             "pattern": {
              "fillmode": "overlay",
              "size": 10,
              "solidity": 0.2
             }
            },
            "type": "histogram"
           }
          ],
          "histogram2d": [
           {
            "colorbar": {
             "outlinewidth": 0,
             "ticks": ""
            },
            "colorscale": [
             [
              0,
              "#0d0887"
             ],
             [
              0.1111111111111111,
              "#46039f"
             ],
             [
              0.2222222222222222,
              "#7201a8"
             ],
             [
              0.3333333333333333,
              "#9c179e"
             ],
             [
              0.4444444444444444,
              "#bd3786"
             ],
             [
              0.5555555555555556,
              "#d8576b"
             ],
             [
              0.6666666666666666,
              "#ed7953"
             ],
             [
              0.7777777777777778,
              "#fb9f3a"
             ],
             [
              0.8888888888888888,
              "#fdca26"
             ],
             [
              1,
              "#f0f921"
             ]
            ],
            "type": "histogram2d"
           }
          ],
          "histogram2dcontour": [
           {
            "colorbar": {
             "outlinewidth": 0,
             "ticks": ""
            },
            "colorscale": [
             [
              0,
              "#0d0887"
             ],
             [
              0.1111111111111111,
              "#46039f"
             ],
             [
              0.2222222222222222,
              "#7201a8"
             ],
             [
              0.3333333333333333,
              "#9c179e"
             ],
             [
              0.4444444444444444,
              "#bd3786"
             ],
             [
              0.5555555555555556,
              "#d8576b"
             ],
             [
              0.6666666666666666,
              "#ed7953"
             ],
             [
              0.7777777777777778,
              "#fb9f3a"
             ],
             [
              0.8888888888888888,
              "#fdca26"
             ],
             [
              1,
              "#f0f921"
             ]
            ],
            "type": "histogram2dcontour"
           }
          ],
          "mesh3d": [
           {
            "colorbar": {
             "outlinewidth": 0,
             "ticks": ""
            },
            "type": "mesh3d"
           }
          ],
          "parcoords": [
           {
            "line": {
             "colorbar": {
              "outlinewidth": 0,
              "ticks": ""
             }
            },
            "type": "parcoords"
           }
          ],
          "pie": [
           {
            "automargin": true,
            "type": "pie"
           }
          ],
          "scatter": [
           {
            "fillpattern": {
             "fillmode": "overlay",
             "size": 10,
             "solidity": 0.2
            },
            "type": "scatter"
           }
          ],
          "scatter3d": [
           {
            "line": {
             "colorbar": {
              "outlinewidth": 0,
              "ticks": ""
             }
            },
            "marker": {
             "colorbar": {
              "outlinewidth": 0,
              "ticks": ""
             }
            },
            "type": "scatter3d"
           }
          ],
          "scattercarpet": [
           {
            "marker": {
             "colorbar": {
              "outlinewidth": 0,
              "ticks": ""
             }
            },
            "type": "scattercarpet"
           }
          ],
          "scattergeo": [
           {
            "marker": {
             "colorbar": {
              "outlinewidth": 0,
              "ticks": ""
             }
            },
            "type": "scattergeo"
           }
          ],
          "scattergl": [
           {
            "marker": {
             "colorbar": {
              "outlinewidth": 0,
              "ticks": ""
             }
            },
            "type": "scattergl"
           }
          ],
          "scattermapbox": [
           {
            "marker": {
             "colorbar": {
              "outlinewidth": 0,
              "ticks": ""
             }
            },
            "type": "scattermapbox"
           }
          ],
          "scatterpolar": [
           {
            "marker": {
             "colorbar": {
              "outlinewidth": 0,
              "ticks": ""
             }
            },
            "type": "scatterpolar"
           }
          ],
          "scatterpolargl": [
           {
            "marker": {
             "colorbar": {
              "outlinewidth": 0,
              "ticks": ""
             }
            },
            "type": "scatterpolargl"
           }
          ],
          "scatterternary": [
           {
            "marker": {
             "colorbar": {
              "outlinewidth": 0,
              "ticks": ""
             }
            },
            "type": "scatterternary"
           }
          ],
          "surface": [
           {
            "colorbar": {
             "outlinewidth": 0,
             "ticks": ""
            },
            "colorscale": [
             [
              0,
              "#0d0887"
             ],
             [
              0.1111111111111111,
              "#46039f"
             ],
             [
              0.2222222222222222,
              "#7201a8"
             ],
             [
              0.3333333333333333,
              "#9c179e"
             ],
             [
              0.4444444444444444,
              "#bd3786"
             ],
             [
              0.5555555555555556,
              "#d8576b"
             ],
             [
              0.6666666666666666,
              "#ed7953"
             ],
             [
              0.7777777777777778,
              "#fb9f3a"
             ],
             [
              0.8888888888888888,
              "#fdca26"
             ],
             [
              1,
              "#f0f921"
             ]
            ],
            "type": "surface"
           }
          ],
          "table": [
           {
            "cells": {
             "fill": {
              "color": "#EBF0F8"
             },
             "line": {
              "color": "white"
             }
            },
            "header": {
             "fill": {
              "color": "#C8D4E3"
             },
             "line": {
              "color": "white"
             }
            },
            "type": "table"
           }
          ]
         },
         "layout": {
          "annotationdefaults": {
           "arrowcolor": "#2a3f5f",
           "arrowhead": 0,
           "arrowwidth": 1
          },
          "autotypenumbers": "strict",
          "coloraxis": {
           "colorbar": {
            "outlinewidth": 0,
            "ticks": ""
           }
          },
          "colorscale": {
           "diverging": [
            [
             0,
             "#8e0152"
            ],
            [
             0.1,
             "#c51b7d"
            ],
            [
             0.2,
             "#de77ae"
            ],
            [
             0.3,
             "#f1b6da"
            ],
            [
             0.4,
             "#fde0ef"
            ],
            [
             0.5,
             "#f7f7f7"
            ],
            [
             0.6,
             "#e6f5d0"
            ],
            [
             0.7,
             "#b8e186"
            ],
            [
             0.8,
             "#7fbc41"
            ],
            [
             0.9,
             "#4d9221"
            ],
            [
             1,
             "#276419"
            ]
           ],
           "sequential": [
            [
             0,
             "#0d0887"
            ],
            [
             0.1111111111111111,
             "#46039f"
            ],
            [
             0.2222222222222222,
             "#7201a8"
            ],
            [
             0.3333333333333333,
             "#9c179e"
            ],
            [
             0.4444444444444444,
             "#bd3786"
            ],
            [
             0.5555555555555556,
             "#d8576b"
            ],
            [
             0.6666666666666666,
             "#ed7953"
            ],
            [
             0.7777777777777778,
             "#fb9f3a"
            ],
            [
             0.8888888888888888,
             "#fdca26"
            ],
            [
             1,
             "#f0f921"
            ]
           ],
           "sequentialminus": [
            [
             0,
             "#0d0887"
            ],
            [
             0.1111111111111111,
             "#46039f"
            ],
            [
             0.2222222222222222,
             "#7201a8"
            ],
            [
             0.3333333333333333,
             "#9c179e"
            ],
            [
             0.4444444444444444,
             "#bd3786"
            ],
            [
             0.5555555555555556,
             "#d8576b"
            ],
            [
             0.6666666666666666,
             "#ed7953"
            ],
            [
             0.7777777777777778,
             "#fb9f3a"
            ],
            [
             0.8888888888888888,
             "#fdca26"
            ],
            [
             1,
             "#f0f921"
            ]
           ]
          },
          "colorway": [
           "#636efa",
           "#EF553B",
           "#00cc96",
           "#ab63fa",
           "#FFA15A",
           "#19d3f3",
           "#FF6692",
           "#B6E880",
           "#FF97FF",
           "#FECB52"
          ],
          "font": {
           "color": "#2a3f5f"
          },
          "geo": {
           "bgcolor": "white",
           "lakecolor": "white",
           "landcolor": "#E5ECF6",
           "showlakes": true,
           "showland": true,
           "subunitcolor": "white"
          },
          "hoverlabel": {
           "align": "left"
          },
          "hovermode": "closest",
          "mapbox": {
           "style": "light"
          },
          "paper_bgcolor": "white",
          "plot_bgcolor": "#E5ECF6",
          "polar": {
           "angularaxis": {
            "gridcolor": "white",
            "linecolor": "white",
            "ticks": ""
           },
           "bgcolor": "#E5ECF6",
           "radialaxis": {
            "gridcolor": "white",
            "linecolor": "white",
            "ticks": ""
           }
          },
          "scene": {
           "xaxis": {
            "backgroundcolor": "#E5ECF6",
            "gridcolor": "white",
            "gridwidth": 2,
            "linecolor": "white",
            "showbackground": true,
            "ticks": "",
            "zerolinecolor": "white"
           },
           "yaxis": {
            "backgroundcolor": "#E5ECF6",
            "gridcolor": "white",
            "gridwidth": 2,
            "linecolor": "white",
            "showbackground": true,
            "ticks": "",
            "zerolinecolor": "white"
           },
           "zaxis": {
            "backgroundcolor": "#E5ECF6",
            "gridcolor": "white",
            "gridwidth": 2,
            "linecolor": "white",
            "showbackground": true,
            "ticks": "",
            "zerolinecolor": "white"
           }
          },
          "shapedefaults": {
           "line": {
            "color": "#2a3f5f"
           }
          },
          "ternary": {
           "aaxis": {
            "gridcolor": "white",
            "linecolor": "white",
            "ticks": ""
           },
           "baxis": {
            "gridcolor": "white",
            "linecolor": "white",
            "ticks": ""
           },
           "bgcolor": "#E5ECF6",
           "caxis": {
            "gridcolor": "white",
            "linecolor": "white",
            "ticks": ""
           }
          },
          "title": {
           "x": 0.05
          },
          "xaxis": {
           "automargin": true,
           "gridcolor": "white",
           "linecolor": "white",
           "ticks": "",
           "title": {
            "standoff": 15
           },
           "zerolinecolor": "white",
           "zerolinewidth": 2
          },
          "yaxis": {
           "automargin": true,
           "gridcolor": "white",
           "linecolor": "white",
           "ticks": "",
           "title": {
            "standoff": 15
           },
           "zerolinecolor": "white",
           "zerolinewidth": 2
          }
         }
        }
       }
      },
      "text/html": [
       "<div>                            <div id=\"a48f7e2a-2d26-4f01-b04f-678f64c95c70\" class=\"plotly-graph-div\" style=\"height:525px; width:100%;\"></div>            <script type=\"text/javascript\">                require([\"plotly\"], function(Plotly) {                    window.PLOTLYENV=window.PLOTLYENV || {};                                    if (document.getElementById(\"a48f7e2a-2d26-4f01-b04f-678f64c95c70\")) {                    Plotly.newPlot(                        \"a48f7e2a-2d26-4f01-b04f-678f64c95c70\",                        [{\"name\":\"Unique orders placed\",\"x\":[\"Nov\",\"Dec\",\"Jan\",\"Feb\"],\"y\":[4578,4126,5170,2750],\"type\":\"bar\"},{\"name\":\"Users\",\"x\":[\"Nov\",\"Dec\",\"Jan\",\"Feb\"],\"y\":[4576,4126,5170,2750],\"type\":\"bar\"}],                        {\"template\":{\"data\":{\"histogram2dcontour\":[{\"type\":\"histogram2dcontour\",\"colorbar\":{\"outlinewidth\":0,\"ticks\":\"\"},\"colorscale\":[[0.0,\"#0d0887\"],[0.1111111111111111,\"#46039f\"],[0.2222222222222222,\"#7201a8\"],[0.3333333333333333,\"#9c179e\"],[0.4444444444444444,\"#bd3786\"],[0.5555555555555556,\"#d8576b\"],[0.6666666666666666,\"#ed7953\"],[0.7777777777777778,\"#fb9f3a\"],[0.8888888888888888,\"#fdca26\"],[1.0,\"#f0f921\"]]}],\"choropleth\":[{\"type\":\"choropleth\",\"colorbar\":{\"outlinewidth\":0,\"ticks\":\"\"}}],\"histogram2d\":[{\"type\":\"histogram2d\",\"colorbar\":{\"outlinewidth\":0,\"ticks\":\"\"},\"colorscale\":[[0.0,\"#0d0887\"],[0.1111111111111111,\"#46039f\"],[0.2222222222222222,\"#7201a8\"],[0.3333333333333333,\"#9c179e\"],[0.4444444444444444,\"#bd3786\"],[0.5555555555555556,\"#d8576b\"],[0.6666666666666666,\"#ed7953\"],[0.7777777777777778,\"#fb9f3a\"],[0.8888888888888888,\"#fdca26\"],[1.0,\"#f0f921\"]]}],\"heatmap\":[{\"type\":\"heatmap\",\"colorbar\":{\"outlinewidth\":0,\"ticks\":\"\"},\"colorscale\":[[0.0,\"#0d0887\"],[0.1111111111111111,\"#46039f\"],[0.2222222222222222,\"#7201a8\"],[0.3333333333333333,\"#9c179e\"],[0.4444444444444444,\"#bd3786\"],[0.5555555555555556,\"#d8576b\"],[0.6666666666666666,\"#ed7953\"],[0.7777777777777778,\"#fb9f3a\"],[0.8888888888888888,\"#fdca26\"],[1.0,\"#f0f921\"]]}],\"heatmapgl\":[{\"type\":\"heatmapgl\",\"colorbar\":{\"outlinewidth\":0,\"ticks\":\"\"},\"colorscale\":[[0.0,\"#0d0887\"],[0.1111111111111111,\"#46039f\"],[0.2222222222222222,\"#7201a8\"],[0.3333333333333333,\"#9c179e\"],[0.4444444444444444,\"#bd3786\"],[0.5555555555555556,\"#d8576b\"],[0.6666666666666666,\"#ed7953\"],[0.7777777777777778,\"#fb9f3a\"],[0.8888888888888888,\"#fdca26\"],[1.0,\"#f0f921\"]]}],\"contourcarpet\":[{\"type\":\"contourcarpet\",\"colorbar\":{\"outlinewidth\":0,\"ticks\":\"\"}}],\"contour\":[{\"type\":\"contour\",\"colorbar\":{\"outlinewidth\":0,\"ticks\":\"\"},\"colorscale\":[[0.0,\"#0d0887\"],[0.1111111111111111,\"#46039f\"],[0.2222222222222222,\"#7201a8\"],[0.3333333333333333,\"#9c179e\"],[0.4444444444444444,\"#bd3786\"],[0.5555555555555556,\"#d8576b\"],[0.6666666666666666,\"#ed7953\"],[0.7777777777777778,\"#fb9f3a\"],[0.8888888888888888,\"#fdca26\"],[1.0,\"#f0f921\"]]}],\"surface\":[{\"type\":\"surface\",\"colorbar\":{\"outlinewidth\":0,\"ticks\":\"\"},\"colorscale\":[[0.0,\"#0d0887\"],[0.1111111111111111,\"#46039f\"],[0.2222222222222222,\"#7201a8\"],[0.3333333333333333,\"#9c179e\"],[0.4444444444444444,\"#bd3786\"],[0.5555555555555556,\"#d8576b\"],[0.6666666666666666,\"#ed7953\"],[0.7777777777777778,\"#fb9f3a\"],[0.8888888888888888,\"#fdca26\"],[1.0,\"#f0f921\"]]}],\"mesh3d\":[{\"type\":\"mesh3d\",\"colorbar\":{\"outlinewidth\":0,\"ticks\":\"\"}}],\"scatter\":[{\"fillpattern\":{\"fillmode\":\"overlay\",\"size\":10,\"solidity\":0.2},\"type\":\"scatter\"}],\"parcoords\":[{\"type\":\"parcoords\",\"line\":{\"colorbar\":{\"outlinewidth\":0,\"ticks\":\"\"}}}],\"scatterpolargl\":[{\"type\":\"scatterpolargl\",\"marker\":{\"colorbar\":{\"outlinewidth\":0,\"ticks\":\"\"}}}],\"bar\":[{\"error_x\":{\"color\":\"#2a3f5f\"},\"error_y\":{\"color\":\"#2a3f5f\"},\"marker\":{\"line\":{\"color\":\"#E5ECF6\",\"width\":0.5},\"pattern\":{\"fillmode\":\"overlay\",\"size\":10,\"solidity\":0.2}},\"type\":\"bar\"}],\"scattergeo\":[{\"type\":\"scattergeo\",\"marker\":{\"colorbar\":{\"outlinewidth\":0,\"ticks\":\"\"}}}],\"scatterpolar\":[{\"type\":\"scatterpolar\",\"marker\":{\"colorbar\":{\"outlinewidth\":0,\"ticks\":\"\"}}}],\"histogram\":[{\"marker\":{\"pattern\":{\"fillmode\":\"overlay\",\"size\":10,\"solidity\":0.2}},\"type\":\"histogram\"}],\"scattergl\":[{\"type\":\"scattergl\",\"marker\":{\"colorbar\":{\"outlinewidth\":0,\"ticks\":\"\"}}}],\"scatter3d\":[{\"type\":\"scatter3d\",\"line\":{\"colorbar\":{\"outlinewidth\":0,\"ticks\":\"\"}},\"marker\":{\"colorbar\":{\"outlinewidth\":0,\"ticks\":\"\"}}}],\"scattermapbox\":[{\"type\":\"scattermapbox\",\"marker\":{\"colorbar\":{\"outlinewidth\":0,\"ticks\":\"\"}}}],\"scatterternary\":[{\"type\":\"scatterternary\",\"marker\":{\"colorbar\":{\"outlinewidth\":0,\"ticks\":\"\"}}}],\"scattercarpet\":[{\"type\":\"scattercarpet\",\"marker\":{\"colorbar\":{\"outlinewidth\":0,\"ticks\":\"\"}}}],\"carpet\":[{\"aaxis\":{\"endlinecolor\":\"#2a3f5f\",\"gridcolor\":\"white\",\"linecolor\":\"white\",\"minorgridcolor\":\"white\",\"startlinecolor\":\"#2a3f5f\"},\"baxis\":{\"endlinecolor\":\"#2a3f5f\",\"gridcolor\":\"white\",\"linecolor\":\"white\",\"minorgridcolor\":\"white\",\"startlinecolor\":\"#2a3f5f\"},\"type\":\"carpet\"}],\"table\":[{\"cells\":{\"fill\":{\"color\":\"#EBF0F8\"},\"line\":{\"color\":\"white\"}},\"header\":{\"fill\":{\"color\":\"#C8D4E3\"},\"line\":{\"color\":\"white\"}},\"type\":\"table\"}],\"barpolar\":[{\"marker\":{\"line\":{\"color\":\"#E5ECF6\",\"width\":0.5},\"pattern\":{\"fillmode\":\"overlay\",\"size\":10,\"solidity\":0.2}},\"type\":\"barpolar\"}],\"pie\":[{\"automargin\":true,\"type\":\"pie\"}]},\"layout\":{\"autotypenumbers\":\"strict\",\"colorway\":[\"#636efa\",\"#EF553B\",\"#00cc96\",\"#ab63fa\",\"#FFA15A\",\"#19d3f3\",\"#FF6692\",\"#B6E880\",\"#FF97FF\",\"#FECB52\"],\"font\":{\"color\":\"#2a3f5f\"},\"hovermode\":\"closest\",\"hoverlabel\":{\"align\":\"left\"},\"paper_bgcolor\":\"white\",\"plot_bgcolor\":\"#E5ECF6\",\"polar\":{\"bgcolor\":\"#E5ECF6\",\"angularaxis\":{\"gridcolor\":\"white\",\"linecolor\":\"white\",\"ticks\":\"\"},\"radialaxis\":{\"gridcolor\":\"white\",\"linecolor\":\"white\",\"ticks\":\"\"}},\"ternary\":{\"bgcolor\":\"#E5ECF6\",\"aaxis\":{\"gridcolor\":\"white\",\"linecolor\":\"white\",\"ticks\":\"\"},\"baxis\":{\"gridcolor\":\"white\",\"linecolor\":\"white\",\"ticks\":\"\"},\"caxis\":{\"gridcolor\":\"white\",\"linecolor\":\"white\",\"ticks\":\"\"}},\"coloraxis\":{\"colorbar\":{\"outlinewidth\":0,\"ticks\":\"\"}},\"colorscale\":{\"sequential\":[[0.0,\"#0d0887\"],[0.1111111111111111,\"#46039f\"],[0.2222222222222222,\"#7201a8\"],[0.3333333333333333,\"#9c179e\"],[0.4444444444444444,\"#bd3786\"],[0.5555555555555556,\"#d8576b\"],[0.6666666666666666,\"#ed7953\"],[0.7777777777777778,\"#fb9f3a\"],[0.8888888888888888,\"#fdca26\"],[1.0,\"#f0f921\"]],\"sequentialminus\":[[0.0,\"#0d0887\"],[0.1111111111111111,\"#46039f\"],[0.2222222222222222,\"#7201a8\"],[0.3333333333333333,\"#9c179e\"],[0.4444444444444444,\"#bd3786\"],[0.5555555555555556,\"#d8576b\"],[0.6666666666666666,\"#ed7953\"],[0.7777777777777778,\"#fb9f3a\"],[0.8888888888888888,\"#fdca26\"],[1.0,\"#f0f921\"]],\"diverging\":[[0,\"#8e0152\"],[0.1,\"#c51b7d\"],[0.2,\"#de77ae\"],[0.3,\"#f1b6da\"],[0.4,\"#fde0ef\"],[0.5,\"#f7f7f7\"],[0.6,\"#e6f5d0\"],[0.7,\"#b8e186\"],[0.8,\"#7fbc41\"],[0.9,\"#4d9221\"],[1,\"#276419\"]]},\"xaxis\":{\"gridcolor\":\"white\",\"linecolor\":\"white\",\"ticks\":\"\",\"title\":{\"standoff\":15},\"zerolinecolor\":\"white\",\"automargin\":true,\"zerolinewidth\":2},\"yaxis\":{\"gridcolor\":\"white\",\"linecolor\":\"white\",\"ticks\":\"\",\"title\":{\"standoff\":15},\"zerolinecolor\":\"white\",\"automargin\":true,\"zerolinewidth\":2},\"scene\":{\"xaxis\":{\"backgroundcolor\":\"#E5ECF6\",\"gridcolor\":\"white\",\"linecolor\":\"white\",\"showbackground\":true,\"ticks\":\"\",\"zerolinecolor\":\"white\",\"gridwidth\":2},\"yaxis\":{\"backgroundcolor\":\"#E5ECF6\",\"gridcolor\":\"white\",\"linecolor\":\"white\",\"showbackground\":true,\"ticks\":\"\",\"zerolinecolor\":\"white\",\"gridwidth\":2},\"zaxis\":{\"backgroundcolor\":\"#E5ECF6\",\"gridcolor\":\"white\",\"linecolor\":\"white\",\"showbackground\":true,\"ticks\":\"\",\"zerolinecolor\":\"white\",\"gridwidth\":2}},\"shapedefaults\":{\"line\":{\"color\":\"#2a3f5f\"}},\"annotationdefaults\":{\"arrowcolor\":\"#2a3f5f\",\"arrowhead\":0,\"arrowwidth\":1},\"geo\":{\"bgcolor\":\"white\",\"landcolor\":\"#E5ECF6\",\"subunitcolor\":\"white\",\"showland\":true,\"showlakes\":true,\"lakecolor\":\"white\"},\"title\":{\"x\":0.05},\"mapbox\":{\"style\":\"light\"}}},\"barmode\":\"group\"},                        {\"responsive\": true}                    ).then(function(){\n",
       "                            \n",
       "var gd = document.getElementById('a48f7e2a-2d26-4f01-b04f-678f64c95c70');\n",
       "var x = new MutationObserver(function (mutations, observer) {{\n",
       "        var display = window.getComputedStyle(gd).display;\n",
       "        if (!display || display === 'none') {{\n",
       "            console.log([gd, 'removed!']);\n",
       "            Plotly.purge(gd);\n",
       "            observer.disconnect();\n",
       "        }}\n",
       "}});\n",
       "\n",
       "// Listen for the removal of the full notebook cells\n",
       "var notebookContainer = gd.closest('#notebook-container');\n",
       "if (notebookContainer) {{\n",
       "    x.observe(notebookContainer, {childList: true});\n",
       "}}\n",
       "\n",
       "// Listen for the clearing of the current output cell\n",
       "var outputEl = gd.closest('.output');\n",
       "if (outputEl) {{\n",
       "    x.observe(outputEl, {childList: true});\n",
       "}}\n",
       "\n",
       "                        })                };                });            </script>        </div>"
      ]
     },
     "metadata": {},
     "output_type": "display_data"
    }
   ],
   "source": [
    "# Showing Visual Comparison between unique order placed by total users on a monthly basis\n",
    "\n",
    "fig = go.Figure()\n",
    "fig.add_trace(go.Bar(x=['Nov', 'Dec', 'Jan', 'Feb'], y=uniq_order_number, name='Unique orders placed'))\n",
    "fig.add_trace(go.Bar(x=['Nov', 'Dec', 'Jan', 'Feb'], y=uniq_user_id_count, name='Users'))\n",
    "\n",
    "fig.update_layout(barmode='group')\n",
    "fig.show()"
   ]
  },
  {
   "cell_type": "code",
   "execution_count": 231,
   "id": "213ed50f",
   "metadata": {},
   "outputs": [],
   "source": [
    "# calculating the frequency of orders placed by new users on monthly basis \n",
    "freq_new = [x / y for x, y in zip(uniq_order_number, uniq_user_id_count)]     "
   ]
  },
  {
   "cell_type": "code",
   "execution_count": 232,
   "id": "f5dc7f37",
   "metadata": {},
   "outputs": [
    {
     "name": "stdout",
     "output_type": "stream",
     "text": [
      "[1.000437062937063, 1.0, 1.0, 1.0]\n"
     ]
    }
   ],
   "source": [
    "print(freq_new)"
   ]
  },
  {
   "cell_type": "code",
   "execution_count": 233,
   "id": "f310b3bc",
   "metadata": {},
   "outputs": [
    {
     "data": {
      "application/vnd.plotly.v1+json": {
       "config": {
        "plotlyServerURL": "https://plot.ly"
       },
       "data": [
        {
         "type": "bar",
         "x": [
          0,
          1,
          2,
          3
         ],
         "y": [
          1.000437062937063,
          1,
          1,
          1
         ]
        }
       ],
       "layout": {
        "template": {
         "data": {
          "bar": [
           {
            "error_x": {
             "color": "#2a3f5f"
            },
            "error_y": {
             "color": "#2a3f5f"
            },
            "marker": {
             "line": {
              "color": "#E5ECF6",
              "width": 0.5
             },
             "pattern": {
              "fillmode": "overlay",
              "size": 10,
              "solidity": 0.2
             }
            },
            "type": "bar"
           }
          ],
          "barpolar": [
           {
            "marker": {
             "line": {
              "color": "#E5ECF6",
              "width": 0.5
             },
             "pattern": {
              "fillmode": "overlay",
              "size": 10,
              "solidity": 0.2
             }
            },
            "type": "barpolar"
           }
          ],
          "carpet": [
           {
            "aaxis": {
             "endlinecolor": "#2a3f5f",
             "gridcolor": "white",
             "linecolor": "white",
             "minorgridcolor": "white",
             "startlinecolor": "#2a3f5f"
            },
            "baxis": {
             "endlinecolor": "#2a3f5f",
             "gridcolor": "white",
             "linecolor": "white",
             "minorgridcolor": "white",
             "startlinecolor": "#2a3f5f"
            },
            "type": "carpet"
           }
          ],
          "choropleth": [
           {
            "colorbar": {
             "outlinewidth": 0,
             "ticks": ""
            },
            "type": "choropleth"
           }
          ],
          "contour": [
           {
            "colorbar": {
             "outlinewidth": 0,
             "ticks": ""
            },
            "colorscale": [
             [
              0,
              "#0d0887"
             ],
             [
              0.1111111111111111,
              "#46039f"
             ],
             [
              0.2222222222222222,
              "#7201a8"
             ],
             [
              0.3333333333333333,
              "#9c179e"
             ],
             [
              0.4444444444444444,
              "#bd3786"
             ],
             [
              0.5555555555555556,
              "#d8576b"
             ],
             [
              0.6666666666666666,
              "#ed7953"
             ],
             [
              0.7777777777777778,
              "#fb9f3a"
             ],
             [
              0.8888888888888888,
              "#fdca26"
             ],
             [
              1,
              "#f0f921"
             ]
            ],
            "type": "contour"
           }
          ],
          "contourcarpet": [
           {
            "colorbar": {
             "outlinewidth": 0,
             "ticks": ""
            },
            "type": "contourcarpet"
           }
          ],
          "heatmap": [
           {
            "colorbar": {
             "outlinewidth": 0,
             "ticks": ""
            },
            "colorscale": [
             [
              0,
              "#0d0887"
             ],
             [
              0.1111111111111111,
              "#46039f"
             ],
             [
              0.2222222222222222,
              "#7201a8"
             ],
             [
              0.3333333333333333,
              "#9c179e"
             ],
             [
              0.4444444444444444,
              "#bd3786"
             ],
             [
              0.5555555555555556,
              "#d8576b"
             ],
             [
              0.6666666666666666,
              "#ed7953"
             ],
             [
              0.7777777777777778,
              "#fb9f3a"
             ],
             [
              0.8888888888888888,
              "#fdca26"
             ],
             [
              1,
              "#f0f921"
             ]
            ],
            "type": "heatmap"
           }
          ],
          "heatmapgl": [
           {
            "colorbar": {
             "outlinewidth": 0,
             "ticks": ""
            },
            "colorscale": [
             [
              0,
              "#0d0887"
             ],
             [
              0.1111111111111111,
              "#46039f"
             ],
             [
              0.2222222222222222,
              "#7201a8"
             ],
             [
              0.3333333333333333,
              "#9c179e"
             ],
             [
              0.4444444444444444,
              "#bd3786"
             ],
             [
              0.5555555555555556,
              "#d8576b"
             ],
             [
              0.6666666666666666,
              "#ed7953"
             ],
             [
              0.7777777777777778,
              "#fb9f3a"
             ],
             [
              0.8888888888888888,
              "#fdca26"
             ],
             [
              1,
              "#f0f921"
             ]
            ],
            "type": "heatmapgl"
           }
          ],
          "histogram": [
           {
            "marker": {
             "pattern": {
              "fillmode": "overlay",
              "size": 10,
              "solidity": 0.2
             }
            },
            "type": "histogram"
           }
          ],
          "histogram2d": [
           {
            "colorbar": {
             "outlinewidth": 0,
             "ticks": ""
            },
            "colorscale": [
             [
              0,
              "#0d0887"
             ],
             [
              0.1111111111111111,
              "#46039f"
             ],
             [
              0.2222222222222222,
              "#7201a8"
             ],
             [
              0.3333333333333333,
              "#9c179e"
             ],
             [
              0.4444444444444444,
              "#bd3786"
             ],
             [
              0.5555555555555556,
              "#d8576b"
             ],
             [
              0.6666666666666666,
              "#ed7953"
             ],
             [
              0.7777777777777778,
              "#fb9f3a"
             ],
             [
              0.8888888888888888,
              "#fdca26"
             ],
             [
              1,
              "#f0f921"
             ]
            ],
            "type": "histogram2d"
           }
          ],
          "histogram2dcontour": [
           {
            "colorbar": {
             "outlinewidth": 0,
             "ticks": ""
            },
            "colorscale": [
             [
              0,
              "#0d0887"
             ],
             [
              0.1111111111111111,
              "#46039f"
             ],
             [
              0.2222222222222222,
              "#7201a8"
             ],
             [
              0.3333333333333333,
              "#9c179e"
             ],
             [
              0.4444444444444444,
              "#bd3786"
             ],
             [
              0.5555555555555556,
              "#d8576b"
             ],
             [
              0.6666666666666666,
              "#ed7953"
             ],
             [
              0.7777777777777778,
              "#fb9f3a"
             ],
             [
              0.8888888888888888,
              "#fdca26"
             ],
             [
              1,
              "#f0f921"
             ]
            ],
            "type": "histogram2dcontour"
           }
          ],
          "mesh3d": [
           {
            "colorbar": {
             "outlinewidth": 0,
             "ticks": ""
            },
            "type": "mesh3d"
           }
          ],
          "parcoords": [
           {
            "line": {
             "colorbar": {
              "outlinewidth": 0,
              "ticks": ""
             }
            },
            "type": "parcoords"
           }
          ],
          "pie": [
           {
            "automargin": true,
            "type": "pie"
           }
          ],
          "scatter": [
           {
            "fillpattern": {
             "fillmode": "overlay",
             "size": 10,
             "solidity": 0.2
            },
            "type": "scatter"
           }
          ],
          "scatter3d": [
           {
            "line": {
             "colorbar": {
              "outlinewidth": 0,
              "ticks": ""
             }
            },
            "marker": {
             "colorbar": {
              "outlinewidth": 0,
              "ticks": ""
             }
            },
            "type": "scatter3d"
           }
          ],
          "scattercarpet": [
           {
            "marker": {
             "colorbar": {
              "outlinewidth": 0,
              "ticks": ""
             }
            },
            "type": "scattercarpet"
           }
          ],
          "scattergeo": [
           {
            "marker": {
             "colorbar": {
              "outlinewidth": 0,
              "ticks": ""
             }
            },
            "type": "scattergeo"
           }
          ],
          "scattergl": [
           {
            "marker": {
             "colorbar": {
              "outlinewidth": 0,
              "ticks": ""
             }
            },
            "type": "scattergl"
           }
          ],
          "scattermapbox": [
           {
            "marker": {
             "colorbar": {
              "outlinewidth": 0,
              "ticks": ""
             }
            },
            "type": "scattermapbox"
           }
          ],
          "scatterpolar": [
           {
            "marker": {
             "colorbar": {
              "outlinewidth": 0,
              "ticks": ""
             }
            },
            "type": "scatterpolar"
           }
          ],
          "scatterpolargl": [
           {
            "marker": {
             "colorbar": {
              "outlinewidth": 0,
              "ticks": ""
             }
            },
            "type": "scatterpolargl"
           }
          ],
          "scatterternary": [
           {
            "marker": {
             "colorbar": {
              "outlinewidth": 0,
              "ticks": ""
             }
            },
            "type": "scatterternary"
           }
          ],
          "surface": [
           {
            "colorbar": {
             "outlinewidth": 0,
             "ticks": ""
            },
            "colorscale": [
             [
              0,
              "#0d0887"
             ],
             [
              0.1111111111111111,
              "#46039f"
             ],
             [
              0.2222222222222222,
              "#7201a8"
             ],
             [
              0.3333333333333333,
              "#9c179e"
             ],
             [
              0.4444444444444444,
              "#bd3786"
             ],
             [
              0.5555555555555556,
              "#d8576b"
             ],
             [
              0.6666666666666666,
              "#ed7953"
             ],
             [
              0.7777777777777778,
              "#fb9f3a"
             ],
             [
              0.8888888888888888,
              "#fdca26"
             ],
             [
              1,
              "#f0f921"
             ]
            ],
            "type": "surface"
           }
          ],
          "table": [
           {
            "cells": {
             "fill": {
              "color": "#EBF0F8"
             },
             "line": {
              "color": "white"
             }
            },
            "header": {
             "fill": {
              "color": "#C8D4E3"
             },
             "line": {
              "color": "white"
             }
            },
            "type": "table"
           }
          ]
         },
         "layout": {
          "annotationdefaults": {
           "arrowcolor": "#2a3f5f",
           "arrowhead": 0,
           "arrowwidth": 1
          },
          "autotypenumbers": "strict",
          "coloraxis": {
           "colorbar": {
            "outlinewidth": 0,
            "ticks": ""
           }
          },
          "colorscale": {
           "diverging": [
            [
             0,
             "#8e0152"
            ],
            [
             0.1,
             "#c51b7d"
            ],
            [
             0.2,
             "#de77ae"
            ],
            [
             0.3,
             "#f1b6da"
            ],
            [
             0.4,
             "#fde0ef"
            ],
            [
             0.5,
             "#f7f7f7"
            ],
            [
             0.6,
             "#e6f5d0"
            ],
            [
             0.7,
             "#b8e186"
            ],
            [
             0.8,
             "#7fbc41"
            ],
            [
             0.9,
             "#4d9221"
            ],
            [
             1,
             "#276419"
            ]
           ],
           "sequential": [
            [
             0,
             "#0d0887"
            ],
            [
             0.1111111111111111,
             "#46039f"
            ],
            [
             0.2222222222222222,
             "#7201a8"
            ],
            [
             0.3333333333333333,
             "#9c179e"
            ],
            [
             0.4444444444444444,
             "#bd3786"
            ],
            [
             0.5555555555555556,
             "#d8576b"
            ],
            [
             0.6666666666666666,
             "#ed7953"
            ],
            [
             0.7777777777777778,
             "#fb9f3a"
            ],
            [
             0.8888888888888888,
             "#fdca26"
            ],
            [
             1,
             "#f0f921"
            ]
           ],
           "sequentialminus": [
            [
             0,
             "#0d0887"
            ],
            [
             0.1111111111111111,
             "#46039f"
            ],
            [
             0.2222222222222222,
             "#7201a8"
            ],
            [
             0.3333333333333333,
             "#9c179e"
            ],
            [
             0.4444444444444444,
             "#bd3786"
            ],
            [
             0.5555555555555556,
             "#d8576b"
            ],
            [
             0.6666666666666666,
             "#ed7953"
            ],
            [
             0.7777777777777778,
             "#fb9f3a"
            ],
            [
             0.8888888888888888,
             "#fdca26"
            ],
            [
             1,
             "#f0f921"
            ]
           ]
          },
          "colorway": [
           "#636efa",
           "#EF553B",
           "#00cc96",
           "#ab63fa",
           "#FFA15A",
           "#19d3f3",
           "#FF6692",
           "#B6E880",
           "#FF97FF",
           "#FECB52"
          ],
          "font": {
           "color": "#2a3f5f"
          },
          "geo": {
           "bgcolor": "white",
           "lakecolor": "white",
           "landcolor": "#E5ECF6",
           "showlakes": true,
           "showland": true,
           "subunitcolor": "white"
          },
          "hoverlabel": {
           "align": "left"
          },
          "hovermode": "closest",
          "mapbox": {
           "style": "light"
          },
          "paper_bgcolor": "white",
          "plot_bgcolor": "#E5ECF6",
          "polar": {
           "angularaxis": {
            "gridcolor": "white",
            "linecolor": "white",
            "ticks": ""
           },
           "bgcolor": "#E5ECF6",
           "radialaxis": {
            "gridcolor": "white",
            "linecolor": "white",
            "ticks": ""
           }
          },
          "scene": {
           "xaxis": {
            "backgroundcolor": "#E5ECF6",
            "gridcolor": "white",
            "gridwidth": 2,
            "linecolor": "white",
            "showbackground": true,
            "ticks": "",
            "zerolinecolor": "white"
           },
           "yaxis": {
            "backgroundcolor": "#E5ECF6",
            "gridcolor": "white",
            "gridwidth": 2,
            "linecolor": "white",
            "showbackground": true,
            "ticks": "",
            "zerolinecolor": "white"
           },
           "zaxis": {
            "backgroundcolor": "#E5ECF6",
            "gridcolor": "white",
            "gridwidth": 2,
            "linecolor": "white",
            "showbackground": true,
            "ticks": "",
            "zerolinecolor": "white"
           }
          },
          "shapedefaults": {
           "line": {
            "color": "#2a3f5f"
           }
          },
          "ternary": {
           "aaxis": {
            "gridcolor": "white",
            "linecolor": "white",
            "ticks": ""
           },
           "baxis": {
            "gridcolor": "white",
            "linecolor": "white",
            "ticks": ""
           },
           "bgcolor": "#E5ECF6",
           "caxis": {
            "gridcolor": "white",
            "linecolor": "white",
            "ticks": ""
           }
          },
          "title": {
           "x": 0.05
          },
          "xaxis": {
           "automargin": true,
           "gridcolor": "white",
           "linecolor": "white",
           "ticks": "",
           "title": {
            "standoff": 15
           },
           "zerolinecolor": "white",
           "zerolinewidth": 2
          },
          "yaxis": {
           "automargin": true,
           "gridcolor": "white",
           "linecolor": "white",
           "ticks": "",
           "title": {
            "standoff": 15
           },
           "zerolinecolor": "white",
           "zerolinewidth": 2
          }
         }
        },
        "title": {
         "text": "Bar Graph"
        },
        "xaxis": {
         "ticktext": [
          "Nov",
          "Dec",
          "Jan",
          "Feb"
         ],
         "tickvals": [
          0,
          1,
          2,
          3
         ]
        },
        "yaxis": {
         "title": {
          "text": "Value"
         }
        }
       }
      },
      "text/html": [
       "<div>                            <div id=\"fd66d22f-efda-4007-93e6-db3be15b3f27\" class=\"plotly-graph-div\" style=\"height:525px; width:100%;\"></div>            <script type=\"text/javascript\">                require([\"plotly\"], function(Plotly) {                    window.PLOTLYENV=window.PLOTLYENV || {};                                    if (document.getElementById(\"fd66d22f-efda-4007-93e6-db3be15b3f27\")) {                    Plotly.newPlot(                        \"fd66d22f-efda-4007-93e6-db3be15b3f27\",                        [{\"x\":[0,1,2,3],\"y\":[1.000437062937063,1.0,1.0,1.0],\"type\":\"bar\"}],                        {\"title\":{\"text\":\"Bar Graph\"},\"xaxis\":{\"ticktext\":[\"Nov\",\"Dec\",\"Jan\",\"Feb\"],\"tickvals\":[0,1,2,3]},\"yaxis\":{\"title\":{\"text\":\"Value\"}},\"template\":{\"data\":{\"histogram2dcontour\":[{\"type\":\"histogram2dcontour\",\"colorbar\":{\"outlinewidth\":0,\"ticks\":\"\"},\"colorscale\":[[0.0,\"#0d0887\"],[0.1111111111111111,\"#46039f\"],[0.2222222222222222,\"#7201a8\"],[0.3333333333333333,\"#9c179e\"],[0.4444444444444444,\"#bd3786\"],[0.5555555555555556,\"#d8576b\"],[0.6666666666666666,\"#ed7953\"],[0.7777777777777778,\"#fb9f3a\"],[0.8888888888888888,\"#fdca26\"],[1.0,\"#f0f921\"]]}],\"choropleth\":[{\"type\":\"choropleth\",\"colorbar\":{\"outlinewidth\":0,\"ticks\":\"\"}}],\"histogram2d\":[{\"type\":\"histogram2d\",\"colorbar\":{\"outlinewidth\":0,\"ticks\":\"\"},\"colorscale\":[[0.0,\"#0d0887\"],[0.1111111111111111,\"#46039f\"],[0.2222222222222222,\"#7201a8\"],[0.3333333333333333,\"#9c179e\"],[0.4444444444444444,\"#bd3786\"],[0.5555555555555556,\"#d8576b\"],[0.6666666666666666,\"#ed7953\"],[0.7777777777777778,\"#fb9f3a\"],[0.8888888888888888,\"#fdca26\"],[1.0,\"#f0f921\"]]}],\"heatmap\":[{\"type\":\"heatmap\",\"colorbar\":{\"outlinewidth\":0,\"ticks\":\"\"},\"colorscale\":[[0.0,\"#0d0887\"],[0.1111111111111111,\"#46039f\"],[0.2222222222222222,\"#7201a8\"],[0.3333333333333333,\"#9c179e\"],[0.4444444444444444,\"#bd3786\"],[0.5555555555555556,\"#d8576b\"],[0.6666666666666666,\"#ed7953\"],[0.7777777777777778,\"#fb9f3a\"],[0.8888888888888888,\"#fdca26\"],[1.0,\"#f0f921\"]]}],\"heatmapgl\":[{\"type\":\"heatmapgl\",\"colorbar\":{\"outlinewidth\":0,\"ticks\":\"\"},\"colorscale\":[[0.0,\"#0d0887\"],[0.1111111111111111,\"#46039f\"],[0.2222222222222222,\"#7201a8\"],[0.3333333333333333,\"#9c179e\"],[0.4444444444444444,\"#bd3786\"],[0.5555555555555556,\"#d8576b\"],[0.6666666666666666,\"#ed7953\"],[0.7777777777777778,\"#fb9f3a\"],[0.8888888888888888,\"#fdca26\"],[1.0,\"#f0f921\"]]}],\"contourcarpet\":[{\"type\":\"contourcarpet\",\"colorbar\":{\"outlinewidth\":0,\"ticks\":\"\"}}],\"contour\":[{\"type\":\"contour\",\"colorbar\":{\"outlinewidth\":0,\"ticks\":\"\"},\"colorscale\":[[0.0,\"#0d0887\"],[0.1111111111111111,\"#46039f\"],[0.2222222222222222,\"#7201a8\"],[0.3333333333333333,\"#9c179e\"],[0.4444444444444444,\"#bd3786\"],[0.5555555555555556,\"#d8576b\"],[0.6666666666666666,\"#ed7953\"],[0.7777777777777778,\"#fb9f3a\"],[0.8888888888888888,\"#fdca26\"],[1.0,\"#f0f921\"]]}],\"surface\":[{\"type\":\"surface\",\"colorbar\":{\"outlinewidth\":0,\"ticks\":\"\"},\"colorscale\":[[0.0,\"#0d0887\"],[0.1111111111111111,\"#46039f\"],[0.2222222222222222,\"#7201a8\"],[0.3333333333333333,\"#9c179e\"],[0.4444444444444444,\"#bd3786\"],[0.5555555555555556,\"#d8576b\"],[0.6666666666666666,\"#ed7953\"],[0.7777777777777778,\"#fb9f3a\"],[0.8888888888888888,\"#fdca26\"],[1.0,\"#f0f921\"]]}],\"mesh3d\":[{\"type\":\"mesh3d\",\"colorbar\":{\"outlinewidth\":0,\"ticks\":\"\"}}],\"scatter\":[{\"fillpattern\":{\"fillmode\":\"overlay\",\"size\":10,\"solidity\":0.2},\"type\":\"scatter\"}],\"parcoords\":[{\"type\":\"parcoords\",\"line\":{\"colorbar\":{\"outlinewidth\":0,\"ticks\":\"\"}}}],\"scatterpolargl\":[{\"type\":\"scatterpolargl\",\"marker\":{\"colorbar\":{\"outlinewidth\":0,\"ticks\":\"\"}}}],\"bar\":[{\"error_x\":{\"color\":\"#2a3f5f\"},\"error_y\":{\"color\":\"#2a3f5f\"},\"marker\":{\"line\":{\"color\":\"#E5ECF6\",\"width\":0.5},\"pattern\":{\"fillmode\":\"overlay\",\"size\":10,\"solidity\":0.2}},\"type\":\"bar\"}],\"scattergeo\":[{\"type\":\"scattergeo\",\"marker\":{\"colorbar\":{\"outlinewidth\":0,\"ticks\":\"\"}}}],\"scatterpolar\":[{\"type\":\"scatterpolar\",\"marker\":{\"colorbar\":{\"outlinewidth\":0,\"ticks\":\"\"}}}],\"histogram\":[{\"marker\":{\"pattern\":{\"fillmode\":\"overlay\",\"size\":10,\"solidity\":0.2}},\"type\":\"histogram\"}],\"scattergl\":[{\"type\":\"scattergl\",\"marker\":{\"colorbar\":{\"outlinewidth\":0,\"ticks\":\"\"}}}],\"scatter3d\":[{\"type\":\"scatter3d\",\"line\":{\"colorbar\":{\"outlinewidth\":0,\"ticks\":\"\"}},\"marker\":{\"colorbar\":{\"outlinewidth\":0,\"ticks\":\"\"}}}],\"scattermapbox\":[{\"type\":\"scattermapbox\",\"marker\":{\"colorbar\":{\"outlinewidth\":0,\"ticks\":\"\"}}}],\"scatterternary\":[{\"type\":\"scatterternary\",\"marker\":{\"colorbar\":{\"outlinewidth\":0,\"ticks\":\"\"}}}],\"scattercarpet\":[{\"type\":\"scattercarpet\",\"marker\":{\"colorbar\":{\"outlinewidth\":0,\"ticks\":\"\"}}}],\"carpet\":[{\"aaxis\":{\"endlinecolor\":\"#2a3f5f\",\"gridcolor\":\"white\",\"linecolor\":\"white\",\"minorgridcolor\":\"white\",\"startlinecolor\":\"#2a3f5f\"},\"baxis\":{\"endlinecolor\":\"#2a3f5f\",\"gridcolor\":\"white\",\"linecolor\":\"white\",\"minorgridcolor\":\"white\",\"startlinecolor\":\"#2a3f5f\"},\"type\":\"carpet\"}],\"table\":[{\"cells\":{\"fill\":{\"color\":\"#EBF0F8\"},\"line\":{\"color\":\"white\"}},\"header\":{\"fill\":{\"color\":\"#C8D4E3\"},\"line\":{\"color\":\"white\"}},\"type\":\"table\"}],\"barpolar\":[{\"marker\":{\"line\":{\"color\":\"#E5ECF6\",\"width\":0.5},\"pattern\":{\"fillmode\":\"overlay\",\"size\":10,\"solidity\":0.2}},\"type\":\"barpolar\"}],\"pie\":[{\"automargin\":true,\"type\":\"pie\"}]},\"layout\":{\"autotypenumbers\":\"strict\",\"colorway\":[\"#636efa\",\"#EF553B\",\"#00cc96\",\"#ab63fa\",\"#FFA15A\",\"#19d3f3\",\"#FF6692\",\"#B6E880\",\"#FF97FF\",\"#FECB52\"],\"font\":{\"color\":\"#2a3f5f\"},\"hovermode\":\"closest\",\"hoverlabel\":{\"align\":\"left\"},\"paper_bgcolor\":\"white\",\"plot_bgcolor\":\"#E5ECF6\",\"polar\":{\"bgcolor\":\"#E5ECF6\",\"angularaxis\":{\"gridcolor\":\"white\",\"linecolor\":\"white\",\"ticks\":\"\"},\"radialaxis\":{\"gridcolor\":\"white\",\"linecolor\":\"white\",\"ticks\":\"\"}},\"ternary\":{\"bgcolor\":\"#E5ECF6\",\"aaxis\":{\"gridcolor\":\"white\",\"linecolor\":\"white\",\"ticks\":\"\"},\"baxis\":{\"gridcolor\":\"white\",\"linecolor\":\"white\",\"ticks\":\"\"},\"caxis\":{\"gridcolor\":\"white\",\"linecolor\":\"white\",\"ticks\":\"\"}},\"coloraxis\":{\"colorbar\":{\"outlinewidth\":0,\"ticks\":\"\"}},\"colorscale\":{\"sequential\":[[0.0,\"#0d0887\"],[0.1111111111111111,\"#46039f\"],[0.2222222222222222,\"#7201a8\"],[0.3333333333333333,\"#9c179e\"],[0.4444444444444444,\"#bd3786\"],[0.5555555555555556,\"#d8576b\"],[0.6666666666666666,\"#ed7953\"],[0.7777777777777778,\"#fb9f3a\"],[0.8888888888888888,\"#fdca26\"],[1.0,\"#f0f921\"]],\"sequentialminus\":[[0.0,\"#0d0887\"],[0.1111111111111111,\"#46039f\"],[0.2222222222222222,\"#7201a8\"],[0.3333333333333333,\"#9c179e\"],[0.4444444444444444,\"#bd3786\"],[0.5555555555555556,\"#d8576b\"],[0.6666666666666666,\"#ed7953\"],[0.7777777777777778,\"#fb9f3a\"],[0.8888888888888888,\"#fdca26\"],[1.0,\"#f0f921\"]],\"diverging\":[[0,\"#8e0152\"],[0.1,\"#c51b7d\"],[0.2,\"#de77ae\"],[0.3,\"#f1b6da\"],[0.4,\"#fde0ef\"],[0.5,\"#f7f7f7\"],[0.6,\"#e6f5d0\"],[0.7,\"#b8e186\"],[0.8,\"#7fbc41\"],[0.9,\"#4d9221\"],[1,\"#276419\"]]},\"xaxis\":{\"gridcolor\":\"white\",\"linecolor\":\"white\",\"ticks\":\"\",\"title\":{\"standoff\":15},\"zerolinecolor\":\"white\",\"automargin\":true,\"zerolinewidth\":2},\"yaxis\":{\"gridcolor\":\"white\",\"linecolor\":\"white\",\"ticks\":\"\",\"title\":{\"standoff\":15},\"zerolinecolor\":\"white\",\"automargin\":true,\"zerolinewidth\":2},\"scene\":{\"xaxis\":{\"backgroundcolor\":\"#E5ECF6\",\"gridcolor\":\"white\",\"linecolor\":\"white\",\"showbackground\":true,\"ticks\":\"\",\"zerolinecolor\":\"white\",\"gridwidth\":2},\"yaxis\":{\"backgroundcolor\":\"#E5ECF6\",\"gridcolor\":\"white\",\"linecolor\":\"white\",\"showbackground\":true,\"ticks\":\"\",\"zerolinecolor\":\"white\",\"gridwidth\":2},\"zaxis\":{\"backgroundcolor\":\"#E5ECF6\",\"gridcolor\":\"white\",\"linecolor\":\"white\",\"showbackground\":true,\"ticks\":\"\",\"zerolinecolor\":\"white\",\"gridwidth\":2}},\"shapedefaults\":{\"line\":{\"color\":\"#2a3f5f\"}},\"annotationdefaults\":{\"arrowcolor\":\"#2a3f5f\",\"arrowhead\":0,\"arrowwidth\":1},\"geo\":{\"bgcolor\":\"white\",\"landcolor\":\"#E5ECF6\",\"subunitcolor\":\"white\",\"showland\":true,\"showlakes\":true,\"lakecolor\":\"white\"},\"title\":{\"x\":0.05},\"mapbox\":{\"style\":\"light\"}}}},                        {\"responsive\": true}                    ).then(function(){\n",
       "                            \n",
       "var gd = document.getElementById('fd66d22f-efda-4007-93e6-db3be15b3f27');\n",
       "var x = new MutationObserver(function (mutations, observer) {{\n",
       "        var display = window.getComputedStyle(gd).display;\n",
       "        if (!display || display === 'none') {{\n",
       "            console.log([gd, 'removed!']);\n",
       "            Plotly.purge(gd);\n",
       "            observer.disconnect();\n",
       "        }}\n",
       "}});\n",
       "\n",
       "// Listen for the removal of the full notebook cells\n",
       "var notebookContainer = gd.closest('#notebook-container');\n",
       "if (notebookContainer) {{\n",
       "    x.observe(notebookContainer, {childList: true});\n",
       "}}\n",
       "\n",
       "// Listen for the clearing of the current output cell\n",
       "var outputEl = gd.closest('.output');\n",
       "if (outputEl) {{\n",
       "    x.observe(outputEl, {childList: true});\n",
       "}}\n",
       "\n",
       "                        })                };                });            </script>        </div>"
      ]
     },
     "metadata": {},
     "output_type": "display_data"
    }
   ],
   "source": [
    "# ploting the bar graph for new freq based on the above data. \n",
    "# Data\n",
    "y = freq_new\n",
    "x = list(range(len(y)))\n",
    "\n",
    "# Create a Bar trace\n",
    "trace = go.Bar(x=x, y=y)\n",
    "x_tick_labels = ['Nov', 'Dec', 'Jan', 'Feb']    # mentioning x axis as month names\n",
    "\n",
    "# Create a layout\n",
    "layout = go.Layout(title='Bar Graph', yaxis=dict(title='Value'), \n",
    "                   xaxis=dict(ticktext=x_tick_labels, tickvals=x))\n",
    "xaxis=dict(ticktext=x_tick_labels, tickvals=x)\n",
    "\n",
    "# Create a Figure\n",
    "fig = go.Figure(data=[trace], layout=layout)\n",
    "\n",
    "# Show the plot\n",
    "fig.show()"
   ]
  },
  {
   "cell_type": "code",
   "execution_count": 236,
   "id": "f8e297ac",
   "metadata": {},
   "outputs": [],
   "source": [
    "uniq_order_number.clear()\n",
    "uniq_user_id_count.clear()"
   ]
  },
  {
   "cell_type": "code",
   "execution_count": 237,
   "id": "777ea01e",
   "metadata": {},
   "outputs": [],
   "source": [
    "# freq for nov with new users\n",
    "old_users_nov = nov[nov['new_user'] == 0]\n",
    "uniq_order_number.append(old_users_nov['order_number'].nunique())\n",
    "uniq_user_id_count.append(old_users_nov['user_id'].nunique())\n",
    "\n",
    "\n",
    "# freq for nov with new users\n",
    "old_users_dec = dec[dec['new_user'] == 0]\n",
    "uniq_order_number.append(old_users_dec['order_number'].nunique())\n",
    "uniq_user_id_count.append(old_users_dec['user_id'].nunique())\n",
    "\n",
    "# freq for nov with new users\n",
    "old_users_jan = jan[jan['new_user'] == 0]\n",
    "uniq_order_number.append(old_users_jan['order_number'].nunique())\n",
    "uniq_user_id_count.append(old_users_jan['user_id'].nunique())\n",
    "\n",
    "# freq for nov with new users\n",
    "old_users_feb = feb[feb['new_user'] == 0]\n",
    "uniq_order_number.append(old_users_feb['order_number'].nunique())\n",
    "uniq_user_id_count.append(old_users_feb['user_id'].nunique())"
   ]
  },
  {
   "cell_type": "code",
   "execution_count": 238,
   "id": "0db19e81",
   "metadata": {},
   "outputs": [
    {
     "name": "stdout",
     "output_type": "stream",
     "text": [
      "[1.5492189437143566, 1.4871290668573471, 1.605807478122514, 1.6143364928909953]\n"
     ]
    }
   ],
   "source": [
    "freq_old = [x / y for x, y in zip(uniq_order_number, uniq_user_id_count)]\n",
    "print(freq_old)"
   ]
  },
  {
   "cell_type": "code",
   "execution_count": 239,
   "id": "003226ea",
   "metadata": {},
   "outputs": [
    {
     "data": {
      "application/vnd.plotly.v1+json": {
       "config": {
        "plotlyServerURL": "https://plot.ly"
       },
       "data": [
        {
         "type": "bar",
         "x": [
          0,
          1,
          2,
          3
         ],
         "y": [
          1.5492189437143566,
          1.4871290668573471,
          1.605807478122514,
          1.6143364928909953
         ]
        }
       ],
       "layout": {
        "template": {
         "data": {
          "bar": [
           {
            "error_x": {
             "color": "#2a3f5f"
            },
            "error_y": {
             "color": "#2a3f5f"
            },
            "marker": {
             "line": {
              "color": "#E5ECF6",
              "width": 0.5
             },
             "pattern": {
              "fillmode": "overlay",
              "size": 10,
              "solidity": 0.2
             }
            },
            "type": "bar"
           }
          ],
          "barpolar": [
           {
            "marker": {
             "line": {
              "color": "#E5ECF6",
              "width": 0.5
             },
             "pattern": {
              "fillmode": "overlay",
              "size": 10,
              "solidity": 0.2
             }
            },
            "type": "barpolar"
           }
          ],
          "carpet": [
           {
            "aaxis": {
             "endlinecolor": "#2a3f5f",
             "gridcolor": "white",
             "linecolor": "white",
             "minorgridcolor": "white",
             "startlinecolor": "#2a3f5f"
            },
            "baxis": {
             "endlinecolor": "#2a3f5f",
             "gridcolor": "white",
             "linecolor": "white",
             "minorgridcolor": "white",
             "startlinecolor": "#2a3f5f"
            },
            "type": "carpet"
           }
          ],
          "choropleth": [
           {
            "colorbar": {
             "outlinewidth": 0,
             "ticks": ""
            },
            "type": "choropleth"
           }
          ],
          "contour": [
           {
            "colorbar": {
             "outlinewidth": 0,
             "ticks": ""
            },
            "colorscale": [
             [
              0,
              "#0d0887"
             ],
             [
              0.1111111111111111,
              "#46039f"
             ],
             [
              0.2222222222222222,
              "#7201a8"
             ],
             [
              0.3333333333333333,
              "#9c179e"
             ],
             [
              0.4444444444444444,
              "#bd3786"
             ],
             [
              0.5555555555555556,
              "#d8576b"
             ],
             [
              0.6666666666666666,
              "#ed7953"
             ],
             [
              0.7777777777777778,
              "#fb9f3a"
             ],
             [
              0.8888888888888888,
              "#fdca26"
             ],
             [
              1,
              "#f0f921"
             ]
            ],
            "type": "contour"
           }
          ],
          "contourcarpet": [
           {
            "colorbar": {
             "outlinewidth": 0,
             "ticks": ""
            },
            "type": "contourcarpet"
           }
          ],
          "heatmap": [
           {
            "colorbar": {
             "outlinewidth": 0,
             "ticks": ""
            },
            "colorscale": [
             [
              0,
              "#0d0887"
             ],
             [
              0.1111111111111111,
              "#46039f"
             ],
             [
              0.2222222222222222,
              "#7201a8"
             ],
             [
              0.3333333333333333,
              "#9c179e"
             ],
             [
              0.4444444444444444,
              "#bd3786"
             ],
             [
              0.5555555555555556,
              "#d8576b"
             ],
             [
              0.6666666666666666,
              "#ed7953"
             ],
             [
              0.7777777777777778,
              "#fb9f3a"
             ],
             [
              0.8888888888888888,
              "#fdca26"
             ],
             [
              1,
              "#f0f921"
             ]
            ],
            "type": "heatmap"
           }
          ],
          "heatmapgl": [
           {
            "colorbar": {
             "outlinewidth": 0,
             "ticks": ""
            },
            "colorscale": [
             [
              0,
              "#0d0887"
             ],
             [
              0.1111111111111111,
              "#46039f"
             ],
             [
              0.2222222222222222,
              "#7201a8"
             ],
             [
              0.3333333333333333,
              "#9c179e"
             ],
             [
              0.4444444444444444,
              "#bd3786"
             ],
             [
              0.5555555555555556,
              "#d8576b"
             ],
             [
              0.6666666666666666,
              "#ed7953"
             ],
             [
              0.7777777777777778,
              "#fb9f3a"
             ],
             [
              0.8888888888888888,
              "#fdca26"
             ],
             [
              1,
              "#f0f921"
             ]
            ],
            "type": "heatmapgl"
           }
          ],
          "histogram": [
           {
            "marker": {
             "pattern": {
              "fillmode": "overlay",
              "size": 10,
              "solidity": 0.2
             }
            },
            "type": "histogram"
           }
          ],
          "histogram2d": [
           {
            "colorbar": {
             "outlinewidth": 0,
             "ticks": ""
            },
            "colorscale": [
             [
              0,
              "#0d0887"
             ],
             [
              0.1111111111111111,
              "#46039f"
             ],
             [
              0.2222222222222222,
              "#7201a8"
             ],
             [
              0.3333333333333333,
              "#9c179e"
             ],
             [
              0.4444444444444444,
              "#bd3786"
             ],
             [
              0.5555555555555556,
              "#d8576b"
             ],
             [
              0.6666666666666666,
              "#ed7953"
             ],
             [
              0.7777777777777778,
              "#fb9f3a"
             ],
             [
              0.8888888888888888,
              "#fdca26"
             ],
             [
              1,
              "#f0f921"
             ]
            ],
            "type": "histogram2d"
           }
          ],
          "histogram2dcontour": [
           {
            "colorbar": {
             "outlinewidth": 0,
             "ticks": ""
            },
            "colorscale": [
             [
              0,
              "#0d0887"
             ],
             [
              0.1111111111111111,
              "#46039f"
             ],
             [
              0.2222222222222222,
              "#7201a8"
             ],
             [
              0.3333333333333333,
              "#9c179e"
             ],
             [
              0.4444444444444444,
              "#bd3786"
             ],
             [
              0.5555555555555556,
              "#d8576b"
             ],
             [
              0.6666666666666666,
              "#ed7953"
             ],
             [
              0.7777777777777778,
              "#fb9f3a"
             ],
             [
              0.8888888888888888,
              "#fdca26"
             ],
             [
              1,
              "#f0f921"
             ]
            ],
            "type": "histogram2dcontour"
           }
          ],
          "mesh3d": [
           {
            "colorbar": {
             "outlinewidth": 0,
             "ticks": ""
            },
            "type": "mesh3d"
           }
          ],
          "parcoords": [
           {
            "line": {
             "colorbar": {
              "outlinewidth": 0,
              "ticks": ""
             }
            },
            "type": "parcoords"
           }
          ],
          "pie": [
           {
            "automargin": true,
            "type": "pie"
           }
          ],
          "scatter": [
           {
            "fillpattern": {
             "fillmode": "overlay",
             "size": 10,
             "solidity": 0.2
            },
            "type": "scatter"
           }
          ],
          "scatter3d": [
           {
            "line": {
             "colorbar": {
              "outlinewidth": 0,
              "ticks": ""
             }
            },
            "marker": {
             "colorbar": {
              "outlinewidth": 0,
              "ticks": ""
             }
            },
            "type": "scatter3d"
           }
          ],
          "scattercarpet": [
           {
            "marker": {
             "colorbar": {
              "outlinewidth": 0,
              "ticks": ""
             }
            },
            "type": "scattercarpet"
           }
          ],
          "scattergeo": [
           {
            "marker": {
             "colorbar": {
              "outlinewidth": 0,
              "ticks": ""
             }
            },
            "type": "scattergeo"
           }
          ],
          "scattergl": [
           {
            "marker": {
             "colorbar": {
              "outlinewidth": 0,
              "ticks": ""
             }
            },
            "type": "scattergl"
           }
          ],
          "scattermapbox": [
           {
            "marker": {
             "colorbar": {
              "outlinewidth": 0,
              "ticks": ""
             }
            },
            "type": "scattermapbox"
           }
          ],
          "scatterpolar": [
           {
            "marker": {
             "colorbar": {
              "outlinewidth": 0,
              "ticks": ""
             }
            },
            "type": "scatterpolar"
           }
          ],
          "scatterpolargl": [
           {
            "marker": {
             "colorbar": {
              "outlinewidth": 0,
              "ticks": ""
             }
            },
            "type": "scatterpolargl"
           }
          ],
          "scatterternary": [
           {
            "marker": {
             "colorbar": {
              "outlinewidth": 0,
              "ticks": ""
             }
            },
            "type": "scatterternary"
           }
          ],
          "surface": [
           {
            "colorbar": {
             "outlinewidth": 0,
             "ticks": ""
            },
            "colorscale": [
             [
              0,
              "#0d0887"
             ],
             [
              0.1111111111111111,
              "#46039f"
             ],
             [
              0.2222222222222222,
              "#7201a8"
             ],
             [
              0.3333333333333333,
              "#9c179e"
             ],
             [
              0.4444444444444444,
              "#bd3786"
             ],
             [
              0.5555555555555556,
              "#d8576b"
             ],
             [
              0.6666666666666666,
              "#ed7953"
             ],
             [
              0.7777777777777778,
              "#fb9f3a"
             ],
             [
              0.8888888888888888,
              "#fdca26"
             ],
             [
              1,
              "#f0f921"
             ]
            ],
            "type": "surface"
           }
          ],
          "table": [
           {
            "cells": {
             "fill": {
              "color": "#EBF0F8"
             },
             "line": {
              "color": "white"
             }
            },
            "header": {
             "fill": {
              "color": "#C8D4E3"
             },
             "line": {
              "color": "white"
             }
            },
            "type": "table"
           }
          ]
         },
         "layout": {
          "annotationdefaults": {
           "arrowcolor": "#2a3f5f",
           "arrowhead": 0,
           "arrowwidth": 1
          },
          "autotypenumbers": "strict",
          "coloraxis": {
           "colorbar": {
            "outlinewidth": 0,
            "ticks": ""
           }
          },
          "colorscale": {
           "diverging": [
            [
             0,
             "#8e0152"
            ],
            [
             0.1,
             "#c51b7d"
            ],
            [
             0.2,
             "#de77ae"
            ],
            [
             0.3,
             "#f1b6da"
            ],
            [
             0.4,
             "#fde0ef"
            ],
            [
             0.5,
             "#f7f7f7"
            ],
            [
             0.6,
             "#e6f5d0"
            ],
            [
             0.7,
             "#b8e186"
            ],
            [
             0.8,
             "#7fbc41"
            ],
            [
             0.9,
             "#4d9221"
            ],
            [
             1,
             "#276419"
            ]
           ],
           "sequential": [
            [
             0,
             "#0d0887"
            ],
            [
             0.1111111111111111,
             "#46039f"
            ],
            [
             0.2222222222222222,
             "#7201a8"
            ],
            [
             0.3333333333333333,
             "#9c179e"
            ],
            [
             0.4444444444444444,
             "#bd3786"
            ],
            [
             0.5555555555555556,
             "#d8576b"
            ],
            [
             0.6666666666666666,
             "#ed7953"
            ],
            [
             0.7777777777777778,
             "#fb9f3a"
            ],
            [
             0.8888888888888888,
             "#fdca26"
            ],
            [
             1,
             "#f0f921"
            ]
           ],
           "sequentialminus": [
            [
             0,
             "#0d0887"
            ],
            [
             0.1111111111111111,
             "#46039f"
            ],
            [
             0.2222222222222222,
             "#7201a8"
            ],
            [
             0.3333333333333333,
             "#9c179e"
            ],
            [
             0.4444444444444444,
             "#bd3786"
            ],
            [
             0.5555555555555556,
             "#d8576b"
            ],
            [
             0.6666666666666666,
             "#ed7953"
            ],
            [
             0.7777777777777778,
             "#fb9f3a"
            ],
            [
             0.8888888888888888,
             "#fdca26"
            ],
            [
             1,
             "#f0f921"
            ]
           ]
          },
          "colorway": [
           "#636efa",
           "#EF553B",
           "#00cc96",
           "#ab63fa",
           "#FFA15A",
           "#19d3f3",
           "#FF6692",
           "#B6E880",
           "#FF97FF",
           "#FECB52"
          ],
          "font": {
           "color": "#2a3f5f"
          },
          "geo": {
           "bgcolor": "white",
           "lakecolor": "white",
           "landcolor": "#E5ECF6",
           "showlakes": true,
           "showland": true,
           "subunitcolor": "white"
          },
          "hoverlabel": {
           "align": "left"
          },
          "hovermode": "closest",
          "mapbox": {
           "style": "light"
          },
          "paper_bgcolor": "white",
          "plot_bgcolor": "#E5ECF6",
          "polar": {
           "angularaxis": {
            "gridcolor": "white",
            "linecolor": "white",
            "ticks": ""
           },
           "bgcolor": "#E5ECF6",
           "radialaxis": {
            "gridcolor": "white",
            "linecolor": "white",
            "ticks": ""
           }
          },
          "scene": {
           "xaxis": {
            "backgroundcolor": "#E5ECF6",
            "gridcolor": "white",
            "gridwidth": 2,
            "linecolor": "white",
            "showbackground": true,
            "ticks": "",
            "zerolinecolor": "white"
           },
           "yaxis": {
            "backgroundcolor": "#E5ECF6",
            "gridcolor": "white",
            "gridwidth": 2,
            "linecolor": "white",
            "showbackground": true,
            "ticks": "",
            "zerolinecolor": "white"
           },
           "zaxis": {
            "backgroundcolor": "#E5ECF6",
            "gridcolor": "white",
            "gridwidth": 2,
            "linecolor": "white",
            "showbackground": true,
            "ticks": "",
            "zerolinecolor": "white"
           }
          },
          "shapedefaults": {
           "line": {
            "color": "#2a3f5f"
           }
          },
          "ternary": {
           "aaxis": {
            "gridcolor": "white",
            "linecolor": "white",
            "ticks": ""
           },
           "baxis": {
            "gridcolor": "white",
            "linecolor": "white",
            "ticks": ""
           },
           "bgcolor": "#E5ECF6",
           "caxis": {
            "gridcolor": "white",
            "linecolor": "white",
            "ticks": ""
           }
          },
          "title": {
           "x": 0.05
          },
          "xaxis": {
           "automargin": true,
           "gridcolor": "white",
           "linecolor": "white",
           "ticks": "",
           "title": {
            "standoff": 15
           },
           "zerolinecolor": "white",
           "zerolinewidth": 2
          },
          "yaxis": {
           "automargin": true,
           "gridcolor": "white",
           "linecolor": "white",
           "ticks": "",
           "title": {
            "standoff": 15
           },
           "zerolinecolor": "white",
           "zerolinewidth": 2
          }
         }
        },
        "title": {
         "text": "Bar Graph"
        },
        "xaxis": {
         "ticktext": [
          "Nov",
          "Dec",
          "Jan",
          "Feb"
         ],
         "tickvals": [
          0,
          1,
          2,
          3
         ]
        },
        "yaxis": {
         "title": {
          "text": "Value"
         }
        }
       }
      },
      "text/html": [
       "<div>                            <div id=\"0a8f4674-0e67-4eac-be9e-3f70528202f8\" class=\"plotly-graph-div\" style=\"height:525px; width:100%;\"></div>            <script type=\"text/javascript\">                require([\"plotly\"], function(Plotly) {                    window.PLOTLYENV=window.PLOTLYENV || {};                                    if (document.getElementById(\"0a8f4674-0e67-4eac-be9e-3f70528202f8\")) {                    Plotly.newPlot(                        \"0a8f4674-0e67-4eac-be9e-3f70528202f8\",                        [{\"x\":[0,1,2,3],\"y\":[1.5492189437143566,1.4871290668573471,1.605807478122514,1.6143364928909953],\"type\":\"bar\"}],                        {\"title\":{\"text\":\"Bar Graph\"},\"xaxis\":{\"ticktext\":[\"Nov\",\"Dec\",\"Jan\",\"Feb\"],\"tickvals\":[0,1,2,3]},\"yaxis\":{\"title\":{\"text\":\"Value\"}},\"template\":{\"data\":{\"histogram2dcontour\":[{\"type\":\"histogram2dcontour\",\"colorbar\":{\"outlinewidth\":0,\"ticks\":\"\"},\"colorscale\":[[0.0,\"#0d0887\"],[0.1111111111111111,\"#46039f\"],[0.2222222222222222,\"#7201a8\"],[0.3333333333333333,\"#9c179e\"],[0.4444444444444444,\"#bd3786\"],[0.5555555555555556,\"#d8576b\"],[0.6666666666666666,\"#ed7953\"],[0.7777777777777778,\"#fb9f3a\"],[0.8888888888888888,\"#fdca26\"],[1.0,\"#f0f921\"]]}],\"choropleth\":[{\"type\":\"choropleth\",\"colorbar\":{\"outlinewidth\":0,\"ticks\":\"\"}}],\"histogram2d\":[{\"type\":\"histogram2d\",\"colorbar\":{\"outlinewidth\":0,\"ticks\":\"\"},\"colorscale\":[[0.0,\"#0d0887\"],[0.1111111111111111,\"#46039f\"],[0.2222222222222222,\"#7201a8\"],[0.3333333333333333,\"#9c179e\"],[0.4444444444444444,\"#bd3786\"],[0.5555555555555556,\"#d8576b\"],[0.6666666666666666,\"#ed7953\"],[0.7777777777777778,\"#fb9f3a\"],[0.8888888888888888,\"#fdca26\"],[1.0,\"#f0f921\"]]}],\"heatmap\":[{\"type\":\"heatmap\",\"colorbar\":{\"outlinewidth\":0,\"ticks\":\"\"},\"colorscale\":[[0.0,\"#0d0887\"],[0.1111111111111111,\"#46039f\"],[0.2222222222222222,\"#7201a8\"],[0.3333333333333333,\"#9c179e\"],[0.4444444444444444,\"#bd3786\"],[0.5555555555555556,\"#d8576b\"],[0.6666666666666666,\"#ed7953\"],[0.7777777777777778,\"#fb9f3a\"],[0.8888888888888888,\"#fdca26\"],[1.0,\"#f0f921\"]]}],\"heatmapgl\":[{\"type\":\"heatmapgl\",\"colorbar\":{\"outlinewidth\":0,\"ticks\":\"\"},\"colorscale\":[[0.0,\"#0d0887\"],[0.1111111111111111,\"#46039f\"],[0.2222222222222222,\"#7201a8\"],[0.3333333333333333,\"#9c179e\"],[0.4444444444444444,\"#bd3786\"],[0.5555555555555556,\"#d8576b\"],[0.6666666666666666,\"#ed7953\"],[0.7777777777777778,\"#fb9f3a\"],[0.8888888888888888,\"#fdca26\"],[1.0,\"#f0f921\"]]}],\"contourcarpet\":[{\"type\":\"contourcarpet\",\"colorbar\":{\"outlinewidth\":0,\"ticks\":\"\"}}],\"contour\":[{\"type\":\"contour\",\"colorbar\":{\"outlinewidth\":0,\"ticks\":\"\"},\"colorscale\":[[0.0,\"#0d0887\"],[0.1111111111111111,\"#46039f\"],[0.2222222222222222,\"#7201a8\"],[0.3333333333333333,\"#9c179e\"],[0.4444444444444444,\"#bd3786\"],[0.5555555555555556,\"#d8576b\"],[0.6666666666666666,\"#ed7953\"],[0.7777777777777778,\"#fb9f3a\"],[0.8888888888888888,\"#fdca26\"],[1.0,\"#f0f921\"]]}],\"surface\":[{\"type\":\"surface\",\"colorbar\":{\"outlinewidth\":0,\"ticks\":\"\"},\"colorscale\":[[0.0,\"#0d0887\"],[0.1111111111111111,\"#46039f\"],[0.2222222222222222,\"#7201a8\"],[0.3333333333333333,\"#9c179e\"],[0.4444444444444444,\"#bd3786\"],[0.5555555555555556,\"#d8576b\"],[0.6666666666666666,\"#ed7953\"],[0.7777777777777778,\"#fb9f3a\"],[0.8888888888888888,\"#fdca26\"],[1.0,\"#f0f921\"]]}],\"mesh3d\":[{\"type\":\"mesh3d\",\"colorbar\":{\"outlinewidth\":0,\"ticks\":\"\"}}],\"scatter\":[{\"fillpattern\":{\"fillmode\":\"overlay\",\"size\":10,\"solidity\":0.2},\"type\":\"scatter\"}],\"parcoords\":[{\"type\":\"parcoords\",\"line\":{\"colorbar\":{\"outlinewidth\":0,\"ticks\":\"\"}}}],\"scatterpolargl\":[{\"type\":\"scatterpolargl\",\"marker\":{\"colorbar\":{\"outlinewidth\":0,\"ticks\":\"\"}}}],\"bar\":[{\"error_x\":{\"color\":\"#2a3f5f\"},\"error_y\":{\"color\":\"#2a3f5f\"},\"marker\":{\"line\":{\"color\":\"#E5ECF6\",\"width\":0.5},\"pattern\":{\"fillmode\":\"overlay\",\"size\":10,\"solidity\":0.2}},\"type\":\"bar\"}],\"scattergeo\":[{\"type\":\"scattergeo\",\"marker\":{\"colorbar\":{\"outlinewidth\":0,\"ticks\":\"\"}}}],\"scatterpolar\":[{\"type\":\"scatterpolar\",\"marker\":{\"colorbar\":{\"outlinewidth\":0,\"ticks\":\"\"}}}],\"histogram\":[{\"marker\":{\"pattern\":{\"fillmode\":\"overlay\",\"size\":10,\"solidity\":0.2}},\"type\":\"histogram\"}],\"scattergl\":[{\"type\":\"scattergl\",\"marker\":{\"colorbar\":{\"outlinewidth\":0,\"ticks\":\"\"}}}],\"scatter3d\":[{\"type\":\"scatter3d\",\"line\":{\"colorbar\":{\"outlinewidth\":0,\"ticks\":\"\"}},\"marker\":{\"colorbar\":{\"outlinewidth\":0,\"ticks\":\"\"}}}],\"scattermapbox\":[{\"type\":\"scattermapbox\",\"marker\":{\"colorbar\":{\"outlinewidth\":0,\"ticks\":\"\"}}}],\"scatterternary\":[{\"type\":\"scatterternary\",\"marker\":{\"colorbar\":{\"outlinewidth\":0,\"ticks\":\"\"}}}],\"scattercarpet\":[{\"type\":\"scattercarpet\",\"marker\":{\"colorbar\":{\"outlinewidth\":0,\"ticks\":\"\"}}}],\"carpet\":[{\"aaxis\":{\"endlinecolor\":\"#2a3f5f\",\"gridcolor\":\"white\",\"linecolor\":\"white\",\"minorgridcolor\":\"white\",\"startlinecolor\":\"#2a3f5f\"},\"baxis\":{\"endlinecolor\":\"#2a3f5f\",\"gridcolor\":\"white\",\"linecolor\":\"white\",\"minorgridcolor\":\"white\",\"startlinecolor\":\"#2a3f5f\"},\"type\":\"carpet\"}],\"table\":[{\"cells\":{\"fill\":{\"color\":\"#EBF0F8\"},\"line\":{\"color\":\"white\"}},\"header\":{\"fill\":{\"color\":\"#C8D4E3\"},\"line\":{\"color\":\"white\"}},\"type\":\"table\"}],\"barpolar\":[{\"marker\":{\"line\":{\"color\":\"#E5ECF6\",\"width\":0.5},\"pattern\":{\"fillmode\":\"overlay\",\"size\":10,\"solidity\":0.2}},\"type\":\"barpolar\"}],\"pie\":[{\"automargin\":true,\"type\":\"pie\"}]},\"layout\":{\"autotypenumbers\":\"strict\",\"colorway\":[\"#636efa\",\"#EF553B\",\"#00cc96\",\"#ab63fa\",\"#FFA15A\",\"#19d3f3\",\"#FF6692\",\"#B6E880\",\"#FF97FF\",\"#FECB52\"],\"font\":{\"color\":\"#2a3f5f\"},\"hovermode\":\"closest\",\"hoverlabel\":{\"align\":\"left\"},\"paper_bgcolor\":\"white\",\"plot_bgcolor\":\"#E5ECF6\",\"polar\":{\"bgcolor\":\"#E5ECF6\",\"angularaxis\":{\"gridcolor\":\"white\",\"linecolor\":\"white\",\"ticks\":\"\"},\"radialaxis\":{\"gridcolor\":\"white\",\"linecolor\":\"white\",\"ticks\":\"\"}},\"ternary\":{\"bgcolor\":\"#E5ECF6\",\"aaxis\":{\"gridcolor\":\"white\",\"linecolor\":\"white\",\"ticks\":\"\"},\"baxis\":{\"gridcolor\":\"white\",\"linecolor\":\"white\",\"ticks\":\"\"},\"caxis\":{\"gridcolor\":\"white\",\"linecolor\":\"white\",\"ticks\":\"\"}},\"coloraxis\":{\"colorbar\":{\"outlinewidth\":0,\"ticks\":\"\"}},\"colorscale\":{\"sequential\":[[0.0,\"#0d0887\"],[0.1111111111111111,\"#46039f\"],[0.2222222222222222,\"#7201a8\"],[0.3333333333333333,\"#9c179e\"],[0.4444444444444444,\"#bd3786\"],[0.5555555555555556,\"#d8576b\"],[0.6666666666666666,\"#ed7953\"],[0.7777777777777778,\"#fb9f3a\"],[0.8888888888888888,\"#fdca26\"],[1.0,\"#f0f921\"]],\"sequentialminus\":[[0.0,\"#0d0887\"],[0.1111111111111111,\"#46039f\"],[0.2222222222222222,\"#7201a8\"],[0.3333333333333333,\"#9c179e\"],[0.4444444444444444,\"#bd3786\"],[0.5555555555555556,\"#d8576b\"],[0.6666666666666666,\"#ed7953\"],[0.7777777777777778,\"#fb9f3a\"],[0.8888888888888888,\"#fdca26\"],[1.0,\"#f0f921\"]],\"diverging\":[[0,\"#8e0152\"],[0.1,\"#c51b7d\"],[0.2,\"#de77ae\"],[0.3,\"#f1b6da\"],[0.4,\"#fde0ef\"],[0.5,\"#f7f7f7\"],[0.6,\"#e6f5d0\"],[0.7,\"#b8e186\"],[0.8,\"#7fbc41\"],[0.9,\"#4d9221\"],[1,\"#276419\"]]},\"xaxis\":{\"gridcolor\":\"white\",\"linecolor\":\"white\",\"ticks\":\"\",\"title\":{\"standoff\":15},\"zerolinecolor\":\"white\",\"automargin\":true,\"zerolinewidth\":2},\"yaxis\":{\"gridcolor\":\"white\",\"linecolor\":\"white\",\"ticks\":\"\",\"title\":{\"standoff\":15},\"zerolinecolor\":\"white\",\"automargin\":true,\"zerolinewidth\":2},\"scene\":{\"xaxis\":{\"backgroundcolor\":\"#E5ECF6\",\"gridcolor\":\"white\",\"linecolor\":\"white\",\"showbackground\":true,\"ticks\":\"\",\"zerolinecolor\":\"white\",\"gridwidth\":2},\"yaxis\":{\"backgroundcolor\":\"#E5ECF6\",\"gridcolor\":\"white\",\"linecolor\":\"white\",\"showbackground\":true,\"ticks\":\"\",\"zerolinecolor\":\"white\",\"gridwidth\":2},\"zaxis\":{\"backgroundcolor\":\"#E5ECF6\",\"gridcolor\":\"white\",\"linecolor\":\"white\",\"showbackground\":true,\"ticks\":\"\",\"zerolinecolor\":\"white\",\"gridwidth\":2}},\"shapedefaults\":{\"line\":{\"color\":\"#2a3f5f\"}},\"annotationdefaults\":{\"arrowcolor\":\"#2a3f5f\",\"arrowhead\":0,\"arrowwidth\":1},\"geo\":{\"bgcolor\":\"white\",\"landcolor\":\"#E5ECF6\",\"subunitcolor\":\"white\",\"showland\":true,\"showlakes\":true,\"lakecolor\":\"white\"},\"title\":{\"x\":0.05},\"mapbox\":{\"style\":\"light\"}}}},                        {\"responsive\": true}                    ).then(function(){\n",
       "                            \n",
       "var gd = document.getElementById('0a8f4674-0e67-4eac-be9e-3f70528202f8');\n",
       "var x = new MutationObserver(function (mutations, observer) {{\n",
       "        var display = window.getComputedStyle(gd).display;\n",
       "        if (!display || display === 'none') {{\n",
       "            console.log([gd, 'removed!']);\n",
       "            Plotly.purge(gd);\n",
       "            observer.disconnect();\n",
       "        }}\n",
       "}});\n",
       "\n",
       "// Listen for the removal of the full notebook cells\n",
       "var notebookContainer = gd.closest('#notebook-container');\n",
       "if (notebookContainer) {{\n",
       "    x.observe(notebookContainer, {childList: true});\n",
       "}}\n",
       "\n",
       "// Listen for the clearing of the current output cell\n",
       "var outputEl = gd.closest('.output');\n",
       "if (outputEl) {{\n",
       "    x.observe(outputEl, {childList: true});\n",
       "}}\n",
       "\n",
       "                        })                };                });            </script>        </div>"
      ]
     },
     "metadata": {},
     "output_type": "display_data"
    }
   ],
   "source": [
    "# Data\n",
    "y = freq_old\n",
    "x = list(range(len(freq_old)))\n",
    "\n",
    "# Create a Bar trace\n",
    "trace = go.Bar(x=x, y=y)\n",
    "x_tick_labels = ['Nov', 'Dec', 'Jan', 'Feb']\n",
    "\n",
    "# Create a layout\n",
    "layout = go.Layout(title='Bar Graph', yaxis=dict(title='Value'), \n",
    "                   xaxis=dict(ticktext=x_tick_labels, tickvals=x))\n",
    "xaxis=dict(ticktext=x_tick_labels, tickvals=x)\n",
    "\n",
    "\n",
    "# Create a Figure\n",
    "fig = go.Figure(data=[trace], layout=layout)\n",
    "\n",
    "# Show the plot\n",
    "fig.show()"
   ]
  },
  {
   "cell_type": "markdown",
   "id": "31a54968",
   "metadata": {},
   "source": [
    "---"
   ]
  },
  {
   "cell_type": "markdown",
   "id": "ec708891",
   "metadata": {},
   "source": [
    "## 👉 Finding no. 7\n",
    "### ➡️ Calculate Gross Order Value (gov) and Average order value (aov)"
   ]
  },
  {
   "cell_type": "markdown",
   "id": "ea281470",
   "metadata": {},
   "source": [
    "### Just for understanding 👇"
   ]
  },
  {
   "cell_type": "code",
   "execution_count": 106,
   "id": "5071a958",
   "metadata": {},
   "outputs": [
    {
     "data": {
      "text/plain": [
       "239"
      ]
     },
     "execution_count": 106,
     "metadata": {},
     "output_type": "execute_result"
    }
   ],
   "source": [
    "# view the data to look for the columns that are required to calculate gov\n",
    "ecomm_Data.price[ecomm_Data['order_number'] == 'P2211010000804'].sum()"
   ]
  },
  {
   "cell_type": "code",
   "execution_count": 107,
   "id": "8d50cde3",
   "metadata": {},
   "outputs": [
    {
     "data": {
      "text/plain": [
       "0"
      ]
     },
     "execution_count": 107,
     "metadata": {},
     "output_type": "execute_result"
    }
   ],
   "source": [
    "ecomm_Data.total_discount[ecomm_Data['order_number'] == 'P2211010000804'].unique()[0]"
   ]
  },
  {
   "cell_type": "code",
   "execution_count": 109,
   "id": "66888a48",
   "metadata": {},
   "outputs": [
    {
     "data": {
      "text/plain": [
       "27"
      ]
     },
     "execution_count": 109,
     "metadata": {},
     "output_type": "execute_result"
    }
   ],
   "source": [
    "ecomm_Data.total_store_credit[ecomm_Data['order_number'] == 'P2211010000804'].unique()[0]"
   ]
  },
  {
   "cell_type": "code",
   "execution_count": 110,
   "id": "0356bf42",
   "metadata": {},
   "outputs": [
    {
     "data": {
      "text/plain": [
       "39"
      ]
     },
     "execution_count": 110,
     "metadata": {},
     "output_type": "execute_result"
    }
   ],
   "source": [
    "ecomm_Data.total_shipping_charges[ecomm_Data['order_number'] == 'P2211010000804'].unique()[0]"
   ]
  },
  {
   "cell_type": "code",
   "execution_count": 113,
   "id": "3e02e81c",
   "metadata": {},
   "outputs": [
    {
     "data": {
      "text/plain": [
       "251"
      ]
     },
     "execution_count": 113,
     "metadata": {},
     "output_type": "execute_result"
    }
   ],
   "source": [
    "# sum(Price) - Sum(discount) - unique(total_Store_credit) + total_shipping_charges\n",
    "239-0-27+39"
   ]
  },
  {
   "cell_type": "markdown",
   "id": "25fa3f14",
   "metadata": {},
   "source": [
    "---"
   ]
  },
  {
   "cell_type": "markdown",
   "id": "1dab2c8c",
   "metadata": {},
   "source": [
    "## 👉 Average order value (Aov)\n",
    "### ➡️ Average order value is calculated by  \n",
    "$$\n",
    "Aov = \\frac{sum\\ of\\ product\\ prices + sum\\ of\\ shipping\\ charges - sum\\ of\\ store\\ credits - sum\\ of\\ discounts}{total\\ unique\\ orders}\n",
    "$$"
   ]
  },
  {
   "cell_type": "code",
   "execution_count": 130,
   "id": "fc73a51a",
   "metadata": {},
   "outputs": [],
   "source": [
    "sum_price = ecomm_Data.price.sum()"
   ]
  },
  {
   "cell_type": "code",
   "execution_count": 133,
   "id": "aac5211a",
   "metadata": {},
   "outputs": [],
   "source": [
    "sum_store_credit = ecomm_Data.groupby('order_number').total_store_credit.unique().sum()[0]"
   ]
  },
  {
   "cell_type": "code",
   "execution_count": 134,
   "id": "0b11c8c0",
   "metadata": {},
   "outputs": [],
   "source": [
    "sum_total_discount = ecomm_Data.groupby('order_number').total_discount.unique().sum()[0]"
   ]
  },
  {
   "cell_type": "code",
   "execution_count": 135,
   "id": "49652460",
   "metadata": {},
   "outputs": [],
   "source": [
    "sum_total_shipping_charges = ecomm_Data.groupby('order_number').total_shipping_charges.unique().sum()[0]"
   ]
  },
  {
   "cell_type": "code",
   "execution_count": 151,
   "id": "503ee743",
   "metadata": {},
   "outputs": [],
   "source": [
    "Total_number_of_order = ecomm_Data.order_number.nunique()"
   ]
  },
  {
   "cell_type": "code",
   "execution_count": 167,
   "id": "1b511889",
   "metadata": {},
   "outputs": [],
   "source": [
    "Aov = (sum_price + sum_total_shipping_charges - sum_store_credit - sum_total_discount)/(Total_number_of_order)"
   ]
  },
  {
   "cell_type": "code",
   "execution_count": 168,
   "id": "1d104c12",
   "metadata": {},
   "outputs": [
    {
     "data": {
      "text/plain": [
       "326.8042044056804"
      ]
     },
     "execution_count": 168,
     "metadata": {},
     "output_type": "execute_result"
    }
   ],
   "source": [
    "Aov"
   ]
  },
  {
   "cell_type": "markdown",
   "id": "960ad6c7",
   "metadata": {},
   "source": [
    "### ➡️ Therefore, Average order value for the data set is 326.804"
   ]
  },
  {
   "cell_type": "markdown",
   "id": "d97b5ea9",
   "metadata": {},
   "source": [
    "---"
   ]
  },
  {
   "cell_type": "markdown",
   "id": "1b366e52",
   "metadata": {},
   "source": [
    "## 👉 Gross Order value (Gov)\n",
    "### ➡️ Gross order value is calculated by  \n",
    "$$\n",
    "Aov = \\frac{sum\\ of\\ product\\ prices\\ (amount\\ without\\ any\\ deductions) }{total\\ unique\\ orders}\n",
    "$$"
   ]
  },
  {
   "cell_type": "code",
   "execution_count": 170,
   "id": "c20de25f",
   "metadata": {},
   "outputs": [],
   "source": [
    "Gov = sum_price / Total_number_of_order"
   ]
  },
  {
   "cell_type": "code",
   "execution_count": 171,
   "id": "40579a90",
   "metadata": {},
   "outputs": [
    {
     "data": {
      "text/plain": [
       "559.6848484848484"
      ]
     },
     "execution_count": 171,
     "metadata": {},
     "output_type": "execute_result"
    }
   ],
   "source": [
    "Gov"
   ]
  },
  {
   "cell_type": "markdown",
   "id": "edc622d9",
   "metadata": {},
   "source": [
    "### ➡️ Therefore, Gross order value for the data set is 559.69"
   ]
  },
  {
   "cell_type": "markdown",
   "id": "6d1d9249",
   "metadata": {},
   "source": [
    "---"
   ]
  },
  {
   "cell_type": "markdown",
   "id": "8d8e34eb",
   "metadata": {},
   "source": [
    "## 👉 Power User (Customer with most transactions)"
   ]
  },
  {
   "cell_type": "code",
   "execution_count": 279,
   "id": "368e1807",
   "metadata": {},
   "outputs": [
    {
     "data": {
      "text/plain": [
       "user_id\n",
       "17504    765\n",
       "Name: order_number, dtype: int64"
      ]
     },
     "execution_count": 279,
     "metadata": {},
     "output_type": "execute_result"
    }
   ],
   "source": [
    "ecomm_Data.groupby('user_id').order_number.count().sort_values().tail(1)"
   ]
  },
  {
   "cell_type": "markdown",
   "id": "a0deadf8",
   "metadata": {},
   "source": [
    "### ➡️ Therefore, User with user id \"17504\" is the Power user for the period of November to February."
   ]
  },
  {
   "cell_type": "markdown",
   "id": "84f96f2c",
   "metadata": {},
   "source": [
    "---"
   ]
  },
  {
   "cell_type": "code",
   "execution_count": 284,
   "id": "a66da021",
   "metadata": {},
   "outputs": [
    {
     "data": {
      "text/plain": [
       "array([ 2,  1, 12, 11], dtype=int64)"
      ]
     },
     "execution_count": 284,
     "metadata": {},
     "output_type": "execute_result"
    }
   ],
   "source": [
    "ecomm_Data.month.unique()"
   ]
  },
  {
   "cell_type": "code",
   "execution_count": null,
   "id": "cc5c7b65",
   "metadata": {},
   "outputs": [],
   "source": [
    "ecomm_Data_Nov = ecomm_Data[ecomm_Data.month == 11]"
   ]
  },
  {
   "cell_type": "code",
   "execution_count": 288,
   "id": "38441c1a",
   "metadata": {},
   "outputs": [
    {
     "data": {
      "text/plain": [
       "user_id\n",
       "17504    208\n",
       "Name: order_number, dtype: int64"
      ]
     },
     "execution_count": 288,
     "metadata": {},
     "output_type": "execute_result"
    }
   ],
   "source": [
    "ecomm_Data_Nov.groupby('user_id').order_number.count().sort_values().tail(1)"
   ]
  },
  {
   "cell_type": "code",
   "execution_count": 289,
   "id": "71120063",
   "metadata": {},
   "outputs": [],
   "source": [
    "ecomm_Data_Dec = ecomm_Data[ecomm_Data.month == 12]"
   ]
  },
  {
   "cell_type": "code",
   "execution_count": 292,
   "id": "6dc84a2a",
   "metadata": {},
   "outputs": [
    {
     "data": {
      "text/plain": [
       "user_id\n",
       "17504    167\n",
       "Name: order_number, dtype: int64"
      ]
     },
     "execution_count": 292,
     "metadata": {},
     "output_type": "execute_result"
    }
   ],
   "source": [
    "ecomm_Data_Dec.groupby('user_id').order_number.count().sort_values().tail(1)"
   ]
  },
  {
   "cell_type": "code",
   "execution_count": 290,
   "id": "1ec5f311",
   "metadata": {},
   "outputs": [],
   "source": [
    "ecomm_Data_Jan = ecomm_Data[ecomm_Data.month == 1]"
   ]
  },
  {
   "cell_type": "code",
   "execution_count": 293,
   "id": "eb22d136",
   "metadata": {},
   "outputs": [
    {
     "data": {
      "text/plain": [
       "user_id\n",
       "17504    222\n",
       "Name: order_number, dtype: int64"
      ]
     },
     "execution_count": 293,
     "metadata": {},
     "output_type": "execute_result"
    }
   ],
   "source": [
    "ecomm_Data_Jan.groupby('user_id').order_number.count().sort_values().tail(1)"
   ]
  },
  {
   "cell_type": "code",
   "execution_count": 294,
   "id": "5a0340cf",
   "metadata": {},
   "outputs": [],
   "source": [
    "ecomm_Data_Feb = ecomm_Data[ecomm_Data.month == 2]"
   ]
  },
  {
   "cell_type": "code",
   "execution_count": 295,
   "id": "25868f0b",
   "metadata": {},
   "outputs": [
    {
     "data": {
      "text/plain": [
       "user_id\n",
       "203    252\n",
       "Name: order_number, dtype: int64"
      ]
     },
     "execution_count": 295,
     "metadata": {},
     "output_type": "execute_result"
    }
   ],
   "source": [
    "ecomm_Data_Feb.groupby('user_id').order_number.count().sort_values().tail(1)"
   ]
  },
  {
   "cell_type": "markdown",
   "id": "52bc704e",
   "metadata": {},
   "source": [
    "### ➡️ Therefore, Power User for the month Nov,Dec,Jan is \"17504\" with 208,167,222 transactions respectively & for the month February is \"203\" with 252 number of transactions."
   ]
  },
  {
   "cell_type": "markdown",
   "id": "7599513b",
   "metadata": {},
   "source": [
    "---"
   ]
  }
 ],
 "metadata": {
  "kernelspec": {
   "display_name": "Python 3 (ipykernel)",
   "language": "python",
   "name": "python3"
  },
  "language_info": {
   "codemirror_mode": {
    "name": "ipython",
    "version": 3
   },
   "file_extension": ".py",
   "mimetype": "text/x-python",
   "name": "python",
   "nbconvert_exporter": "python",
   "pygments_lexer": "ipython3",
   "version": "3.8.10"
  }
 },
 "nbformat": 4,
 "nbformat_minor": 5
}
